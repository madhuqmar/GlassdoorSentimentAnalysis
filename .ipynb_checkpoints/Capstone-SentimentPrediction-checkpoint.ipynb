{
 "cells": [
  {
   "cell_type": "markdown",
   "metadata": {},
   "source": [
    "# Import Dependencies"
   ]
  },
  {
   "cell_type": "code",
   "execution_count": 53,
   "metadata": {},
   "outputs": [],
   "source": [
    "import os\n",
    "import pandas as pd\n",
    "import numpy as np\n",
    "from pandas import DataFrame\n",
    "from time import time\n",
    "from matplotlib import pyplot as plt\n",
    "\n",
    "from sklearn.feature_extraction.text import CountVectorizer, TfidfVectorizer\n",
    "from sklearn.feature_extraction.text import HashingVectorizer\n",
    "from sklearn.utils import resample\n",
    "\n",
    "#models\n",
    "from sklearn.ensemble import RandomForestClassifier\n",
    "from sklearn.linear_model import LogisticRegression\n",
    "\n",
    "#metrics & evaluation\n",
    "from sklearn.model_selection import cross_val_score, train_test_split\n",
    "from sklearn.metrics import classification_report, confusion_matrix, accuracy_score, \\\n",
    "precision_score, recall_score\n",
    "from sklearn import metrics\n",
    "\n",
    "#nlp tools\n",
    "from nltk.corpus import stopwords\n",
    "from nltk.tokenize import word_tokenize\n",
    "from textblob import Word\n",
    "from textblob import TextBlob\n",
    "\n",
    "%matplotlib inline"
   ]
  },
  {
   "cell_type": "markdown",
   "metadata": {},
   "source": [
    "# Read into Python"
   ]
  },
  {
   "cell_type": "code",
   "execution_count": 3,
   "metadata": {},
   "outputs": [
    {
     "data": {
      "text/html": [
       "<div>\n",
       "<style scoped>\n",
       "    .dataframe tbody tr th:only-of-type {\n",
       "        vertical-align: middle;\n",
       "    }\n",
       "\n",
       "    .dataframe tbody tr th {\n",
       "        vertical-align: top;\n",
       "    }\n",
       "\n",
       "    .dataframe thead th {\n",
       "        text-align: right;\n",
       "    }\n",
       "</style>\n",
       "<table border=\"1\" class=\"dataframe\">\n",
       "  <thead>\n",
       "    <tr style=\"text-align: right;\">\n",
       "      <th></th>\n",
       "      <th>Unnamed: 0</th>\n",
       "      <th>full_review</th>\n",
       "      <th>clean_review</th>\n",
       "      <th>country</th>\n",
       "      <th>word_count</th>\n",
       "      <th>label</th>\n",
       "      <th>class</th>\n",
       "    </tr>\n",
       "  </thead>\n",
       "  <tbody>\n",
       "    <tr>\n",
       "      <th>0</th>\n",
       "      <td>0</td>\n",
       "      <td>Best Company to work for. People are smart and...</td>\n",
       "      <td>best company to work for people are smart and ...</td>\n",
       "      <td>none</td>\n",
       "      <td>16</td>\n",
       "      <td>positive</td>\n",
       "      <td>1</td>\n",
       "    </tr>\n",
       "    <tr>\n",
       "      <th>1</th>\n",
       "      <td>1</td>\n",
       "      <td>Moving at the speed of light, burn out is inev...</td>\n",
       "      <td>moving at the speed of light burn out is inevi...</td>\n",
       "      <td>United States of America</td>\n",
       "      <td>708</td>\n",
       "      <td>positive</td>\n",
       "      <td>1</td>\n",
       "    </tr>\n",
       "    <tr>\n",
       "      <th>2</th>\n",
       "      <td>2</td>\n",
       "      <td>Great balance between big-company security and...</td>\n",
       "      <td>great balance between bigcompany security and ...</td>\n",
       "      <td>United States of America</td>\n",
       "      <td>805</td>\n",
       "      <td>positive</td>\n",
       "      <td>1</td>\n",
       "    </tr>\n",
       "    <tr>\n",
       "      <th>3</th>\n",
       "      <td>3</td>\n",
       "      <td>The best place I've worked and also the most d...</td>\n",
       "      <td>the best place ive worked and also the most de...</td>\n",
       "      <td>United States of America</td>\n",
       "      <td>836</td>\n",
       "      <td>positive</td>\n",
       "      <td>1</td>\n",
       "    </tr>\n",
       "    <tr>\n",
       "      <th>4</th>\n",
       "      <td>4</td>\n",
       "      <td>Unique, one of a kind dream job. Google is a w...</td>\n",
       "      <td>unique one of a kind dream job google is a wor...</td>\n",
       "      <td>United States of America</td>\n",
       "      <td>2281</td>\n",
       "      <td>positive</td>\n",
       "      <td>1</td>\n",
       "    </tr>\n",
       "  </tbody>\n",
       "</table>\n",
       "</div>"
      ],
      "text/plain": [
       "   Unnamed: 0                                        full_review  \\\n",
       "0           0  Best Company to work for. People are smart and...   \n",
       "1           1  Moving at the speed of light, burn out is inev...   \n",
       "2           2  Great balance between big-company security and...   \n",
       "3           3  The best place I've worked and also the most d...   \n",
       "4           4  Unique, one of a kind dream job. Google is a w...   \n",
       "\n",
       "                                        clean_review  \\\n",
       "0  best company to work for people are smart and ...   \n",
       "1  moving at the speed of light burn out is inevi...   \n",
       "2  great balance between bigcompany security and ...   \n",
       "3  the best place ive worked and also the most de...   \n",
       "4  unique one of a kind dream job google is a wor...   \n",
       "\n",
       "                    country  word_count     label  class  \n",
       "0                      none          16  positive      1  \n",
       "1  United States of America         708  positive      1  \n",
       "2  United States of America         805  positive      1  \n",
       "3  United States of America         836  positive      1  \n",
       "4  United States of America        2281  positive      1  "
      ]
     },
     "execution_count": 3,
     "metadata": {},
     "output_type": "execute_result"
    }
   ],
   "source": [
    "#load dataset\n",
    "df = pd.read_csv('/Users/madhukumar/Desktop/Portfolio/github/glassdoor-sentiment/data/employee_reviews_with_features.csv')\n",
    "df.head()"
   ]
  },
  {
   "cell_type": "code",
   "execution_count": 4,
   "metadata": {},
   "outputs": [],
   "source": [
    "df.drop(['Unnamed: 0', 'country'], axis=1, inplace=True)"
   ]
  },
  {
   "cell_type": "code",
   "execution_count": 5,
   "metadata": {},
   "outputs": [],
   "source": [
    "df.rename(columns={'clean_review':'text'}, inplace=True)"
   ]
  },
  {
   "cell_type": "code",
   "execution_count": 68,
   "metadata": {},
   "outputs": [
    {
     "data": {
      "text/html": [
       "<div>\n",
       "<style scoped>\n",
       "    .dataframe tbody tr th:only-of-type {\n",
       "        vertical-align: middle;\n",
       "    }\n",
       "\n",
       "    .dataframe tbody tr th {\n",
       "        vertical-align: top;\n",
       "    }\n",
       "\n",
       "    .dataframe thead th {\n",
       "        text-align: right;\n",
       "    }\n",
       "</style>\n",
       "<table border=\"1\" class=\"dataframe\">\n",
       "  <thead>\n",
       "    <tr style=\"text-align: right;\">\n",
       "      <th></th>\n",
       "      <th>full_review</th>\n",
       "      <th>text</th>\n",
       "      <th>word_count</th>\n",
       "      <th>label</th>\n",
       "      <th>class</th>\n",
       "    </tr>\n",
       "  </thead>\n",
       "  <tbody>\n",
       "    <tr>\n",
       "      <th>0</th>\n",
       "      <td>Best Company to work for. People are smart and...</td>\n",
       "      <td>best company to work for people are smart and ...</td>\n",
       "      <td>16</td>\n",
       "      <td>positive</td>\n",
       "      <td>1</td>\n",
       "    </tr>\n",
       "    <tr>\n",
       "      <th>1</th>\n",
       "      <td>Moving at the speed of light, burn out is inev...</td>\n",
       "      <td>moving at the speed of light burn out is inevi...</td>\n",
       "      <td>708</td>\n",
       "      <td>positive</td>\n",
       "      <td>1</td>\n",
       "    </tr>\n",
       "    <tr>\n",
       "      <th>2</th>\n",
       "      <td>Great balance between big-company security and...</td>\n",
       "      <td>great balance between bigcompany security and ...</td>\n",
       "      <td>805</td>\n",
       "      <td>positive</td>\n",
       "      <td>1</td>\n",
       "    </tr>\n",
       "    <tr>\n",
       "      <th>3</th>\n",
       "      <td>The best place I've worked and also the most d...</td>\n",
       "      <td>the best place ive worked and also the most de...</td>\n",
       "      <td>836</td>\n",
       "      <td>positive</td>\n",
       "      <td>1</td>\n",
       "    </tr>\n",
       "    <tr>\n",
       "      <th>4</th>\n",
       "      <td>Unique, one of a kind dream job. Google is a w...</td>\n",
       "      <td>unique one of a kind dream job google is a wor...</td>\n",
       "      <td>2281</td>\n",
       "      <td>positive</td>\n",
       "      <td>1</td>\n",
       "    </tr>\n",
       "  </tbody>\n",
       "</table>\n",
       "</div>"
      ],
      "text/plain": [
       "                                         full_review  \\\n",
       "0  Best Company to work for. People are smart and...   \n",
       "1  Moving at the speed of light, burn out is inev...   \n",
       "2  Great balance between big-company security and...   \n",
       "3  The best place I've worked and also the most d...   \n",
       "4  Unique, one of a kind dream job. Google is a w...   \n",
       "\n",
       "                                                text  word_count     label  \\\n",
       "0  best company to work for people are smart and ...          16  positive   \n",
       "1  moving at the speed of light burn out is inevi...         708  positive   \n",
       "2  great balance between bigcompany security and ...         805  positive   \n",
       "3  the best place ive worked and also the most de...         836  positive   \n",
       "4  unique one of a kind dream job google is a wor...        2281  positive   \n",
       "\n",
       "   class  \n",
       "0      1  \n",
       "1      1  \n",
       "2      1  \n",
       "3      1  \n",
       "4      1  "
      ]
     },
     "execution_count": 68,
     "metadata": {},
     "output_type": "execute_result"
    }
   ],
   "source": [
    "df.head()"
   ]
  },
  {
   "cell_type": "code",
   "execution_count": 11,
   "metadata": {},
   "outputs": [
    {
     "data": {
      "text/plain": [
       "(66935, 5)"
      ]
     },
     "execution_count": 11,
     "metadata": {},
     "output_type": "execute_result"
    }
   ],
   "source": [
    "df.shape"
   ]
  },
  {
   "cell_type": "code",
   "execution_count": 12,
   "metadata": {},
   "outputs": [
    {
     "data": {
      "text/plain": [
       "full_review    0\n",
       "text           0\n",
       "word_count     0\n",
       "label          0\n",
       "class          0\n",
       "dtype: int64"
      ]
     },
     "execution_count": 12,
     "metadata": {},
     "output_type": "execute_result"
    }
   ],
   "source": [
    "df.isnull().sum()"
   ]
  },
  {
   "cell_type": "code",
   "execution_count": 13,
   "metadata": {},
   "outputs": [
    {
     "data": {
      "text/plain": [
       "positive    60499\n",
       "negative     5811\n",
       "neutral       625\n",
       "Name: label, dtype: int64"
      ]
     },
     "execution_count": 13,
     "metadata": {},
     "output_type": "execute_result"
    }
   ],
   "source": [
    "df.label.value_counts()"
   ]
  },
  {
   "cell_type": "code",
   "execution_count": 14,
   "metadata": {},
   "outputs": [
    {
     "data": {
      "text/plain": [
       "positive    0.903847\n",
       "negative    0.086816\n",
       "neutral     0.009337\n",
       "Name: label, dtype: float64"
      ]
     },
     "execution_count": 14,
     "metadata": {},
     "output_type": "execute_result"
    }
   ],
   "source": [
    "df['label'].value_counts() / len(df.text)"
   ]
  },
  {
   "cell_type": "markdown",
   "metadata": {},
   "source": [
    "Target class is highly imbalanced"
   ]
  },
  {
   "cell_type": "markdown",
   "metadata": {},
   "source": [
    "# Resampling"
   ]
  },
  {
   "cell_type": "code",
   "execution_count": 15,
   "metadata": {},
   "outputs": [],
   "source": [
    "X = df[['text', 'class']]\n",
    "y = df['class']"
   ]
  },
  {
   "cell_type": "code",
   "execution_count": 16,
   "metadata": {},
   "outputs": [
    {
     "data": {
      "text/plain": [
       "1    60499\n",
       "0     5811\n",
       "2      625\n",
       "Name: class, dtype: int64"
      ]
     },
     "execution_count": 16,
     "metadata": {},
     "output_type": "execute_result"
    }
   ],
   "source": [
    "X['class'].value_counts()"
   ]
  },
  {
   "cell_type": "code",
   "execution_count": 17,
   "metadata": {},
   "outputs": [],
   "source": [
    "X = df[['text', 'class']]\n",
    "y = df['class']\n",
    "\n",
    "X_train, X_test, y_train, y_test = train_test_split(X, y, test_size=.02, random_state= 2000)"
   ]
  },
  {
   "cell_type": "code",
   "execution_count": 18,
   "metadata": {},
   "outputs": [
    {
     "data": {
      "text/plain": [
       "(65596, 2)"
      ]
     },
     "execution_count": 18,
     "metadata": {},
     "output_type": "execute_result"
    }
   ],
   "source": [
    "X_train.shape"
   ]
  },
  {
   "cell_type": "code",
   "execution_count": 19,
   "metadata": {},
   "outputs": [],
   "source": [
    "# separate minority and majority classes\n",
    "negative = X_train[X_train['class'] == 0]\n",
    "positive = X_train[X_train['class'] == 1]\n",
    "neutral = X_train[X_train['class'] == 2]"
   ]
  },
  {
   "cell_type": "code",
   "execution_count": 20,
   "metadata": {},
   "outputs": [
    {
     "data": {
      "text/html": [
       "<div>\n",
       "<style scoped>\n",
       "    .dataframe tbody tr th:only-of-type {\n",
       "        vertical-align: middle;\n",
       "    }\n",
       "\n",
       "    .dataframe tbody tr th {\n",
       "        vertical-align: top;\n",
       "    }\n",
       "\n",
       "    .dataframe thead th {\n",
       "        text-align: right;\n",
       "    }\n",
       "</style>\n",
       "<table border=\"1\" class=\"dataframe\">\n",
       "  <thead>\n",
       "    <tr style=\"text-align: right;\">\n",
       "      <th></th>\n",
       "      <th>text</th>\n",
       "      <th>class</th>\n",
       "    </tr>\n",
       "  </thead>\n",
       "  <tbody>\n",
       "    <tr>\n",
       "      <th>13079</th>\n",
       "      <td>seasonal campus associtate great work environm...</td>\n",
       "      <td>1</td>\n",
       "    </tr>\n",
       "    <tr>\n",
       "      <th>3391</th>\n",
       "      <td>super fun but plenty of ineffeciencies super p...</td>\n",
       "      <td>1</td>\n",
       "    </tr>\n",
       "    <tr>\n",
       "      <th>46974</th>\n",
       "      <td>business specialist professional environment p...</td>\n",
       "      <td>1</td>\n",
       "    </tr>\n",
       "    <tr>\n",
       "      <th>62693</th>\n",
       "      <td>facilities coordinator great place laid out cu...</td>\n",
       "      <td>1</td>\n",
       "    </tr>\n",
       "    <tr>\n",
       "      <th>42170</th>\n",
       "      <td>genius great customer service job stability go...</td>\n",
       "      <td>1</td>\n",
       "    </tr>\n",
       "  </tbody>\n",
       "</table>\n",
       "</div>"
      ],
      "text/plain": [
       "                                                    text  class\n",
       "13079  seasonal campus associtate great work environm...      1\n",
       "3391   super fun but plenty of ineffeciencies super p...      1\n",
       "46974  business specialist professional environment p...      1\n",
       "62693  facilities coordinator great place laid out cu...      1\n",
       "42170  genius great customer service job stability go...      1"
      ]
     },
     "execution_count": 20,
     "metadata": {},
     "output_type": "execute_result"
    }
   ],
   "source": [
    "# upsample minority class\n",
    "negative_upsampled = resample(negative,\n",
    "                          replace=True, # sample with replacement\n",
    "                          n_samples=len(positive), # match number in majority class\n",
    "                          random_state=27) # reproducible results\n",
    "\n",
    "neutral_upsampled = resample(negative,\n",
    "                          replace=True, # sample with replacement\n",
    "                          n_samples=len(positive), # match number in majority class\n",
    "                          random_state=27) # reproducible results\n",
    "\n",
    "# combine majority and upsampled minority\n",
    "df_resampled = pd.concat([positive, neutral, negative_upsampled])\n",
    "\n",
    "# check new class counts\n",
    "df_resampled['class'].value_counts()\n",
    "\n",
    "df_resampled.head()"
   ]
  },
  {
   "cell_type": "code",
   "execution_count": 21,
   "metadata": {},
   "outputs": [
    {
     "data": {
      "text/plain": [
       "(119196, 2)"
      ]
     },
     "execution_count": 21,
     "metadata": {},
     "output_type": "execute_result"
    }
   ],
   "source": [
    "df_resampled.shape"
   ]
  },
  {
   "cell_type": "code",
   "execution_count": 22,
   "metadata": {},
   "outputs": [
    {
     "data": {
      "text/plain": [
       "1    59296\n",
       "0    59296\n",
       "2      604\n",
       "Name: class, dtype: int64"
      ]
     },
     "execution_count": 22,
     "metadata": {},
     "output_type": "execute_result"
    }
   ],
   "source": [
    "df_resampled['class'].value_counts()"
   ]
  },
  {
   "cell_type": "markdown",
   "metadata": {},
   "source": [
    "# Lemmatization"
   ]
  },
  {
   "cell_type": "code",
   "execution_count": 23,
   "metadata": {},
   "outputs": [],
   "source": [
    "# define a function that accepts text and returns a list of lemmas\n",
    "def split_into_lemmas(text):\n",
    "    text = str(text).lower()\n",
    "    words = TextBlob(str(text)).words\n",
    "    return [word.lemmatize() for word in words]"
   ]
  },
  {
   "cell_type": "markdown",
   "metadata": {},
   "source": [
    "# Bag of Words - Vectorization"
   ]
  },
  {
   "cell_type": "markdown",
   "metadata": {},
   "source": [
    "# (1) CountVectorizer"
   ]
  },
  {
   "cell_type": "code",
   "execution_count": 24,
   "metadata": {},
   "outputs": [],
   "source": [
    "cvec = CountVectorizer()"
   ]
  },
  {
   "cell_type": "code",
   "execution_count": 25,
   "metadata": {},
   "outputs": [],
   "source": [
    "stop = stopwords.words('english') \n",
    "#in case custom stopwords will be requires\n",
    "additional_stopwords = \"\"\" \"\"\"\n",
    "\n",
    "stop += additional_stopwords.split()"
   ]
  },
  {
   "cell_type": "code",
   "execution_count": 26,
   "metadata": {},
   "outputs": [],
   "source": [
    "# use split_into_lemmas as the feature extraction function (WARNING: SLOW!)\n",
    "vect = CountVectorizer(stop_words=stop, analyzer=split_into_lemmas)"
   ]
  },
  {
   "cell_type": "code",
   "execution_count": 27,
   "metadata": {},
   "outputs": [
    {
     "data": {
      "text/plain": [
       "CountVectorizer(analyzer='word', binary=False, decode_error='strict',\n",
       "                dtype=<class 'numpy.int64'>, encoding='utf-8', input='content',\n",
       "                lowercase=True, max_df=1.0, max_features=None, min_df=1,\n",
       "                ngram_range=(1, 1), preprocessor=None, stop_words=None,\n",
       "                strip_accents=None, token_pattern='(?u)\\\\b\\\\w\\\\w+\\\\b',\n",
       "                tokenizer=None, vocabulary=None)"
      ]
     },
     "execution_count": 27,
     "metadata": {},
     "output_type": "execute_result"
    }
   ],
   "source": [
    "# Fitting the vectorizer on our training data\n",
    "cvec.fit(df['text'])"
   ]
  },
  {
   "cell_type": "code",
   "execution_count": 28,
   "metadata": {},
   "outputs": [
    {
     "data": {
      "text/plain": [
       "49402"
      ]
     },
     "execution_count": 28,
     "metadata": {},
     "output_type": "execute_result"
    }
   ],
   "source": [
    "# Lets check the length of our data that is in a vectorized state\n",
    "len(cvec.get_feature_names())"
   ]
  },
  {
   "cell_type": "markdown",
   "metadata": {},
   "source": [
    "# Null Accuracy (Baseline)"
   ]
  },
  {
   "cell_type": "code",
   "execution_count": 29,
   "metadata": {},
   "outputs": [],
   "source": [
    "y = df['class']"
   ]
  },
  {
   "cell_type": "code",
   "execution_count": 30,
   "metadata": {},
   "outputs": [
    {
     "data": {
      "text/plain": [
       "1    0.903847\n",
       "Name: class, dtype: float64"
      ]
     },
     "execution_count": 30,
     "metadata": {},
     "output_type": "execute_result"
    }
   ],
   "source": [
    "# calculate null accuracy (for multi-class classification problems)\n",
    "y.value_counts().head(1) / len(y)"
   ]
  },
  {
   "cell_type": "markdown",
   "metadata": {},
   "source": [
    "The model needs to perform better than 90%"
   ]
  },
  {
   "cell_type": "markdown",
   "metadata": {},
   "source": [
    "# Classification Models"
   ]
  },
  {
   "cell_type": "code",
   "execution_count": 31,
   "metadata": {},
   "outputs": [
    {
     "name": "stdout",
     "output_type": "stream",
     "text": [
      "0.8805078416728902\n",
      "              precision    recall  f1-score   support\n",
      "\n",
      "           0       0.43      0.85      0.57       115\n",
      "           1       0.97      0.90      0.94      1203\n",
      "           2       0.00      0.00      0.00        21\n",
      "\n",
      "    accuracy                           0.88      1339\n",
      "   macro avg       0.47      0.58      0.50      1339\n",
      "weighted avg       0.91      0.88      0.89      1339\n",
      "\n"
     ]
    },
    {
     "name": "stderr",
     "output_type": "stream",
     "text": [
      "/Users/madhukumar/anaconda3/lib/python3.7/site-packages/sklearn/linear_model/logistic.py:947: ConvergenceWarning:\n",
      "\n",
      "lbfgs failed to converge. Increase the number of iterations.\n",
      "\n"
     ]
    }
   ],
   "source": [
    "X_train = df_resampled['text']\n",
    "y_train = df_resampled['class']\n",
    "\n",
    "X = df['text']\n",
    "y = df['class']\n",
    "\n",
    "SEED = 2000\n",
    "X_train_null, X_test, y_train_null, y_test = train_test_split(X, y, test_size=.02, random_state=SEED)\n",
    "                                                                                  \n",
    "# Use CountVectorizer\n",
    "vect = CountVectorizer(stop_words=stop, tokenizer = word_tokenize, analyzer=split_into_lemmas, min_df=0.0001,\n",
    "                      max_df = 0.80)\n",
    "\n",
    "# Create document-term matrices\n",
    "X_train_dtm = vect.fit_transform(X_train)\n",
    "X_test_dtm = vect.transform(X_test)\n",
    "\n",
    "# Use LogReg to predict the target class\n",
    "LogReg = LogisticRegression(C=0.2, solver='lbfgs', dual=False, multi_class='multinomial')\n",
    "LogReg.fit(X_train_dtm, y_train)\n",
    "y_pred_class = LogReg.predict(X_test_dtm)\n",
    "\n",
    "# Calculate accuracy\n",
    "print((metrics.accuracy_score(y_test, y_pred_class)))\n",
    "print(classification_report(y_test, LogReg.predict(X_test_dtm)))"
   ]
  },
  {
   "cell_type": "markdown",
   "metadata": {},
   "source": [
    "Looks like the data can't be fit by a logistic regression model"
   ]
  },
  {
   "cell_type": "code",
   "execution_count": 32,
   "metadata": {},
   "outputs": [
    {
     "name": "stdout",
     "output_type": "stream",
     "text": [
      "0.9967730369307995\n",
      "              precision    recall  f1-score   support\n",
      "\n",
      "           0       0.99      0.98      0.99      1411\n",
      "           1       1.00      1.00      1.00     15172\n",
      "           2       1.00      0.87      0.93       151\n",
      "\n",
      "    accuracy                           1.00     16734\n",
      "   macro avg       1.00      0.95      0.97     16734\n",
      "weighted avg       1.00      1.00      1.00     16734\n",
      "\n"
     ]
    }
   ],
   "source": [
    "X_train = df_resampled['text']\n",
    "y_train = df_resampled['class']\n",
    "\n",
    "X = df['text']\n",
    "y= df['class']\n",
    "\n",
    "X_train_null, X_test, y_train_null, y_test = train_test_split(X, y, random_state=10)\n",
    "\n",
    "\n",
    "vect = CountVectorizer(stop_words=stop, tokenizer = word_tokenize, \n",
    "                                              analyzer=split_into_lemmas, max_features=10000, ngram_range=(1,2))\n",
    "\n",
    "\n",
    "X_train_dtm = vect.fit_transform(X_train)\n",
    "X_test_dtm = vect.transform(X_test)\n",
    "\n",
    "\n",
    "rf = RandomForestClassifier(n_estimators = 10)\n",
    "rf.fit(X_train_dtm, y_train)\n",
    "y_pred_class = rf.predict(X_test_dtm)\n",
    "\n",
    "\n",
    "print((metrics.accuracy_score(y_test, y_pred_class)))\n",
    "print(classification_report(y_test, rf.predict(X_test_dtm)))"
   ]
  },
  {
   "cell_type": "code",
   "execution_count": 33,
   "metadata": {},
   "outputs": [
    {
     "data": {
      "text/plain": [
       "Text(0.5, 1, 'Confusion Matrix')"
      ]
     },
     "execution_count": 33,
     "metadata": {},
     "output_type": "execute_result"
    },
    {
     "data": {
      "image/png": "[encoded data removed]",
      "text/plain": [
       "<Figure size 720x720 with 1 Axes>"
      ]
     },
     "metadata": {
      "needs_background": "light"
     },
     "output_type": "display_data"
    }
   ],
   "source": [
    "conmat = np.array(confusion_matrix(y_test, rf.predict(X_test_dtm)))\n",
    "\n",
    "confusion = pd.DataFrame(conmat, index=['neg', 'neu', 'pos'],\\\n",
    "                     columns=['Pred neg', 'Pred neu', 'Pred pos'])\n",
    "\n",
    "plt.figure(figsize = (10,10))\n",
    "heat = sns.heatmap(confusion, annot=True, annot_kws={\"size\": 20}, cmap='Blues',fmt='g', cbar=False)\n",
    "\n",
    "plt.xticks(rotation=0, fontsize=14)\n",
    "plt.yticks(fontsize=14)\n",
    "plt.title(\"Confusion Matrix\", fontsize=20)"
   ]
  },
  {
   "cell_type": "markdown",
   "metadata": {},
   "source": [
    "# Feature Comparison and Selection"
   ]
  },
  {
   "cell_type": "markdown",
   "metadata": {},
   "source": [
    "- To see if we can improve accuracy scores from the above model\n",
    "- Comparing n-grams and vectorization models"
   ]
  },
  {
   "cell_type": "code",
   "execution_count": 40,
   "metadata": {},
   "outputs": [],
   "source": [
    "X_validation = df_resampled['text']\n",
    "y_validation = df_resampled['class']\n",
    "\n",
    "X = df['text']\n",
    "y = df['label']\n",
    "\n",
    "SEED = 2000\n",
    "X_validation_null, X_test, y_validation_null, y_test = train_test_split(X_validation, \n",
    "                                                              y_validation, test_size=.5, random_state=SEED)"
   ]
  },
  {
   "cell_type": "code",
   "execution_count": 41,
   "metadata": {},
   "outputs": [],
   "source": [
    "def accuracy_summary(pipeline, X_train, y_train, X_test, y_test):\n",
    "    \n",
    "    null_accuracy = 0.90\n",
    "    \n",
    "    t0 = time()\n",
    "    sentiment_fit = pipeline.fit(X_train, y_train)\n",
    "    y_pred = sentiment_fit.predict(X_test)\n",
    "    \n",
    "    train_test_time = time() - t0\n",
    "    accuracy = accuracy_score(y_test, y_pred)\n",
    "    f1 = f1_score(y_test, y_pred, average='weighted')\n",
    "    \n",
    "    print((\"f1 score: {0:.2f}\").format(f1))\n",
    "    \n",
    "    print (\"null accuracy: {0:.2f}%\".format(null_accuracy*100))\n",
    "    print (\"accuracy score: {0:.2f}%\".format(accuracy*100))\n",
    "    \n",
    "    if accuracy > null_accuracy:\n",
    "        print (\"model is {0:.2f}% more accurate than null accuracy\".format((accuracy-null_accuracy)*100))\n",
    "    elif accuracy == null_accuracy:\n",
    "        print (\"model has the same accuracy with the null accuracy\")\n",
    "    else:\n",
    "        print (\"model is {0:.2f}% less accurate than null accuracy\".format((null_accuracy-accuracy)*100))\n",
    "        \n",
    "    print (\"train and test time: {0:.2f}s\".format(train_test_time))\n",
    "    print (\"-\"*80)\n",
    "    return accuracy, train_test_time"
   ]
  },
  {
   "cell_type": "code",
   "execution_count": 42,
   "metadata": {},
   "outputs": [],
   "source": [
    "cvec = CountVectorizer()\n",
    "tvec= TfidfVectorizer()\n",
    "rf = RandomForestClassifier(n_estimators = 10)\n",
    "n_features = np.arange(1000,10001,1000)\n",
    "\n",
    "\n",
    "def nfeature_accuracy_checker(vectorizer=cvec, n_features=n_features, stop_words=stop, ngram_range=(1, 1), classifier=rf):\n",
    "    result = []\n",
    "    \n",
    "    print (classifier)\n",
    "    print (\"\\n\")\n",
    "    \n",
    "    for n in n_features:\n",
    "        max_features=n\n",
    "        vectorizer.set_params(stop_words=stop, max_features=n, ngram_range=ngram_range)\n",
    "        \n",
    "        checker_pipeline = Pipeline([\n",
    "            ('vectorizer', vectorizer),\n",
    "            ('classifier', classifier)\n",
    "        ])\n",
    "        print (\"Validation result for {} features\".format(n))\n",
    "        \n",
    "        nfeature_accuracy,tt_time = accuracy_summary(checker_pipeline, X_train, y_train, X_validation, y_validation)\n",
    "        result.append((n,nfeature_accuracy,tt_time))\n",
    "    \n",
    "    return result\n"
   ]
  },
  {
   "cell_type": "code",
   "execution_count": 43,
   "metadata": {},
   "outputs": [],
   "source": [
    "rf = RandomForestClassifier(n_estimators = 10)\n",
    "hvec = HashingVectorizer()\n",
    "\n",
    "def nfeature_accuracy_checker_forhash(vectorizer=hvec, n_features=n_features, stop_words=stop, ngram_range=(1, 1), classifier=rf):\n",
    "    result = []\n",
    "    \n",
    "    print (classifier)\n",
    "    print (\"\\n\")\n",
    "    \n",
    "    for n in n_features:\n",
    "        max_features=n\n",
    "        vectorizer.set_params(stop_words=stop, n_features=n, ngram_range=ngram_range)\n",
    "        \n",
    "        checker_pipeline = Pipeline([\n",
    "            ('vectorizer', vectorizer),\n",
    "            ('classifier', classifier)\n",
    "        ])\n",
    "        print (\"Validation result for {} features\".format(n))\n",
    "        \n",
    "        nfeature_accuracy,tt_time = accuracy_summary(checker_pipeline, X_train, y_train, X_validation, y_validation)\n",
    "        result.append((n,nfeature_accuracy,tt_time))\n",
    "    \n",
    "    return result"
   ]
  },
  {
   "cell_type": "code",
   "execution_count": 44,
   "metadata": {},
   "outputs": [
    {
     "name": "stdout",
     "output_type": "stream",
     "text": [
      "RESULT FOR UNIGRAM WITH STOP WORDS (Tfidf)\n",
      "\n",
      "RandomForestClassifier(bootstrap=True, class_weight=None, criterion='gini',\n",
      "                       max_depth=None, max_features='auto', max_leaf_nodes=None,\n",
      "                       min_impurity_decrease=0.0, min_impurity_split=None,\n",
      "                       min_samples_leaf=1, min_samples_split=2,\n",
      "                       min_weight_fraction_leaf=0.0, n_estimators=10,\n",
      "                       n_jobs=None, oob_score=False, random_state=None,\n",
      "                       verbose=0, warm_start=False)\n",
      "\n",
      "\n",
      "Validation result for 1000 features\n",
      "f1 score: 1.00\n",
      "null accuracy: 90.00%\n",
      "accuracy score: 99.92%\n",
      "model is 9.92% more accurate than null accuracy\n",
      "train and test time: 40.22s\n",
      "--------------------------------------------------------------------------------\n",
      "Validation result for 2000 features\n",
      "f1 score: 1.00\n",
      "null accuracy: 90.00%\n",
      "accuracy score: 99.92%\n",
      "model is 9.92% more accurate than null accuracy\n",
      "train and test time: 40.05s\n",
      "--------------------------------------------------------------------------------\n",
      "Validation result for 3000 features\n",
      "f1 score: 1.00\n",
      "null accuracy: 90.00%\n",
      "accuracy score: 99.89%\n",
      "model is 9.89% more accurate than null accuracy\n",
      "train and test time: 39.82s\n",
      "--------------------------------------------------------------------------------\n",
      "Validation result for 4000 features\n",
      "f1 score: 1.00\n",
      "null accuracy: 90.00%\n",
      "accuracy score: 99.89%\n",
      "model is 9.89% more accurate than null accuracy\n",
      "train and test time: 37.24s\n",
      "--------------------------------------------------------------------------------\n",
      "Validation result for 5000 features\n",
      "f1 score: 1.00\n",
      "null accuracy: 90.00%\n",
      "accuracy score: 99.92%\n",
      "model is 9.92% more accurate than null accuracy\n",
      "train and test time: 37.74s\n",
      "--------------------------------------------------------------------------------\n",
      "Validation result for 6000 features\n",
      "f1 score: 1.00\n",
      "null accuracy: 90.00%\n",
      "accuracy score: 99.90%\n",
      "model is 9.90% more accurate than null accuracy\n",
      "train and test time: 38.12s\n",
      "--------------------------------------------------------------------------------\n",
      "Validation result for 7000 features\n",
      "f1 score: 1.00\n",
      "null accuracy: 90.00%\n",
      "accuracy score: 99.91%\n",
      "model is 9.91% more accurate than null accuracy\n",
      "train and test time: 37.69s\n",
      "--------------------------------------------------------------------------------\n",
      "Validation result for 8000 features\n",
      "f1 score: 1.00\n",
      "null accuracy: 90.00%\n",
      "accuracy score: 99.91%\n",
      "model is 9.91% more accurate than null accuracy\n",
      "train and test time: 37.14s\n",
      "--------------------------------------------------------------------------------\n",
      "Validation result for 9000 features\n",
      "f1 score: 1.00\n",
      "null accuracy: 90.00%\n",
      "accuracy score: 99.91%\n",
      "model is 9.91% more accurate than null accuracy\n",
      "train and test time: 36.84s\n",
      "--------------------------------------------------------------------------------\n",
      "Validation result for 10000 features\n",
      "f1 score: 1.00\n",
      "null accuracy: 90.00%\n",
      "accuracy score: 99.90%\n",
      "model is 9.90% more accurate than null accuracy\n",
      "train and test time: 37.96s\n",
      "--------------------------------------------------------------------------------\n",
      "CPU times: user 6min 6s, sys: 5.03 s, total: 6min 11s\n",
      "Wall time: 6min 23s\n"
     ]
    }
   ],
   "source": [
    "%%time\n",
    "print (\"RESULT FOR UNIGRAM WITH STOP WORDS (Tfidf)\\n\")\n",
    "feature_result_ugt = nfeature_accuracy_checker(vectorizer=tvec)"
   ]
  },
  {
   "cell_type": "code",
   "execution_count": 45,
   "metadata": {},
   "outputs": [
    {
     "name": "stdout",
     "output_type": "stream",
     "text": [
      "RESULT FOR UNIGRAM WITH STOP WORDS (CountVectorizer)\n",
      "\n",
      "RandomForestClassifier(bootstrap=True, class_weight=None, criterion='gini',\n",
      "                       max_depth=None, max_features='auto', max_leaf_nodes=None,\n",
      "                       min_impurity_decrease=0.0, min_impurity_split=None,\n",
      "                       min_samples_leaf=1, min_samples_split=2,\n",
      "                       min_weight_fraction_leaf=0.0, n_estimators=10,\n",
      "                       n_jobs=None, oob_score=False, random_state=None,\n",
      "                       verbose=0, warm_start=False)\n",
      "\n",
      "\n",
      "Validation result for 1000 features\n",
      "f1 score: 1.00\n",
      "null accuracy: 90.00%\n",
      "accuracy score: 99.91%\n",
      "model is 9.91% more accurate than null accuracy\n",
      "train and test time: 43.64s\n",
      "--------------------------------------------------------------------------------\n",
      "Validation result for 2000 features\n",
      "f1 score: 1.00\n",
      "null accuracy: 90.00%\n",
      "accuracy score: 99.92%\n",
      "model is 9.92% more accurate than null accuracy\n",
      "train and test time: 43.20s\n",
      "--------------------------------------------------------------------------------\n",
      "Validation result for 3000 features\n",
      "f1 score: 1.00\n",
      "null accuracy: 90.00%\n",
      "accuracy score: 99.92%\n",
      "model is 9.92% more accurate than null accuracy\n",
      "train and test time: 41.40s\n",
      "--------------------------------------------------------------------------------\n",
      "Validation result for 4000 features\n",
      "f1 score: 1.00\n",
      "null accuracy: 90.00%\n",
      "accuracy score: 99.91%\n",
      "model is 9.91% more accurate than null accuracy\n",
      "train and test time: 39.99s\n",
      "--------------------------------------------------------------------------------\n",
      "Validation result for 5000 features\n",
      "f1 score: 1.00\n",
      "null accuracy: 90.00%\n",
      "accuracy score: 99.92%\n",
      "model is 9.92% more accurate than null accuracy\n",
      "train and test time: 38.59s\n",
      "--------------------------------------------------------------------------------\n",
      "Validation result for 6000 features\n",
      "f1 score: 1.00\n",
      "null accuracy: 90.00%\n",
      "accuracy score: 99.92%\n",
      "model is 9.92% more accurate than null accuracy\n",
      "train and test time: 38.58s\n",
      "--------------------------------------------------------------------------------\n",
      "Validation result for 7000 features\n",
      "f1 score: 1.00\n",
      "null accuracy: 90.00%\n",
      "accuracy score: 99.91%\n",
      "model is 9.91% more accurate than null accuracy\n",
      "train and test time: 38.35s\n",
      "--------------------------------------------------------------------------------\n",
      "Validation result for 8000 features\n",
      "f1 score: 1.00\n",
      "null accuracy: 90.00%\n",
      "accuracy score: 99.93%\n",
      "model is 9.93% more accurate than null accuracy\n",
      "train and test time: 37.72s\n",
      "--------------------------------------------------------------------------------\n",
      "Validation result for 9000 features\n",
      "f1 score: 1.00\n",
      "null accuracy: 90.00%\n",
      "accuracy score: 99.92%\n",
      "model is 9.92% more accurate than null accuracy\n",
      "train and test time: 37.89s\n",
      "--------------------------------------------------------------------------------\n",
      "Validation result for 10000 features\n",
      "f1 score: 1.00\n",
      "null accuracy: 90.00%\n",
      "accuracy score: 99.93%\n",
      "model is 9.93% more accurate than null accuracy\n",
      "train and test time: 37.76s\n",
      "--------------------------------------------------------------------------------\n",
      "CPU times: user 6min 30s, sys: 3.03 s, total: 6min 33s\n",
      "Wall time: 6min 37s\n"
     ]
    }
   ],
   "source": [
    "%%time\n",
    "print (\"RESULT FOR UNIGRAM WITH STOP WORDS (CountVectorizer)\\n\")\n",
    "feature_result_ugc = nfeature_accuracy_checker(vectorizer=cvec)"
   ]
  },
  {
   "cell_type": "code",
   "execution_count": 47,
   "metadata": {},
   "outputs": [
    {
     "name": "stdout",
     "output_type": "stream",
     "text": [
      "RESULT FOR UNIGRAM WITH STOP WORDS (Hashing)\n",
      "\n",
      "RandomForestClassifier(bootstrap=True, class_weight=None, criterion='gini',\n",
      "                       max_depth=None, max_features='auto', max_leaf_nodes=None,\n",
      "                       min_impurity_decrease=0.0, min_impurity_split=None,\n",
      "                       min_samples_leaf=1, min_samples_split=2,\n",
      "                       min_weight_fraction_leaf=0.0, n_estimators=10,\n",
      "                       n_jobs=None, oob_score=False, random_state=None,\n",
      "                       verbose=0, warm_start=False)\n",
      "\n",
      "\n",
      "Validation result for 1000 features\n",
      "f1 score: 1.00\n",
      "null accuracy: 90.00%\n",
      "accuracy score: 99.91%\n",
      "model is 9.91% more accurate than null accuracy\n",
      "train and test time: 48.06s\n",
      "--------------------------------------------------------------------------------\n",
      "Validation result for 2000 features\n",
      "f1 score: 1.00\n",
      "null accuracy: 90.00%\n",
      "accuracy score: 99.91%\n",
      "model is 9.91% more accurate than null accuracy\n",
      "train and test time: 42.66s\n",
      "--------------------------------------------------------------------------------\n",
      "Validation result for 3000 features\n",
      "f1 score: 1.00\n",
      "null accuracy: 90.00%\n",
      "accuracy score: 99.93%\n",
      "model is 9.93% more accurate than null accuracy\n",
      "train and test time: 38.30s\n",
      "--------------------------------------------------------------------------------\n",
      "Validation result for 4000 features\n",
      "f1 score: 1.00\n",
      "null accuracy: 90.00%\n",
      "accuracy score: 99.92%\n",
      "model is 9.92% more accurate than null accuracy\n",
      "train and test time: 40.14s\n",
      "--------------------------------------------------------------------------------\n",
      "Validation result for 5000 features\n",
      "f1 score: 1.00\n",
      "null accuracy: 90.00%\n",
      "accuracy score: 99.92%\n",
      "model is 9.92% more accurate than null accuracy\n",
      "train and test time: 40.87s\n",
      "--------------------------------------------------------------------------------\n",
      "Validation result for 6000 features\n",
      "f1 score: 1.00\n",
      "null accuracy: 90.00%\n",
      "accuracy score: 99.93%\n",
      "model is 9.93% more accurate than null accuracy\n",
      "train and test time: 44.09s\n",
      "--------------------------------------------------------------------------------\n",
      "Validation result for 7000 features\n",
      "f1 score: 1.00\n",
      "null accuracy: 90.00%\n",
      "accuracy score: 99.91%\n",
      "model is 9.91% more accurate than null accuracy\n",
      "train and test time: 45.40s\n",
      "--------------------------------------------------------------------------------\n",
      "Validation result for 8000 features\n",
      "f1 score: 1.00\n",
      "null accuracy: 90.00%\n",
      "accuracy score: 99.92%\n",
      "model is 9.92% more accurate than null accuracy\n",
      "train and test time: 46.92s\n",
      "--------------------------------------------------------------------------------\n",
      "Validation result for 9000 features\n",
      "f1 score: 1.00\n",
      "null accuracy: 90.00%\n",
      "accuracy score: 99.92%\n",
      "model is 9.92% more accurate than null accuracy\n",
      "train and test time: 59.64s\n",
      "--------------------------------------------------------------------------------\n",
      "Validation result for 10000 features\n",
      "f1 score: 1.00\n",
      "null accuracy: 90.00%\n",
      "accuracy score: 99.91%\n",
      "model is 9.91% more accurate than null accuracy\n",
      "train and test time: 52.55s\n",
      "--------------------------------------------------------------------------------\n",
      "CPU times: user 7min 17s, sys: 4.87 s, total: 7min 22s\n",
      "Wall time: 7min 38s\n"
     ]
    }
   ],
   "source": [
    "%%time\n",
    "hvec = HashingVectorizer()\n",
    "print (\"RESULT FOR UNIGRAM WITH STOP WORDS (Hashing)\\n\")\n",
    "feature_result_ugh = nfeature_accuracy_checker_forhash(vectorizer=hvec)"
   ]
  },
  {
   "cell_type": "code",
   "execution_count": 57,
   "metadata": {},
   "outputs": [
    {
     "name": "stdout",
     "output_type": "stream",
     "text": [
      "RESULT FOR BIGRAMS WITH STOP WORDS (Tfidf)\n",
      "\n",
      "RandomForestClassifier(bootstrap=True, class_weight=None, criterion='gini',\n",
      "                       max_depth=None, max_features='auto', max_leaf_nodes=None,\n",
      "                       min_impurity_decrease=0.0, min_impurity_split=None,\n",
      "                       min_samples_leaf=1, min_samples_split=2,\n",
      "                       min_weight_fraction_leaf=0.0, n_estimators=10,\n",
      "                       n_jobs=None, oob_score=False, random_state=None,\n",
      "                       verbose=0, warm_start=False)\n",
      "\n",
      "\n",
      "Validation result for 1000 features\n",
      "f1 score: 1.00\n",
      "null accuracy: 90.00%\n",
      "accuracy score: 99.90%\n",
      "model is 9.90% more accurate than null accuracy\n",
      "train and test time: 62.62s\n",
      "--------------------------------------------------------------------------------\n",
      "Validation result for 2000 features\n",
      "f1 score: 1.00\n",
      "null accuracy: 90.00%\n",
      "accuracy score: 99.91%\n",
      "model is 9.91% more accurate than null accuracy\n",
      "train and test time: 68.02s\n",
      "--------------------------------------------------------------------------------\n",
      "Validation result for 3000 features\n",
      "f1 score: 1.00\n",
      "null accuracy: 90.00%\n",
      "accuracy score: 99.91%\n",
      "model is 9.91% more accurate than null accuracy\n",
      "train and test time: 65.18s\n",
      "--------------------------------------------------------------------------------\n",
      "Validation result for 4000 features\n",
      "f1 score: 1.00\n",
      "null accuracy: 90.00%\n",
      "accuracy score: 99.90%\n",
      "model is 9.90% more accurate than null accuracy\n",
      "train and test time: 63.98s\n",
      "--------------------------------------------------------------------------------\n",
      "Validation result for 5000 features\n",
      "f1 score: 1.00\n",
      "null accuracy: 90.00%\n",
      "accuracy score: 99.91%\n",
      "model is 9.91% more accurate than null accuracy\n",
      "train and test time: 62.22s\n",
      "--------------------------------------------------------------------------------\n",
      "Validation result for 6000 features\n",
      "f1 score: 1.00\n",
      "null accuracy: 90.00%\n",
      "accuracy score: 99.92%\n",
      "model is 9.92% more accurate than null accuracy\n",
      "train and test time: 58.07s\n",
      "--------------------------------------------------------------------------------\n",
      "Validation result for 7000 features\n",
      "f1 score: 1.00\n",
      "null accuracy: 90.00%\n",
      "accuracy score: 99.91%\n",
      "model is 9.91% more accurate than null accuracy\n",
      "train and test time: 86.39s\n",
      "--------------------------------------------------------------------------------\n",
      "Validation result for 8000 features\n",
      "f1 score: 1.00\n",
      "null accuracy: 90.00%\n",
      "accuracy score: 99.90%\n",
      "model is 9.90% more accurate than null accuracy\n",
      "train and test time: 132.50s\n",
      "--------------------------------------------------------------------------------\n",
      "Validation result for 9000 features\n",
      "f1 score: 1.00\n",
      "null accuracy: 90.00%\n",
      "accuracy score: 99.90%\n",
      "model is 9.90% more accurate than null accuracy\n",
      "train and test time: 160.87s\n",
      "--------------------------------------------------------------------------------\n",
      "Validation result for 10000 features\n",
      "f1 score: 1.00\n",
      "null accuracy: 90.00%\n",
      "accuracy score: 99.91%\n",
      "model is 9.91% more accurate than null accuracy\n",
      "train and test time: 164.49s\n",
      "--------------------------------------------------------------------------------\n",
      "CPU times: user 12min 25s, sys: 19.3 s, total: 12min 44s\n",
      "Wall time: 15min 24s\n"
     ]
    }
   ],
   "source": [
    "%%time\n",
    "print (\"RESULT FOR BIGRAMS WITH STOP WORDS (Tfidf)\\n\")\n",
    "feature_result_bgt = nfeature_accuracy_checker(vectorizer=tvec,ngram_range=(1, 2))"
   ]
  },
  {
   "cell_type": "code",
   "execution_count": 48,
   "metadata": {},
   "outputs": [
    {
     "name": "stdout",
     "output_type": "stream",
     "text": [
      "RESULT FOR BIGRAMS WITH STOP WORDS (CountVectorizer)\n",
      "\n",
      "RandomForestClassifier(bootstrap=True, class_weight=None, criterion='gini',\n",
      "                       max_depth=None, max_features='auto', max_leaf_nodes=None,\n",
      "                       min_impurity_decrease=0.0, min_impurity_split=None,\n",
      "                       min_samples_leaf=1, min_samples_split=2,\n",
      "                       min_weight_fraction_leaf=0.0, n_estimators=10,\n",
      "                       n_jobs=None, oob_score=False, random_state=None,\n",
      "                       verbose=0, warm_start=False)\n",
      "\n",
      "\n",
      "Validation result for 1000 features\n",
      "f1 score: 1.00\n",
      "null accuracy: 90.00%\n",
      "accuracy score: 99.89%\n",
      "model is 9.89% more accurate than null accuracy\n",
      "train and test time: 95.05s\n",
      "--------------------------------------------------------------------------------\n",
      "Validation result for 2000 features\n",
      "f1 score: 1.00\n",
      "null accuracy: 90.00%\n",
      "accuracy score: 99.91%\n",
      "model is 9.91% more accurate than null accuracy\n",
      "train and test time: 95.49s\n",
      "--------------------------------------------------------------------------------\n",
      "Validation result for 3000 features\n",
      "f1 score: 1.00\n",
      "null accuracy: 90.00%\n",
      "accuracy score: 99.91%\n",
      "model is 9.91% more accurate than null accuracy\n",
      "train and test time: 102.54s\n",
      "--------------------------------------------------------------------------------\n",
      "Validation result for 4000 features\n",
      "f1 score: 1.00\n",
      "null accuracy: 90.00%\n",
      "accuracy score: 99.92%\n",
      "model is 9.92% more accurate than null accuracy\n",
      "train and test time: 92.64s\n",
      "--------------------------------------------------------------------------------\n",
      "Validation result for 5000 features\n",
      "f1 score: 1.00\n",
      "null accuracy: 90.00%\n",
      "accuracy score: 99.91%\n",
      "model is 9.91% more accurate than null accuracy\n",
      "train and test time: 112.59s\n",
      "--------------------------------------------------------------------------------\n",
      "Validation result for 6000 features\n",
      "f1 score: 1.00\n",
      "null accuracy: 90.00%\n",
      "accuracy score: 99.91%\n",
      "model is 9.91% more accurate than null accuracy\n",
      "train and test time: 80.78s\n",
      "--------------------------------------------------------------------------------\n",
      "Validation result for 7000 features\n",
      "f1 score: 1.00\n",
      "null accuracy: 90.00%\n",
      "accuracy score: 99.90%\n",
      "model is 9.90% more accurate than null accuracy\n",
      "train and test time: 79.94s\n",
      "--------------------------------------------------------------------------------\n",
      "Validation result for 8000 features\n",
      "f1 score: 1.00\n",
      "null accuracy: 90.00%\n",
      "accuracy score: 99.90%\n",
      "model is 9.90% more accurate than null accuracy\n",
      "train and test time: 81.47s\n",
      "--------------------------------------------------------------------------------\n",
      "Validation result for 9000 features\n",
      "f1 score: 1.00\n",
      "null accuracy: 90.00%\n",
      "accuracy score: 99.90%\n",
      "model is 9.90% more accurate than null accuracy\n",
      "train and test time: 80.89s\n",
      "--------------------------------------------------------------------------------\n",
      "Validation result for 10000 features\n",
      "f1 score: 1.00\n",
      "null accuracy: 90.00%\n",
      "accuracy score: 99.91%\n",
      "model is 9.91% more accurate than null accuracy\n",
      "train and test time: 80.64s\n",
      "--------------------------------------------------------------------------------\n",
      "CPU times: user 13min 30s, sys: 14.3 s, total: 13min 45s\n",
      "Wall time: 15min 2s\n"
     ]
    }
   ],
   "source": [
    "%%time\n",
    "print (\"RESULT FOR BIGRAMS WITH STOP WORDS (CountVectorizer)\\n\")\n",
    "feature_result_bgc = nfeature_accuracy_checker(vectorizer=cvec,ngram_range=(1, 2))"
   ]
  },
  {
   "cell_type": "code",
   "execution_count": 50,
   "metadata": {},
   "outputs": [
    {
     "name": "stdout",
     "output_type": "stream",
     "text": [
      "RESULT FOR BIGRAMS WITH STOP WORDS (Hashing)\n",
      "\n",
      "RandomForestClassifier(bootstrap=True, class_weight=None, criterion='gini',\n",
      "                       max_depth=None, max_features='auto', max_leaf_nodes=None,\n",
      "                       min_impurity_decrease=0.0, min_impurity_split=None,\n",
      "                       min_samples_leaf=1, min_samples_split=2,\n",
      "                       min_weight_fraction_leaf=0.0, n_estimators=10,\n",
      "                       n_jobs=None, oob_score=False, random_state=None,\n",
      "                       verbose=0, warm_start=False)\n",
      "\n",
      "\n",
      "Validation result for 1000 features\n",
      "f1 score: 1.00\n",
      "null accuracy: 90.00%\n",
      "accuracy score: 99.92%\n",
      "model is 9.92% more accurate than null accuracy\n",
      "train and test time: 92.20s\n",
      "--------------------------------------------------------------------------------\n",
      "Validation result for 2000 features\n",
      "f1 score: 1.00\n",
      "null accuracy: 90.00%\n",
      "accuracy score: 99.91%\n",
      "model is 9.91% more accurate than null accuracy\n",
      "train and test time: 90.47s\n",
      "--------------------------------------------------------------------------------\n",
      "Validation result for 3000 features\n",
      "f1 score: 1.00\n",
      "null accuracy: 90.00%\n",
      "accuracy score: 99.91%\n",
      "model is 9.91% more accurate than null accuracy\n",
      "train and test time: 87.70s\n",
      "--------------------------------------------------------------------------------\n",
      "Validation result for 4000 features\n",
      "f1 score: 1.00\n",
      "null accuracy: 90.00%\n",
      "accuracy score: 99.91%\n",
      "model is 9.91% more accurate than null accuracy\n",
      "train and test time: 82.95s\n",
      "--------------------------------------------------------------------------------\n",
      "Validation result for 5000 features\n",
      "f1 score: 1.00\n",
      "null accuracy: 90.00%\n",
      "accuracy score: 99.90%\n",
      "model is 9.90% more accurate than null accuracy\n",
      "train and test time: 110.27s\n",
      "--------------------------------------------------------------------------------\n",
      "Validation result for 6000 features\n",
      "f1 score: 1.00\n",
      "null accuracy: 90.00%\n",
      "accuracy score: 99.91%\n",
      "model is 9.91% more accurate than null accuracy\n",
      "train and test time: 132.11s\n",
      "--------------------------------------------------------------------------------\n",
      "Validation result for 7000 features\n",
      "f1 score: 1.00\n",
      "null accuracy: 90.00%\n",
      "accuracy score: 99.90%\n",
      "model is 9.90% more accurate than null accuracy\n",
      "train and test time: 91.78s\n",
      "--------------------------------------------------------------------------------\n",
      "Validation result for 8000 features\n",
      "f1 score: 1.00\n",
      "null accuracy: 90.00%\n",
      "accuracy score: 99.91%\n",
      "model is 9.91% more accurate than null accuracy\n",
      "train and test time: 98.55s\n",
      "--------------------------------------------------------------------------------\n",
      "Validation result for 9000 features\n",
      "f1 score: 1.00\n",
      "null accuracy: 90.00%\n",
      "accuracy score: 99.89%\n",
      "model is 9.89% more accurate than null accuracy\n",
      "train and test time: 98.13s\n",
      "--------------------------------------------------------------------------------\n",
      "Validation result for 10000 features\n",
      "f1 score: 1.00\n",
      "null accuracy: 90.00%\n",
      "accuracy score: 99.90%\n",
      "model is 9.90% more accurate than null accuracy\n",
      "train and test time: 94.03s\n",
      "--------------------------------------------------------------------------------\n",
      "CPU times: user 14min 22s, sys: 14.2 s, total: 14min 36s\n",
      "Wall time: 16min 18s\n"
     ]
    }
   ],
   "source": [
    "%%time\n",
    "hvec = HashingVectorizer()\n",
    "print (\"RESULT FOR BIGRAMS WITH STOP WORDS (Hashing)\\n\")\n",
    "feature_result_bgh = nfeature_accuracy_checker_forhash(vectorizer=hvec,ngram_range=(1, 2))"
   ]
  },
  {
   "cell_type": "code",
   "execution_count": 51,
   "metadata": {},
   "outputs": [
    {
     "name": "stdout",
     "output_type": "stream",
     "text": [
      "RESULT FOR TRIGRAM WITH STOP WORDS (Tfidf)\n",
      "\n",
      "RandomForestClassifier(bootstrap=True, class_weight=None, criterion='gini',\n",
      "                       max_depth=None, max_features='auto', max_leaf_nodes=None,\n",
      "                       min_impurity_decrease=0.0, min_impurity_split=None,\n",
      "                       min_samples_leaf=1, min_samples_split=2,\n",
      "                       min_weight_fraction_leaf=0.0, n_estimators=10,\n",
      "                       n_jobs=None, oob_score=False, random_state=None,\n",
      "                       verbose=0, warm_start=False)\n",
      "\n",
      "\n",
      "Validation result for 1000 features\n",
      "f1 score: 1.00\n",
      "null accuracy: 90.00%\n",
      "accuracy score: 99.91%\n",
      "model is 9.91% more accurate than null accuracy\n",
      "train and test time: 157.96s\n",
      "--------------------------------------------------------------------------------\n",
      "Validation result for 2000 features\n",
      "f1 score: 1.00\n",
      "null accuracy: 90.00%\n",
      "accuracy score: 99.92%\n",
      "model is 9.92% more accurate than null accuracy\n",
      "train and test time: 102.20s\n",
      "--------------------------------------------------------------------------------\n",
      "Validation result for 3000 features\n",
      "f1 score: 1.00\n",
      "null accuracy: 90.00%\n",
      "accuracy score: 99.91%\n",
      "model is 9.91% more accurate than null accuracy\n",
      "train and test time: 124.89s\n",
      "--------------------------------------------------------------------------------\n",
      "Validation result for 4000 features\n",
      "f1 score: 1.00\n",
      "null accuracy: 90.00%\n",
      "accuracy score: 99.91%\n",
      "model is 9.91% more accurate than null accuracy\n",
      "train and test time: 127.56s\n",
      "--------------------------------------------------------------------------------\n",
      "Validation result for 5000 features\n",
      "f1 score: 1.00\n",
      "null accuracy: 90.00%\n",
      "accuracy score: 99.91%\n",
      "model is 9.91% more accurate than null accuracy\n",
      "train and test time: 120.37s\n",
      "--------------------------------------------------------------------------------\n",
      "Validation result for 6000 features\n",
      "f1 score: 1.00\n",
      "null accuracy: 90.00%\n",
      "accuracy score: 99.91%\n",
      "model is 9.91% more accurate than null accuracy\n",
      "train and test time: 117.92s\n",
      "--------------------------------------------------------------------------------\n",
      "Validation result for 7000 features\n",
      "f1 score: 1.00\n",
      "null accuracy: 90.00%\n",
      "accuracy score: 99.90%\n",
      "model is 9.90% more accurate than null accuracy\n",
      "train and test time: 119.31s\n",
      "--------------------------------------------------------------------------------\n",
      "Validation result for 8000 features\n",
      "f1 score: 1.00\n",
      "null accuracy: 90.00%\n",
      "accuracy score: 99.92%\n",
      "model is 9.92% more accurate than null accuracy\n",
      "train and test time: 113.69s\n",
      "--------------------------------------------------------------------------------\n",
      "Validation result for 9000 features\n",
      "f1 score: 1.00\n",
      "null accuracy: 90.00%\n",
      "accuracy score: 99.90%\n",
      "model is 9.90% more accurate than null accuracy\n",
      "train and test time: 120.87s\n",
      "--------------------------------------------------------------------------------\n",
      "Validation result for 10000 features\n",
      "f1 score: 1.00\n",
      "null accuracy: 90.00%\n",
      "accuracy score: 99.91%\n",
      "model is 9.91% more accurate than null accuracy\n",
      "train and test time: 105.79s\n",
      "--------------------------------------------------------------------------------\n",
      "CPU times: user 18min 8s, sys: 26.8 s, total: 18min 35s\n",
      "Wall time: 20min 10s\n"
     ]
    }
   ],
   "source": [
    "%%time\n",
    "print (\"RESULT FOR TRIGRAM WITH STOP WORDS (Tfidf)\\n\")\n",
    "feature_result_tgt = nfeature_accuracy_checker(vectorizer=tvec,ngram_range=(1, 3))"
   ]
  },
  {
   "cell_type": "code",
   "execution_count": 52,
   "metadata": {},
   "outputs": [
    {
     "name": "stdout",
     "output_type": "stream",
     "text": [
      "RESULT FOR TRIGRAM WITH STOP WORDS (CountVectorizer)\n",
      "\n",
      "RandomForestClassifier(bootstrap=True, class_weight=None, criterion='gini',\n",
      "                       max_depth=None, max_features='auto', max_leaf_nodes=None,\n",
      "                       min_impurity_decrease=0.0, min_impurity_split=None,\n",
      "                       min_samples_leaf=1, min_samples_split=2,\n",
      "                       min_weight_fraction_leaf=0.0, n_estimators=10,\n",
      "                       n_jobs=None, oob_score=False, random_state=None,\n",
      "                       verbose=0, warm_start=False)\n",
      "\n",
      "\n",
      "Validation result for 1000 features\n",
      "f1 score: 1.00\n",
      "null accuracy: 90.00%\n",
      "accuracy score: 99.90%\n",
      "model is 9.90% more accurate than null accuracy\n",
      "train and test time: 184.20s\n",
      "--------------------------------------------------------------------------------\n",
      "Validation result for 2000 features\n",
      "f1 score: 1.00\n",
      "null accuracy: 90.00%\n",
      "accuracy score: 99.89%\n",
      "model is 9.89% more accurate than null accuracy\n",
      "train and test time: 185.77s\n",
      "--------------------------------------------------------------------------------\n",
      "Validation result for 3000 features\n",
      "f1 score: 1.00\n",
      "null accuracy: 90.00%\n",
      "accuracy score: 99.90%\n",
      "model is 9.90% more accurate than null accuracy\n",
      "train and test time: 99.41s\n",
      "--------------------------------------------------------------------------------\n",
      "Validation result for 4000 features\n",
      "f1 score: 1.00\n",
      "null accuracy: 90.00%\n",
      "accuracy score: 99.89%\n",
      "model is 9.89% more accurate than null accuracy\n",
      "train and test time: 105.01s\n",
      "--------------------------------------------------------------------------------\n",
      "Validation result for 5000 features\n",
      "f1 score: 1.00\n",
      "null accuracy: 90.00%\n",
      "accuracy score: 99.90%\n",
      "model is 9.90% more accurate than null accuracy\n",
      "train and test time: 138.90s\n",
      "--------------------------------------------------------------------------------\n",
      "Validation result for 6000 features\n",
      "f1 score: 1.00\n",
      "null accuracy: 90.00%\n",
      "accuracy score: 99.90%\n",
      "model is 9.90% more accurate than null accuracy\n",
      "train and test time: 130.15s\n",
      "--------------------------------------------------------------------------------\n",
      "Validation result for 7000 features\n",
      "f1 score: 1.00\n",
      "null accuracy: 90.00%\n",
      "accuracy score: 99.91%\n",
      "model is 9.91% more accurate than null accuracy\n",
      "train and test time: 168.95s\n",
      "--------------------------------------------------------------------------------\n",
      "Validation result for 8000 features\n",
      "f1 score: 1.00\n",
      "null accuracy: 90.00%\n",
      "accuracy score: 99.90%\n",
      "model is 9.90% more accurate than null accuracy\n",
      "train and test time: 117.14s\n",
      "--------------------------------------------------------------------------------\n",
      "Validation result for 9000 features\n",
      "f1 score: 1.00\n",
      "null accuracy: 90.00%\n",
      "accuracy score: 99.89%\n",
      "model is 9.89% more accurate than null accuracy\n",
      "train and test time: 153.36s\n",
      "--------------------------------------------------------------------------------\n",
      "Validation result for 10000 features\n",
      "f1 score: 1.00\n",
      "null accuracy: 90.00%\n",
      "accuracy score: 99.91%\n",
      "model is 9.91% more accurate than null accuracy\n",
      "train and test time: 129.56s\n",
      "--------------------------------------------------------------------------------\n",
      "CPU times: user 19min 12s, sys: 34.3 s, total: 19min 46s\n",
      "Wall time: 23min 32s\n"
     ]
    }
   ],
   "source": [
    "%%time\n",
    "print (\"RESULT FOR TRIGRAM WITH STOP WORDS (CountVectorizer)\\n\")\n",
    "feature_result_tgc = nfeature_accuracy_checker(vectorizer=cvec,ngram_range=(1, 3))"
   ]
  },
  {
   "cell_type": "code",
   "execution_count": 54,
   "metadata": {},
   "outputs": [
    {
     "name": "stdout",
     "output_type": "stream",
     "text": [
      "RESULT FOR TRIGRAM WITH STOP WORDS (Hashing)\n",
      "\n",
      "RandomForestClassifier(bootstrap=True, class_weight=None, criterion='gini',\n",
      "                       max_depth=None, max_features='auto', max_leaf_nodes=None,\n",
      "                       min_impurity_decrease=0.0, min_impurity_split=None,\n",
      "                       min_samples_leaf=1, min_samples_split=2,\n",
      "                       min_weight_fraction_leaf=0.0, n_estimators=10,\n",
      "                       n_jobs=None, oob_score=False, random_state=None,\n",
      "                       verbose=0, warm_start=False)\n",
      "\n",
      "\n",
      "Validation result for 1000 features\n",
      "f1 score: 1.00\n",
      "null accuracy: 90.00%\n",
      "accuracy score: 99.91%\n",
      "model is 9.91% more accurate than null accuracy\n",
      "train and test time: 204.61s\n",
      "--------------------------------------------------------------------------------\n",
      "Validation result for 2000 features\n",
      "f1 score: 1.00\n",
      "null accuracy: 90.00%\n",
      "accuracy score: 99.93%\n",
      "model is 9.93% more accurate than null accuracy\n",
      "train and test time: 216.07s\n",
      "--------------------------------------------------------------------------------\n",
      "Validation result for 3000 features\n",
      "f1 score: 1.00\n",
      "null accuracy: 90.00%\n",
      "accuracy score: 99.90%\n",
      "model is 9.90% more accurate than null accuracy\n",
      "train and test time: 174.63s\n",
      "--------------------------------------------------------------------------------\n",
      "Validation result for 4000 features\n",
      "f1 score: 1.00\n",
      "null accuracy: 90.00%\n",
      "accuracy score: 99.90%\n",
      "model is 9.90% more accurate than null accuracy\n",
      "train and test time: 105.80s\n",
      "--------------------------------------------------------------------------------\n",
      "Validation result for 5000 features\n",
      "f1 score: 1.00\n",
      "null accuracy: 90.00%\n",
      "accuracy score: 99.91%\n",
      "model is 9.91% more accurate than null accuracy\n",
      "train and test time: 80.93s\n",
      "--------------------------------------------------------------------------------\n",
      "Validation result for 6000 features\n",
      "f1 score: 1.00\n",
      "null accuracy: 90.00%\n",
      "accuracy score: 99.91%\n",
      "model is 9.91% more accurate than null accuracy\n",
      "train and test time: 87.69s\n",
      "--------------------------------------------------------------------------------\n",
      "Validation result for 7000 features\n",
      "f1 score: 1.00\n",
      "null accuracy: 90.00%\n",
      "accuracy score: 99.91%\n",
      "model is 9.91% more accurate than null accuracy\n",
      "train and test time: 216.78s\n",
      "--------------------------------------------------------------------------------\n",
      "Validation result for 8000 features\n",
      "f1 score: 1.00\n",
      "null accuracy: 90.00%\n",
      "accuracy score: 99.90%\n",
      "model is 9.90% more accurate than null accuracy\n",
      "train and test time: 74.69s\n",
      "--------------------------------------------------------------------------------\n",
      "Validation result for 9000 features\n",
      "f1 score: 1.00\n",
      "null accuracy: 90.00%\n",
      "accuracy score: 99.88%\n",
      "model is 9.88% more accurate than null accuracy\n",
      "train and test time: 71.62s\n",
      "--------------------------------------------------------------------------------\n",
      "Validation result for 10000 features\n",
      "f1 score: 1.00\n",
      "null accuracy: 90.00%\n",
      "accuracy score: 99.89%\n",
      "model is 9.89% more accurate than null accuracy\n",
      "train and test time: 68.67s\n",
      "--------------------------------------------------------------------------------\n",
      "CPU times: user 16min 37s, sys: 14.7 s, total: 16min 52s\n",
      "Wall time: 21min 41s\n"
     ]
    }
   ],
   "source": [
    "%%time\n",
    "hvec = HashingVectorizer()\n",
    "print (\"RESULT FOR TRIGRAM WITH STOP WORDS (Hashing)\\n\")\n",
    "feature_result_tgh = nfeature_accuracy_checker_forhash(vectorizer=hvec,ngram_range=(1, 3))"
   ]
  },
  {
   "cell_type": "code",
   "execution_count": 58,
   "metadata": {},
   "outputs": [
    {
     "data": {
      "text/plain": [
       "<matplotlib.legend.Legend at 0x1c4ab12668>"
      ]
     },
     "execution_count": 58,
     "metadata": {},
     "output_type": "execute_result"
    },
    {
     "data": {
      "image/png": "[encoded data removed]",
      "text/plain": [
       "<Figure size 576x432 with 1 Axes>"
      ]
     },
     "metadata": {
      "needs_background": "light"
     },
     "output_type": "display_data"
    }
   ],
   "source": [
    "nfeatures_plot_tgt = pd.DataFrame(feature_result_tgt,columns=['nfeatures','validation_accuracy','train_test_time'])\n",
    "nfeatures_plot_bgt = pd.DataFrame(feature_result_bgt,columns=['nfeatures','validation_accuracy','train_test_time'])\n",
    "nfeatures_plot_ugt = pd.DataFrame(feature_result_ugt,columns=['nfeatures','validation_accuracy','train_test_time'])\n",
    "nfeatures_plot_tgc = pd.DataFrame(feature_result_tgc,columns=['nfeatures','validation_accuracy','train_test_time'])\n",
    "nfeatures_plot_bgc = pd.DataFrame(feature_result_bgc,columns=['nfeatures','validation_accuracy','train_test_time'])\n",
    "nfeatures_plot_ugc = pd.DataFrame(feature_result_ugc,columns=['nfeatures','validation_accuracy','train_test_time'])\n",
    "nfeatures_plot_tgh = pd.DataFrame(feature_result_tgh,columns=['nfeatures','validation_accuracy','train_test_time'])\n",
    "nfeatures_plot_bgh = pd.DataFrame(feature_result_bgh,columns=['nfeatures','validation_accuracy','train_test_time'])\n",
    "nfeatures_plot_ugh = pd.DataFrame(feature_result_ugh,columns=['nfeatures','validation_accuracy','train_test_time'])\n",
    "\n",
    "plt.figure(figsize=(8,6))\n",
    "plt.plot(nfeatures_plot_tgt.nfeatures, nfeatures_plot_tgt.validation_accuracy,label='trigram tfidf vectorizer',color='royalblue')\n",
    "plt.plot(nfeatures_plot_tgc.nfeatures, nfeatures_plot_tgc.validation_accuracy,label='trigram count vectorizer',\n",
    "         linestyle=':', color='royalblue')\n",
    "plt.plot(nfeatures_plot_tgh.nfeatures, nfeatures_plot_tgh.validation_accuracy,label='trigram hash vectorizer',\n",
    "         linestyle='--', color='royalblue')\n",
    "plt.plot(nfeatures_plot_bgt.nfeatures, nfeatures_plot_bgt.validation_accuracy,label='bigram tfidf vectorizer',color='magenta')\n",
    "plt.plot(nfeatures_plot_bgc.nfeatures, nfeatures_plot_bgc.validation_accuracy,label='bigram count vectorizer',\n",
    "         linestyle=':', color='magenta')\n",
    "plt.plot(nfeatures_plot_bgh.nfeatures, nfeatures_plot_bgh.validation_accuracy,label='bigram hash vectorizer',\n",
    "         linestyle='--', color='magenta')\n",
    "plt.plot(nfeatures_plot_ugt.nfeatures, nfeatures_plot_ugt.validation_accuracy, label='unigram tfidf vectorizer',color='gold')\n",
    "plt.plot(nfeatures_plot_ugc.nfeatures, nfeatures_plot_ugc.validation_accuracy, label='unigram count vectorizer',\n",
    "         linestyle=':', color='gold')\n",
    "plt.plot(nfeatures_plot_ugh.nfeatures, nfeatures_plot_ugh.validation_accuracy, label='unigram hash vectorizer',\n",
    "         linestyle='--', color='gold')\n",
    "\n",
    "plt.title(\"N-gram(1-3) test result : Accuracy\")\n",
    "plt.xlabel(\"Number of features\")\n",
    "plt.ylabel(\"Validation set accuracy\")\n",
    "plt.legend()"
   ]
  },
  {
   "cell_type": "markdown",
   "metadata": {},
   "source": [
    "# Best model"
   ]
  },
  {
   "cell_type": "code",
   "execution_count": 59,
   "metadata": {},
   "outputs": [
    {
     "name": "stdout",
     "output_type": "stream",
     "text": [
      "0.9971315883829329\n",
      "              precision    recall  f1-score   support\n",
      "\n",
      "           0       1.00      0.98      0.99      1411\n",
      "           1       1.00      1.00      1.00     15172\n",
      "           2       1.00      0.90      0.95       151\n",
      "\n",
      "    accuracy                           1.00     16734\n",
      "   macro avg       1.00      0.96      0.98     16734\n",
      "weighted avg       1.00      1.00      1.00     16734\n",
      "\n"
     ]
    }
   ],
   "source": [
    "X_train = df_resampled['text']\n",
    "y_train = df_resampled['class']\n",
    "\n",
    "X = df['text']\n",
    "y= df['class']\n",
    "\n",
    "X_train_null, X_test, y_train_null, y_test = train_test_split(X, y, random_state=10)\n",
    "\n",
    "\n",
    "vect = HashingVectorizer()\n",
    "\n",
    "\n",
    "X_train_dtm = vect.fit_transform(X_train)\n",
    "X_test_dtm = vect.transform(X_test)\n",
    "\n",
    "\n",
    "rf = RandomForestClassifier(n_estimators = 10)\n",
    "rf.fit(X_train_dtm, y_train)\n",
    "y_pred_class = rf.predict(X_test_dtm)\n",
    "\n",
    "\n",
    "print((metrics.accuracy_score(y_test, y_pred_class)))\n",
    "print(classification_report(y_test, rf.predict(X_test_dtm)))"
   ]
  },
  {
   "cell_type": "code",
   "execution_count": 70,
   "metadata": {},
   "outputs": [],
   "source": [
    "conmat = np.array(confusion_matrix(y_test, rf.predict(X_test_dtm)))\n",
    "\n",
    "confusion = pd.DataFrame(conmat, index=['neg', 'pos', 'neu'],\\\n",
    "                     columns=['Pred neg', 'Pred pos', 'Pred neu'])"
   ]
  },
  {
   "cell_type": "code",
   "execution_count": 71,
   "metadata": {},
   "outputs": [
    {
     "data": {
      "text/html": [
       "<div>\n",
       "<style scoped>\n",
       "    .dataframe tbody tr th:only-of-type {\n",
       "        vertical-align: middle;\n",
       "    }\n",
       "\n",
       "    .dataframe tbody tr th {\n",
       "        vertical-align: top;\n",
       "    }\n",
       "\n",
       "    .dataframe thead th {\n",
       "        text-align: right;\n",
       "    }\n",
       "</style>\n",
       "<table border=\"1\" class=\"dataframe\">\n",
       "  <thead>\n",
       "    <tr style=\"text-align: right;\">\n",
       "      <th></th>\n",
       "      <th>Pred neg</th>\n",
       "      <th>Pred pos</th>\n",
       "      <th>Pred neu</th>\n",
       "    </tr>\n",
       "  </thead>\n",
       "  <tbody>\n",
       "    <tr>\n",
       "      <th>neg</th>\n",
       "      <td>1382</td>\n",
       "      <td>29</td>\n",
       "      <td>0</td>\n",
       "    </tr>\n",
       "    <tr>\n",
       "      <th>pos</th>\n",
       "      <td>4</td>\n",
       "      <td>15168</td>\n",
       "      <td>0</td>\n",
       "    </tr>\n",
       "    <tr>\n",
       "      <th>neu</th>\n",
       "      <td>0</td>\n",
       "      <td>15</td>\n",
       "      <td>136</td>\n",
       "    </tr>\n",
       "  </tbody>\n",
       "</table>\n",
       "</div>"
      ],
      "text/plain": [
       "     Pred neg  Pred pos  Pred neu\n",
       "neg      1382        29         0\n",
       "pos         4     15168         0\n",
       "neu         0        15       136"
      ]
     },
     "execution_count": 71,
     "metadata": {},
     "output_type": "execute_result"
    }
   ],
   "source": [
    "confusion.head()"
   ]
  }
 ],
 "metadata": {
  "kernelspec": {
   "display_name": "Python 3",
   "language": "python",
   "name": "python3"
  },
  "language_info": {
   "codemirror_mode": {
    "name": "ipython",
    "version": 3
   },
   "file_extension": ".py",
   "mimetype": "text/x-python",
   "name": "python",
   "nbconvert_exporter": "python",
   "pygments_lexer": "ipython3",
   "version": "3.7.3"
  }
 },
 "nbformat": 4,
 "nbformat_minor": 2
}
