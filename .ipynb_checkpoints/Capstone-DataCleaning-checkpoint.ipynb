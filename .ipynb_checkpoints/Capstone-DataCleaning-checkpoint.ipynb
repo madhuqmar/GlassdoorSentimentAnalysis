{
 "cells": [
  {
   "cell_type": "markdown",
   "metadata": {},
   "source": [
    "# Import Dependencies"
   ]
  },
  {
   "cell_type": "code",
   "execution_count": 1,
   "metadata": {},
   "outputs": [],
   "source": [
    "import os\n",
    "import pandas as pd\n",
    "import numpy as np\n",
    "import scipy as sp\n",
    "import seaborn as sns\n",
    "import matplotlib.pyplot as plt\n",
    "\n",
    "import re\n",
    "from nltk.corpus import stopwords\n",
    "from textblob import TextBlob\n",
    "\n",
    "%matplotlib inline"
   ]
  },
  {
   "cell_type": "markdown",
   "metadata": {},
   "source": [
    "# Read into Python (Kaggle Dataset)"
   ]
  },
  {
   "cell_type": "code",
   "execution_count": 2,
   "metadata": {},
   "outputs": [
    {
     "data": {
      "text/html": [
       "<div>\n",
       "<style scoped>\n",
       "    .dataframe tbody tr th:only-of-type {\n",
       "        vertical-align: middle;\n",
       "    }\n",
       "\n",
       "    .dataframe tbody tr th {\n",
       "        vertical-align: top;\n",
       "    }\n",
       "\n",
       "    .dataframe thead th {\n",
       "        text-align: right;\n",
       "    }\n",
       "</style>\n",
       "<table border=\"1\" class=\"dataframe\">\n",
       "  <thead>\n",
       "    <tr style=\"text-align: right;\">\n",
       "      <th></th>\n",
       "      <th>Unnamed: 0</th>\n",
       "      <th>company</th>\n",
       "      <th>location</th>\n",
       "      <th>dates</th>\n",
       "      <th>job-title</th>\n",
       "      <th>summary</th>\n",
       "      <th>pros</th>\n",
       "      <th>cons</th>\n",
       "      <th>advice-to-mgmt</th>\n",
       "      <th>overall-ratings</th>\n",
       "      <th>work-balance-stars</th>\n",
       "      <th>culture-values-stars</th>\n",
       "      <th>carrer-opportunities-stars</th>\n",
       "      <th>comp-benefit-stars</th>\n",
       "      <th>senior-mangemnet-stars</th>\n",
       "      <th>helpful-count</th>\n",
       "      <th>link</th>\n",
       "    </tr>\n",
       "  </thead>\n",
       "  <tbody>\n",
       "    <tr>\n",
       "      <th>0</th>\n",
       "      <td>1</td>\n",
       "      <td>google</td>\n",
       "      <td>none</td>\n",
       "      <td>Dec 11, 2018</td>\n",
       "      <td>Current Employee - Anonymous Employee</td>\n",
       "      <td>Best Company to work for</td>\n",
       "      <td>People are smart and friendly</td>\n",
       "      <td>Bureaucracy is slowing things down</td>\n",
       "      <td>none</td>\n",
       "      <td>5.0</td>\n",
       "      <td>4.0</td>\n",
       "      <td>5.0</td>\n",
       "      <td>5.0</td>\n",
       "      <td>4.0</td>\n",
       "      <td>5.0</td>\n",
       "      <td>0</td>\n",
       "      <td>https://www.glassdoor.com/Reviews/Google-Revie...</td>\n",
       "    </tr>\n",
       "    <tr>\n",
       "      <th>1</th>\n",
       "      <td>2</td>\n",
       "      <td>google</td>\n",
       "      <td>Mountain View, CA</td>\n",
       "      <td>Jun 21, 2013</td>\n",
       "      <td>Former Employee - Program Manager</td>\n",
       "      <td>Moving at the speed of light, burn out is inev...</td>\n",
       "      <td>1) Food, food, food. 15+ cafes on main campus ...</td>\n",
       "      <td>1) Work/life balance. What balance? All those ...</td>\n",
       "      <td>1) Don't dismiss emotional intelligence and ad...</td>\n",
       "      <td>4.0</td>\n",
       "      <td>2.0</td>\n",
       "      <td>3.0</td>\n",
       "      <td>3.0</td>\n",
       "      <td>5.0</td>\n",
       "      <td>3.0</td>\n",
       "      <td>2094</td>\n",
       "      <td>https://www.glassdoor.com/Reviews/Google-Revie...</td>\n",
       "    </tr>\n",
       "    <tr>\n",
       "      <th>2</th>\n",
       "      <td>3</td>\n",
       "      <td>google</td>\n",
       "      <td>New York, NY</td>\n",
       "      <td>May 10, 2014</td>\n",
       "      <td>Current Employee - Software Engineer III</td>\n",
       "      <td>Great balance between big-company security and...</td>\n",
       "      <td>* If you're a software engineer, you're among ...</td>\n",
       "      <td>* It *is* becoming larger, and with it comes g...</td>\n",
       "      <td>Keep the focus on the user. Everything else wi...</td>\n",
       "      <td>5.0</td>\n",
       "      <td>5.0</td>\n",
       "      <td>4.0</td>\n",
       "      <td>5.0</td>\n",
       "      <td>5.0</td>\n",
       "      <td>4.0</td>\n",
       "      <td>949</td>\n",
       "      <td>https://www.glassdoor.com/Reviews/Google-Revie...</td>\n",
       "    </tr>\n",
       "    <tr>\n",
       "      <th>3</th>\n",
       "      <td>4</td>\n",
       "      <td>google</td>\n",
       "      <td>Mountain View, CA</td>\n",
       "      <td>Feb 8, 2015</td>\n",
       "      <td>Current Employee - Anonymous Employee</td>\n",
       "      <td>The best place I've worked and also the most d...</td>\n",
       "      <td>You can't find a more well-regarded company th...</td>\n",
       "      <td>I live in SF so the commute can take between 1...</td>\n",
       "      <td>Keep on NOT micromanaging - that is a huge ben...</td>\n",
       "      <td>5.0</td>\n",
       "      <td>2.0</td>\n",
       "      <td>5.0</td>\n",
       "      <td>5.0</td>\n",
       "      <td>4.0</td>\n",
       "      <td>5.0</td>\n",
       "      <td>498</td>\n",
       "      <td>https://www.glassdoor.com/Reviews/Google-Revie...</td>\n",
       "    </tr>\n",
       "    <tr>\n",
       "      <th>4</th>\n",
       "      <td>5</td>\n",
       "      <td>google</td>\n",
       "      <td>Los Angeles, CA</td>\n",
       "      <td>Jul 19, 2018</td>\n",
       "      <td>Former Employee - Software Engineer</td>\n",
       "      <td>Unique, one of a kind dream job</td>\n",
       "      <td>Google is a world of its own. At every other c...</td>\n",
       "      <td>If you don't work in MTV (HQ), you will be giv...</td>\n",
       "      <td>Promote managers into management for their man...</td>\n",
       "      <td>5.0</td>\n",
       "      <td>5.0</td>\n",
       "      <td>5.0</td>\n",
       "      <td>5.0</td>\n",
       "      <td>5.0</td>\n",
       "      <td>5.0</td>\n",
       "      <td>49</td>\n",
       "      <td>https://www.glassdoor.com/Reviews/Google-Revie...</td>\n",
       "    </tr>\n",
       "  </tbody>\n",
       "</table>\n",
       "</div>"
      ],
      "text/plain": [
       "   Unnamed: 0 company           location          dates  \\\n",
       "0           1  google               none   Dec 11, 2018   \n",
       "1           2  google  Mountain View, CA   Jun 21, 2013   \n",
       "2           3  google       New York, NY   May 10, 2014   \n",
       "3           4  google  Mountain View, CA    Feb 8, 2015   \n",
       "4           5  google    Los Angeles, CA   Jul 19, 2018   \n",
       "\n",
       "                                  job-title  \\\n",
       "0     Current Employee - Anonymous Employee   \n",
       "1         Former Employee - Program Manager   \n",
       "2  Current Employee - Software Engineer III   \n",
       "3     Current Employee - Anonymous Employee   \n",
       "4       Former Employee - Software Engineer   \n",
       "\n",
       "                                             summary  \\\n",
       "0                           Best Company to work for   \n",
       "1  Moving at the speed of light, burn out is inev...   \n",
       "2  Great balance between big-company security and...   \n",
       "3  The best place I've worked and also the most d...   \n",
       "4                    Unique, one of a kind dream job   \n",
       "\n",
       "                                                pros  \\\n",
       "0                      People are smart and friendly   \n",
       "1  1) Food, food, food. 15+ cafes on main campus ...   \n",
       "2  * If you're a software engineer, you're among ...   \n",
       "3  You can't find a more well-regarded company th...   \n",
       "4  Google is a world of its own. At every other c...   \n",
       "\n",
       "                                                cons  \\\n",
       "0                 Bureaucracy is slowing things down   \n",
       "1  1) Work/life balance. What balance? All those ...   \n",
       "2  * It *is* becoming larger, and with it comes g...   \n",
       "3  I live in SF so the commute can take between 1...   \n",
       "4  If you don't work in MTV (HQ), you will be giv...   \n",
       "\n",
       "                                      advice-to-mgmt  overall-ratings  \\\n",
       "0                                               none              5.0   \n",
       "1  1) Don't dismiss emotional intelligence and ad...              4.0   \n",
       "2  Keep the focus on the user. Everything else wi...              5.0   \n",
       "3  Keep on NOT micromanaging - that is a huge ben...              5.0   \n",
       "4  Promote managers into management for their man...              5.0   \n",
       "\n",
       "  work-balance-stars culture-values-stars carrer-opportunities-stars  \\\n",
       "0                4.0                  5.0                        5.0   \n",
       "1                2.0                  3.0                        3.0   \n",
       "2                5.0                  4.0                        5.0   \n",
       "3                2.0                  5.0                        5.0   \n",
       "4                5.0                  5.0                        5.0   \n",
       "\n",
       "  comp-benefit-stars senior-mangemnet-stars  helpful-count  \\\n",
       "0                4.0                    5.0              0   \n",
       "1                5.0                    3.0           2094   \n",
       "2                5.0                    4.0            949   \n",
       "3                4.0                    5.0            498   \n",
       "4                5.0                    5.0             49   \n",
       "\n",
       "                                                link  \n",
       "0  https://www.glassdoor.com/Reviews/Google-Revie...  \n",
       "1  https://www.glassdoor.com/Reviews/Google-Revie...  \n",
       "2  https://www.glassdoor.com/Reviews/Google-Revie...  \n",
       "3  https://www.glassdoor.com/Reviews/Google-Revie...  \n",
       "4  https://www.glassdoor.com/Reviews/Google-Revie...  "
      ]
     },
     "execution_count": 2,
     "metadata": {},
     "output_type": "execute_result"
    }
   ],
   "source": [
    "#load dataset\n",
    "df = pd.read_csv('/Users/madhukumar/Desktop/Portfolio/github/glassdoor-sentiment/data/employee_reviews.csv')\n",
    "df.head(5)"
   ]
  },
  {
   "cell_type": "code",
   "execution_count": 3,
   "metadata": {},
   "outputs": [],
   "source": [
    "df.summary.fillna(' ', inplace=True)\n",
    "df.pros.fillna(' ', inplace=True)\n",
    "df.cons.fillna(' ', inplace=True)\n",
    "df['advice-to-mgmt'].fillna(' ', inplace=True)"
   ]
  },
  {
   "cell_type": "code",
   "execution_count": 4,
   "metadata": {},
   "outputs": [],
   "source": [
    "df['full_review'] = df['summary'] + '. ' + df['pros'] + '. ' + df ['cons'] + '. ' + df['advice-to-mgmt'] + '.'"
   ]
  },
  {
   "cell_type": "markdown",
   "metadata": {},
   "source": [
    "# Data Inspection"
   ]
  },
  {
   "cell_type": "code",
   "execution_count": 5,
   "metadata": {},
   "outputs": [],
   "source": [
    "df.full_review.replace(' ', np.nan, inplace=True)"
   ]
  },
  {
   "cell_type": "code",
   "execution_count": 6,
   "metadata": {},
   "outputs": [
    {
     "data": {
      "text/plain": [
       "(67529, 18)"
      ]
     },
     "execution_count": 6,
     "metadata": {},
     "output_type": "execute_result"
    }
   ],
   "source": [
    "df.shape"
   ]
  },
  {
   "cell_type": "code",
   "execution_count": 7,
   "metadata": {},
   "outputs": [],
   "source": [
    "df.rename(columns={'overall-ratings':'rating', 'job-title':'title'}, inplace=True)"
   ]
  },
  {
   "cell_type": "code",
   "execution_count": 8,
   "metadata": {},
   "outputs": [],
   "source": [
    "#removing unwanted columns\n",
    "df.drop(['Unnamed: 0','link', 'summary', 'pros','cons', 'advice-to-mgmt', \n",
    "        'work-balance-stars','culture-values-stars', 'carrer-opportunities-stars',\n",
    "        'comp-benefit-stars', 'senior-mangemnet-stars','helpful-count', 'company'], axis=1, inplace=True)"
   ]
  },
  {
   "cell_type": "code",
   "execution_count": 9,
   "metadata": {},
   "outputs": [
    {
     "data": {
      "text/html": [
       "<div>\n",
       "<style scoped>\n",
       "    .dataframe tbody tr th:only-of-type {\n",
       "        vertical-align: middle;\n",
       "    }\n",
       "\n",
       "    .dataframe tbody tr th {\n",
       "        vertical-align: top;\n",
       "    }\n",
       "\n",
       "    .dataframe thead th {\n",
       "        text-align: right;\n",
       "    }\n",
       "</style>\n",
       "<table border=\"1\" class=\"dataframe\">\n",
       "  <thead>\n",
       "    <tr style=\"text-align: right;\">\n",
       "      <th></th>\n",
       "      <th>location</th>\n",
       "      <th>dates</th>\n",
       "      <th>title</th>\n",
       "      <th>rating</th>\n",
       "      <th>full_review</th>\n",
       "    </tr>\n",
       "  </thead>\n",
       "  <tbody>\n",
       "    <tr>\n",
       "      <th>0</th>\n",
       "      <td>none</td>\n",
       "      <td>Dec 11, 2018</td>\n",
       "      <td>Current Employee - Anonymous Employee</td>\n",
       "      <td>5.0</td>\n",
       "      <td>Best Company to work for. People are smart and...</td>\n",
       "    </tr>\n",
       "    <tr>\n",
       "      <th>1</th>\n",
       "      <td>Mountain View, CA</td>\n",
       "      <td>Jun 21, 2013</td>\n",
       "      <td>Former Employee - Program Manager</td>\n",
       "      <td>4.0</td>\n",
       "      <td>Moving at the speed of light, burn out is inev...</td>\n",
       "    </tr>\n",
       "    <tr>\n",
       "      <th>2</th>\n",
       "      <td>New York, NY</td>\n",
       "      <td>May 10, 2014</td>\n",
       "      <td>Current Employee - Software Engineer III</td>\n",
       "      <td>5.0</td>\n",
       "      <td>Great balance between big-company security and...</td>\n",
       "    </tr>\n",
       "  </tbody>\n",
       "</table>\n",
       "</div>"
      ],
      "text/plain": [
       "            location          dates                                     title  \\\n",
       "0               none   Dec 11, 2018     Current Employee - Anonymous Employee   \n",
       "1  Mountain View, CA   Jun 21, 2013         Former Employee - Program Manager   \n",
       "2       New York, NY   May 10, 2014  Current Employee - Software Engineer III   \n",
       "\n",
       "   rating                                        full_review  \n",
       "0     5.0  Best Company to work for. People are smart and...  \n",
       "1     4.0  Moving at the speed of light, burn out is inev...  \n",
       "2     5.0  Great balance between big-company security and...  "
      ]
     },
     "execution_count": 9,
     "metadata": {},
     "output_type": "execute_result"
    }
   ],
   "source": [
    "df.head(3)"
   ]
  },
  {
   "cell_type": "markdown",
   "metadata": {},
   "source": [
    "# Text Preprocessing"
   ]
  },
  {
   "cell_type": "code",
   "execution_count": 10,
   "metadata": {},
   "outputs": [],
   "source": [
    "def preprocess(summary):\n",
    "    summary = summary.str.replace(\"(<br/>)\", \"\")\n",
    "    summary = summary.str.replace('(<a).*(>).*(</a>)', '')\n",
    "    summary = summary.str.replace('(&amp)', '')\n",
    "    summary = summary.str.replace('(&gt)', '')\n",
    "    summary = summary.str.replace('(&lt)', '')\n",
    "    summary = summary.str.replace('(\\xa0)', ' ')\n",
    "    #removing punctuation\n",
    "    summary = summary.str.replace('[^\\w\\s]','')\n",
    "    summary = summary.str.replace('\\d+', '')\n",
    "\n",
    "    return summary\n",
    "\n",
    "df['clean_review'] = preprocess(df['full_review'])"
   ]
  },
  {
   "cell_type": "code",
   "execution_count": 11,
   "metadata": {},
   "outputs": [
    {
     "data": {
      "text/html": [
       "<div>\n",
       "<style scoped>\n",
       "    .dataframe tbody tr th:only-of-type {\n",
       "        vertical-align: middle;\n",
       "    }\n",
       "\n",
       "    .dataframe tbody tr th {\n",
       "        vertical-align: top;\n",
       "    }\n",
       "\n",
       "    .dataframe thead th {\n",
       "        text-align: right;\n",
       "    }\n",
       "</style>\n",
       "<table border=\"1\" class=\"dataframe\">\n",
       "  <thead>\n",
       "    <tr style=\"text-align: right;\">\n",
       "      <th></th>\n",
       "      <th>location</th>\n",
       "      <th>dates</th>\n",
       "      <th>title</th>\n",
       "      <th>rating</th>\n",
       "      <th>full_review</th>\n",
       "      <th>clean_review</th>\n",
       "    </tr>\n",
       "  </thead>\n",
       "  <tbody>\n",
       "    <tr>\n",
       "      <th>0</th>\n",
       "      <td>none</td>\n",
       "      <td>Dec 11, 2018</td>\n",
       "      <td>Current Employee - Anonymous Employee</td>\n",
       "      <td>5.0</td>\n",
       "      <td>Best Company to work for. People are smart and...</td>\n",
       "      <td>Best Company to work for People are smart and ...</td>\n",
       "    </tr>\n",
       "    <tr>\n",
       "      <th>1</th>\n",
       "      <td>Mountain View, CA</td>\n",
       "      <td>Jun 21, 2013</td>\n",
       "      <td>Former Employee - Program Manager</td>\n",
       "      <td>4.0</td>\n",
       "      <td>Moving at the speed of light, burn out is inev...</td>\n",
       "      <td>Moving at the speed of light burn out is inevi...</td>\n",
       "    </tr>\n",
       "    <tr>\n",
       "      <th>2</th>\n",
       "      <td>New York, NY</td>\n",
       "      <td>May 10, 2014</td>\n",
       "      <td>Current Employee - Software Engineer III</td>\n",
       "      <td>5.0</td>\n",
       "      <td>Great balance between big-company security and...</td>\n",
       "      <td>Great balance between bigcompany security and ...</td>\n",
       "    </tr>\n",
       "    <tr>\n",
       "      <th>3</th>\n",
       "      <td>Mountain View, CA</td>\n",
       "      <td>Feb 8, 2015</td>\n",
       "      <td>Current Employee - Anonymous Employee</td>\n",
       "      <td>5.0</td>\n",
       "      <td>The best place I've worked and also the most d...</td>\n",
       "      <td>The best place Ive worked and also the most de...</td>\n",
       "    </tr>\n",
       "  </tbody>\n",
       "</table>\n",
       "</div>"
      ],
      "text/plain": [
       "            location          dates                                     title  \\\n",
       "0               none   Dec 11, 2018     Current Employee - Anonymous Employee   \n",
       "1  Mountain View, CA   Jun 21, 2013         Former Employee - Program Manager   \n",
       "2       New York, NY   May 10, 2014  Current Employee - Software Engineer III   \n",
       "3  Mountain View, CA    Feb 8, 2015     Current Employee - Anonymous Employee   \n",
       "\n",
       "   rating                                        full_review  \\\n",
       "0     5.0  Best Company to work for. People are smart and...   \n",
       "1     4.0  Moving at the speed of light, burn out is inev...   \n",
       "2     5.0  Great balance between big-company security and...   \n",
       "3     5.0  The best place I've worked and also the most d...   \n",
       "\n",
       "                                        clean_review  \n",
       "0  Best Company to work for People are smart and ...  \n",
       "1  Moving at the speed of light burn out is inevi...  \n",
       "2  Great balance between bigcompany security and ...  \n",
       "3  The best place Ive worked and also the most de...  "
      ]
     },
     "execution_count": 11,
     "metadata": {},
     "output_type": "execute_result"
    }
   ],
   "source": [
    "df.head(4)"
   ]
  },
  {
   "cell_type": "code",
   "execution_count": 12,
   "metadata": {},
   "outputs": [
    {
     "name": "stdout",
     "output_type": "stream",
     "text": [
      "CPU times: user 73.8 ms, sys: 14.6 ms, total: 88.4 ms\n",
      "Wall time: 98.1 ms\n"
     ]
    }
   ],
   "source": [
    "%%time\n",
    "#lowercasing\n",
    "df['clean_review'] = df['clean_review'].str.lower()  "
   ]
  },
  {
   "cell_type": "code",
   "execution_count": 13,
   "metadata": {},
   "outputs": [
    {
     "data": {
      "text/html": [
       "<div>\n",
       "<style scoped>\n",
       "    .dataframe tbody tr th:only-of-type {\n",
       "        vertical-align: middle;\n",
       "    }\n",
       "\n",
       "    .dataframe tbody tr th {\n",
       "        vertical-align: top;\n",
       "    }\n",
       "\n",
       "    .dataframe thead th {\n",
       "        text-align: right;\n",
       "    }\n",
       "</style>\n",
       "<table border=\"1\" class=\"dataframe\">\n",
       "  <thead>\n",
       "    <tr style=\"text-align: right;\">\n",
       "      <th></th>\n",
       "      <th>location</th>\n",
       "      <th>dates</th>\n",
       "      <th>title</th>\n",
       "      <th>rating</th>\n",
       "      <th>full_review</th>\n",
       "      <th>clean_review</th>\n",
       "    </tr>\n",
       "  </thead>\n",
       "  <tbody>\n",
       "    <tr>\n",
       "      <th>0</th>\n",
       "      <td>none</td>\n",
       "      <td>Dec 11, 2018</td>\n",
       "      <td>Current Employee - Anonymous Employee</td>\n",
       "      <td>5.0</td>\n",
       "      <td>Best Company to work for. People are smart and...</td>\n",
       "      <td>best company to work for people are smart and ...</td>\n",
       "    </tr>\n",
       "    <tr>\n",
       "      <th>1</th>\n",
       "      <td>Mountain View, CA</td>\n",
       "      <td>Jun 21, 2013</td>\n",
       "      <td>Former Employee - Program Manager</td>\n",
       "      <td>4.0</td>\n",
       "      <td>Moving at the speed of light, burn out is inev...</td>\n",
       "      <td>moving at the speed of light burn out is inevi...</td>\n",
       "    </tr>\n",
       "    <tr>\n",
       "      <th>2</th>\n",
       "      <td>New York, NY</td>\n",
       "      <td>May 10, 2014</td>\n",
       "      <td>Current Employee - Software Engineer III</td>\n",
       "      <td>5.0</td>\n",
       "      <td>Great balance between big-company security and...</td>\n",
       "      <td>great balance between bigcompany security and ...</td>\n",
       "    </tr>\n",
       "  </tbody>\n",
       "</table>\n",
       "</div>"
      ],
      "text/plain": [
       "            location          dates                                     title  \\\n",
       "0               none   Dec 11, 2018     Current Employee - Anonymous Employee   \n",
       "1  Mountain View, CA   Jun 21, 2013         Former Employee - Program Manager   \n",
       "2       New York, NY   May 10, 2014  Current Employee - Software Engineer III   \n",
       "\n",
       "   rating                                        full_review  \\\n",
       "0     5.0  Best Company to work for. People are smart and...   \n",
       "1     4.0  Moving at the speed of light, burn out is inev...   \n",
       "2     5.0  Great balance between big-company security and...   \n",
       "\n",
       "                                        clean_review  \n",
       "0  best company to work for people are smart and ...  \n",
       "1  moving at the speed of light burn out is inevi...  \n",
       "2  great balance between bigcompany security and ...  "
      ]
     },
     "execution_count": 13,
     "metadata": {},
     "output_type": "execute_result"
    }
   ],
   "source": [
    "df.head(3)"
   ]
  },
  {
   "cell_type": "markdown",
   "metadata": {},
   "source": [
    "# Language Detection"
   ]
  },
  {
   "cell_type": "code",
   "execution_count": 14,
   "metadata": {},
   "outputs": [],
   "source": [
    "import langid"
   ]
  },
  {
   "cell_type": "code",
   "execution_count": 15,
   "metadata": {},
   "outputs": [
    {
     "name": "stdout",
     "output_type": "stream",
     "text": [
      "Number of tagged languages (estimated):\n",
      "27\n",
      "Percent of data in English (estimated):\n",
      "99.12037791171201\n"
     ]
    }
   ],
   "source": [
    "# get the language id for each text\n",
    "ids_langid = df['full_review'].apply(langid.classify)\n",
    "\n",
    "# get just the language label\n",
    "langs = ids_langid.apply(lambda tuple: tuple[0])\n",
    "\n",
    "# how many unique language labels were applied\n",
    "print(\"Number of tagged languages (estimated):\")\n",
    "print(len(langs.unique()))\n",
    "\n",
    "# percent of the total dataset in English\n",
    "print(\"Percent of data in English (estimated):\")\n",
    "print((sum(langs==\"en\")/len(langs))*100)"
   ]
  },
  {
   "cell_type": "code",
   "execution_count": 16,
   "metadata": {},
   "outputs": [],
   "source": [
    "# convert our list of languages to a dataframe\n",
    "langs_df = pd.DataFrame(langs)\n",
    "\n",
    "# count the number of times we see each language\n",
    "langs_count = langs_df.full_review.value_counts()"
   ]
  },
  {
   "cell_type": "code",
   "execution_count": 17,
   "metadata": {},
   "outputs": [
    {
     "name": "stdout",
     "output_type": "stream",
     "text": [
      "Languages with more than 400 tweets in our dataset:\n",
      "en    66935\n",
      "Name: full_review, dtype: int64\n",
      "\n",
      "Percent of our dataset in these languages:\n",
      "99.12037791171201\n"
     ]
    }
   ],
   "source": [
    "print(\"Languages with more than 400 tweets in our dataset:\")\n",
    "print(langs_count[langs_count > 400])\n",
    "\n",
    "print(\"\")\n",
    "\n",
    "print(\"Percent of our dataset in these languages:\")\n",
    "print((sum(langs_count[langs_count > 400])/len(langs)) * 100)"
   ]
  },
  {
   "cell_type": "code",
   "execution_count": 18,
   "metadata": {},
   "outputs": [],
   "source": [
    "# get just the language label\n",
    "df['language'] = ids_langid.apply(lambda tuple: tuple[0])"
   ]
  },
  {
   "cell_type": "code",
   "execution_count": 19,
   "metadata": {},
   "outputs": [
    {
     "data": {
      "text/html": [
       "<div>\n",
       "<style scoped>\n",
       "    .dataframe tbody tr th:only-of-type {\n",
       "        vertical-align: middle;\n",
       "    }\n",
       "\n",
       "    .dataframe tbody tr th {\n",
       "        vertical-align: top;\n",
       "    }\n",
       "\n",
       "    .dataframe thead th {\n",
       "        text-align: right;\n",
       "    }\n",
       "</style>\n",
       "<table border=\"1\" class=\"dataframe\">\n",
       "  <thead>\n",
       "    <tr style=\"text-align: right;\">\n",
       "      <th></th>\n",
       "      <th>location</th>\n",
       "      <th>dates</th>\n",
       "      <th>title</th>\n",
       "      <th>rating</th>\n",
       "      <th>full_review</th>\n",
       "      <th>clean_review</th>\n",
       "      <th>language</th>\n",
       "    </tr>\n",
       "  </thead>\n",
       "  <tbody>\n",
       "    <tr>\n",
       "      <th>0</th>\n",
       "      <td>none</td>\n",
       "      <td>Dec 11, 2018</td>\n",
       "      <td>Current Employee - Anonymous Employee</td>\n",
       "      <td>5.0</td>\n",
       "      <td>Best Company to work for. People are smart and...</td>\n",
       "      <td>best company to work for people are smart and ...</td>\n",
       "      <td>en</td>\n",
       "    </tr>\n",
       "    <tr>\n",
       "      <th>1</th>\n",
       "      <td>Mountain View, CA</td>\n",
       "      <td>Jun 21, 2013</td>\n",
       "      <td>Former Employee - Program Manager</td>\n",
       "      <td>4.0</td>\n",
       "      <td>Moving at the speed of light, burn out is inev...</td>\n",
       "      <td>moving at the speed of light burn out is inevi...</td>\n",
       "      <td>en</td>\n",
       "    </tr>\n",
       "    <tr>\n",
       "      <th>2</th>\n",
       "      <td>New York, NY</td>\n",
       "      <td>May 10, 2014</td>\n",
       "      <td>Current Employee - Software Engineer III</td>\n",
       "      <td>5.0</td>\n",
       "      <td>Great balance between big-company security and...</td>\n",
       "      <td>great balance between bigcompany security and ...</td>\n",
       "      <td>en</td>\n",
       "    </tr>\n",
       "  </tbody>\n",
       "</table>\n",
       "</div>"
      ],
      "text/plain": [
       "            location          dates                                     title  \\\n",
       "0               none   Dec 11, 2018     Current Employee - Anonymous Employee   \n",
       "1  Mountain View, CA   Jun 21, 2013         Former Employee - Program Manager   \n",
       "2       New York, NY   May 10, 2014  Current Employee - Software Engineer III   \n",
       "\n",
       "   rating                                        full_review  \\\n",
       "0     5.0  Best Company to work for. People are smart and...   \n",
       "1     4.0  Moving at the speed of light, burn out is inev...   \n",
       "2     5.0  Great balance between big-company security and...   \n",
       "\n",
       "                                        clean_review language  \n",
       "0  best company to work for people are smart and ...       en  \n",
       "1  moving at the speed of light burn out is inevi...       en  \n",
       "2  great balance between bigcompany security and ...       en  "
      ]
     },
     "execution_count": 19,
     "metadata": {},
     "output_type": "execute_result"
    }
   ],
   "source": [
    "df.head(3)"
   ]
  },
  {
   "cell_type": "code",
   "execution_count": 20,
   "metadata": {},
   "outputs": [
    {
     "data": {
      "text/plain": [
       "en    66935\n",
       "fr      235\n",
       "de      207\n",
       "nl       65\n",
       "af       21\n",
       "es       11\n",
       "it       10\n",
       "id        9\n",
       "pt        4\n",
       "ca        4\n",
       "no        3\n",
       "ro        3\n",
       "lt        3\n",
       "da        2\n",
       "sq        2\n",
       "tr        2\n",
       "eu        2\n",
       "mg        2\n",
       "cy        1\n",
       "et        1\n",
       "br        1\n",
       "tl        1\n",
       "la        1\n",
       "fo        1\n",
       "pl        1\n",
       "an        1\n",
       "vo        1\n",
       "Name: language, dtype: int64"
      ]
     },
     "execution_count": 20,
     "metadata": {},
     "output_type": "execute_result"
    }
   ],
   "source": [
    "df.language.value_counts()"
   ]
  },
  {
   "cell_type": "code",
   "execution_count": 21,
   "metadata": {},
   "outputs": [],
   "source": [
    "df = df[df['language'] == 'en']"
   ]
  },
  {
   "cell_type": "code",
   "execution_count": 22,
   "metadata": {},
   "outputs": [
    {
     "data": {
      "text/plain": [
       "(66935, 7)"
      ]
     },
     "execution_count": 22,
     "metadata": {},
     "output_type": "execute_result"
    }
   ],
   "source": [
    "df.shape"
   ]
  },
  {
   "cell_type": "markdown",
   "metadata": {},
   "source": [
    "# Cleaning Dates"
   ]
  },
  {
   "cell_type": "code",
   "execution_count": 23,
   "metadata": {},
   "outputs": [],
   "source": [
    "#removing punctuation\n",
    "df['dates'] = df['dates'].str.replace('[^\\w\\s]','')\n",
    "#converting to date format\n",
    "df['datetime'] = pd.to_datetime(df['dates'], format=' %b %d %Y', errors='coerce')\n",
    "#Extracting Year\n",
    "df['year'] = df['datetime'].dt.year\n",
    "#Extracting the weekday name of the date\n",
    "df['day'] = df['datetime'].dt.day_name()\n",
    "#Extracting month\n",
    "df['month'] = df['datetime'].dt.month"
   ]
  },
  {
   "cell_type": "code",
   "execution_count": 24,
   "metadata": {},
   "outputs": [
    {
     "data": {
      "text/html": [
       "<div>\n",
       "<style scoped>\n",
       "    .dataframe tbody tr th:only-of-type {\n",
       "        vertical-align: middle;\n",
       "    }\n",
       "\n",
       "    .dataframe tbody tr th {\n",
       "        vertical-align: top;\n",
       "    }\n",
       "\n",
       "    .dataframe thead th {\n",
       "        text-align: right;\n",
       "    }\n",
       "</style>\n",
       "<table border=\"1\" class=\"dataframe\">\n",
       "  <thead>\n",
       "    <tr style=\"text-align: right;\">\n",
       "      <th></th>\n",
       "      <th>location</th>\n",
       "      <th>dates</th>\n",
       "      <th>title</th>\n",
       "      <th>rating</th>\n",
       "      <th>full_review</th>\n",
       "      <th>clean_review</th>\n",
       "      <th>language</th>\n",
       "      <th>datetime</th>\n",
       "      <th>year</th>\n",
       "      <th>day</th>\n",
       "      <th>month</th>\n",
       "    </tr>\n",
       "  </thead>\n",
       "  <tbody>\n",
       "    <tr>\n",
       "      <th>0</th>\n",
       "      <td>none</td>\n",
       "      <td>Dec 11 2018</td>\n",
       "      <td>Current Employee - Anonymous Employee</td>\n",
       "      <td>5.0</td>\n",
       "      <td>Best Company to work for. People are smart and...</td>\n",
       "      <td>best company to work for people are smart and ...</td>\n",
       "      <td>en</td>\n",
       "      <td>2018-12-11</td>\n",
       "      <td>2018.0</td>\n",
       "      <td>Tuesday</td>\n",
       "      <td>12.0</td>\n",
       "    </tr>\n",
       "    <tr>\n",
       "      <th>1</th>\n",
       "      <td>Mountain View, CA</td>\n",
       "      <td>Jun 21 2013</td>\n",
       "      <td>Former Employee - Program Manager</td>\n",
       "      <td>4.0</td>\n",
       "      <td>Moving at the speed of light, burn out is inev...</td>\n",
       "      <td>moving at the speed of light burn out is inevi...</td>\n",
       "      <td>en</td>\n",
       "      <td>2013-06-21</td>\n",
       "      <td>2013.0</td>\n",
       "      <td>Friday</td>\n",
       "      <td>6.0</td>\n",
       "    </tr>\n",
       "    <tr>\n",
       "      <th>2</th>\n",
       "      <td>New York, NY</td>\n",
       "      <td>May 10 2014</td>\n",
       "      <td>Current Employee - Software Engineer III</td>\n",
       "      <td>5.0</td>\n",
       "      <td>Great balance between big-company security and...</td>\n",
       "      <td>great balance between bigcompany security and ...</td>\n",
       "      <td>en</td>\n",
       "      <td>2014-05-10</td>\n",
       "      <td>2014.0</td>\n",
       "      <td>Saturday</td>\n",
       "      <td>5.0</td>\n",
       "    </tr>\n",
       "    <tr>\n",
       "      <th>3</th>\n",
       "      <td>Mountain View, CA</td>\n",
       "      <td>Feb 8 2015</td>\n",
       "      <td>Current Employee - Anonymous Employee</td>\n",
       "      <td>5.0</td>\n",
       "      <td>The best place I've worked and also the most d...</td>\n",
       "      <td>the best place ive worked and also the most de...</td>\n",
       "      <td>en</td>\n",
       "      <td>2015-02-08</td>\n",
       "      <td>2015.0</td>\n",
       "      <td>Sunday</td>\n",
       "      <td>2.0</td>\n",
       "    </tr>\n",
       "    <tr>\n",
       "      <th>4</th>\n",
       "      <td>Los Angeles, CA</td>\n",
       "      <td>Jul 19 2018</td>\n",
       "      <td>Former Employee - Software Engineer</td>\n",
       "      <td>5.0</td>\n",
       "      <td>Unique, one of a kind dream job. Google is a w...</td>\n",
       "      <td>unique one of a kind dream job google is a wor...</td>\n",
       "      <td>en</td>\n",
       "      <td>2018-07-19</td>\n",
       "      <td>2018.0</td>\n",
       "      <td>Thursday</td>\n",
       "      <td>7.0</td>\n",
       "    </tr>\n",
       "  </tbody>\n",
       "</table>\n",
       "</div>"
      ],
      "text/plain": [
       "            location         dates                                     title  \\\n",
       "0               none   Dec 11 2018     Current Employee - Anonymous Employee   \n",
       "1  Mountain View, CA   Jun 21 2013         Former Employee - Program Manager   \n",
       "2       New York, NY   May 10 2014  Current Employee - Software Engineer III   \n",
       "3  Mountain View, CA    Feb 8 2015     Current Employee - Anonymous Employee   \n",
       "4    Los Angeles, CA   Jul 19 2018       Former Employee - Software Engineer   \n",
       "\n",
       "   rating                                        full_review  \\\n",
       "0     5.0  Best Company to work for. People are smart and...   \n",
       "1     4.0  Moving at the speed of light, burn out is inev...   \n",
       "2     5.0  Great balance between big-company security and...   \n",
       "3     5.0  The best place I've worked and also the most d...   \n",
       "4     5.0  Unique, one of a kind dream job. Google is a w...   \n",
       "\n",
       "                                        clean_review language   datetime  \\\n",
       "0  best company to work for people are smart and ...       en 2018-12-11   \n",
       "1  moving at the speed of light burn out is inevi...       en 2013-06-21   \n",
       "2  great balance between bigcompany security and ...       en 2014-05-10   \n",
       "3  the best place ive worked and also the most de...       en 2015-02-08   \n",
       "4  unique one of a kind dream job google is a wor...       en 2018-07-19   \n",
       "\n",
       "     year       day  month  \n",
       "0  2018.0   Tuesday   12.0  \n",
       "1  2013.0    Friday    6.0  \n",
       "2  2014.0  Saturday    5.0  \n",
       "3  2015.0    Sunday    2.0  \n",
       "4  2018.0  Thursday    7.0  "
      ]
     },
     "execution_count": 24,
     "metadata": {},
     "output_type": "execute_result"
    }
   ],
   "source": [
    "df.head()"
   ]
  },
  {
   "cell_type": "markdown",
   "metadata": {},
   "source": [
    "# Cleaning Locations"
   ]
  },
  {
   "cell_type": "code",
   "execution_count": 25,
   "metadata": {},
   "outputs": [],
   "source": [
    "#removing punctuation characters\n",
    "df['location'] = df['location'].str.replace('[^\\w\\s]','')\n",
    "df['clean_location'] = df['location'].str.extract(r'\\b(\\w+)$', expand=True)\n",
    "#Replacing US states with US country label\n",
    "df['clean_location'] = df['clean_location'].str.replace('[A-Z]+[A-Z]', 'United States of America', regex=True)\n",
    "\n",
    "df.rename(columns={'clean_location':'country'}, inplace=True)"
   ]
  },
  {
   "cell_type": "code",
   "execution_count": 26,
   "metadata": {},
   "outputs": [],
   "source": [
    "df['country'] = df['country'].str.replace(\"Republic\", \"Czech Republic\")\n",
    "df['country'] = df['country'].str.replace(\"Taiwan\", \"Taiwan, Province of China\")\n",
    "df['country'] = df['country'].str.replace(\"Korea\", \"Korea, Democratic People's Republic of\")\n",
    "df['country'] = df['country'].str.replace(\"Arabia\", \"Saudi Arabia\")\n",
    "df['country'] = df['country'].str.replace(\"Faso\", \"Burkina Faso\")\n",
    "df['country'] = df['country'].str.replace(\"Burkina Burkina Faso\", \"Burkina Faso\")\n",
    "df['country'] = df['country'].str.replace(\"Saudi Saudi Arabia\", \"Saudi Arabia\")\n",
    "df['country'] = df['country'].str.replace(\"Russia\", \"Russian Federation\")\n",
    "df['country'] = df['country'].str.replace(\"Venezuela\", \"Venezuela, Bolivarian Republic of\")\n",
    "df['country'] = df['country'].str.replace(\"Vietnam\", \"Viet Nam\")\n",
    "df['country'] = df['country'].str.replace(\"Africa\", \"Central African Republic\")\n",
    "df['country'] = df['country'].str.replace(\"Kong\", \"Hong Kong\")\n",
    "df['country'] = df['country'].str.replace(\"Lanka\", \"Sri Lanka\")\n",
    "df['country'] = df['country'].str.replace(\"Emirates\", \"United Arab Emirates\")\n",
    "df['country'] = df['country'].str.replace(\"Iran\", \"Iran, Islamic Republic of\")\n",
    "df['country'] = df['country'].str.replace(\"Rica\", \"Costa Rica\")\n",
    "df['country'] = df['country'].str.replace(\"Islands\", \"Cayman Islands\")\n",
    "df['country'] = df['country'].str.replace(\"Tanzania\", \"Tanzania, United Republic of\")\n",
    "df['country'] = df['country'].str.replace(\"Timor\", \"Timor-Leste\")\n",
    "df['country'] = df['country'].str.replace(\"dIvoire\", \"Côte d'Ivoire\")\n",
    "df['country'] = df['country'].str.replace(\"Libya\", \"Libyan Arab Jamahiriya\")\n",
    "df['country'] = df['country'].str.replace(\"Salvador\", \"El Salvador\")\n",
    "df['country'] = df['country'].str.replace(\"Herzegovina\", \"Bosnia and Herzegovina\")\n",
    "df['country'] = df['country'].str.replace(\"Zealand\", \"New Zealand\")"
   ]
  },
  {
   "cell_type": "markdown",
   "metadata": {},
   "source": [
    "# Feature Extraction - Employee Job Titles"
   ]
  },
  {
   "cell_type": "code",
   "execution_count": 27,
   "metadata": {},
   "outputs": [
    {
     "name": "stdout",
     "output_type": "stream",
     "text": [
      "True     42201\n",
      "False    24734\n",
      "Name: title, dtype: int64\n",
      "False    42199\n",
      "True     24736\n",
      "Name: title, dtype: int64\n"
     ]
    }
   ],
   "source": [
    "Current = df['title'].str.contains('Current', na='False') \n",
    "Former = df['title'].str.contains('Former', na='False') \n",
    "\n",
    "print (Current.value_counts())\n",
    "print (Former.value_counts())"
   ]
  },
  {
   "cell_type": "code",
   "execution_count": 28,
   "metadata": {},
   "outputs": [
    {
     "data": {
      "text/plain": [
       "False    40180\n",
       "True     26755\n",
       "Name: title, dtype: int64"
      ]
     },
     "execution_count": 28,
     "metadata": {},
     "output_type": "execute_result"
    }
   ],
   "source": [
    "Anonymous = df['title'].str.contains('Anonymous', na='False') \n",
    "Anonymous.value_counts()"
   ]
  },
  {
   "cell_type": "code",
   "execution_count": 29,
   "metadata": {},
   "outputs": [],
   "source": [
    "df['title'] = df['title'].str.replace('[^\\w\\s]','')"
   ]
  },
  {
   "cell_type": "code",
   "execution_count": 30,
   "metadata": {},
   "outputs": [],
   "source": [
    "df['anonymity'] = df['title'].str.extract(pat='(Anonymous)',expand=False)\n",
    "# map existing values to a different set of values\n",
    "df['anonymity'] = df.anonymity.map({'Anonymous':1})\n",
    "df['anonymity'].fillna(2, inplace=True)"
   ]
  },
  {
   "cell_type": "code",
   "execution_count": 31,
   "metadata": {},
   "outputs": [],
   "source": [
    "df['employee_type'] = df['title'].str.extract(pat='(Current|Former)',expand=False)\n",
    "# map existing values to a different set of values\n",
    "df['employee_type'] = df.employee_type.map({'Current':1, 'Former': 2})"
   ]
  },
  {
   "cell_type": "markdown",
   "metadata": {},
   "source": [
    "# Export to CSV"
   ]
  },
  {
   "cell_type": "markdown",
   "metadata": {},
   "source": [
    "Saving the clean data back to disk for future use"
   ]
  },
  {
   "cell_type": "code",
   "execution_count": 32,
   "metadata": {},
   "outputs": [],
   "source": [
    "#removing unwanted columns\n",
    "df.drop(['language', 'title', 'dates', 'datetime', 'location'], axis=1, inplace=True)"
   ]
  },
  {
   "cell_type": "code",
   "execution_count": 33,
   "metadata": {},
   "outputs": [
    {
     "data": {
      "text/html": [
       "<div>\n",
       "<style scoped>\n",
       "    .dataframe tbody tr th:only-of-type {\n",
       "        vertical-align: middle;\n",
       "    }\n",
       "\n",
       "    .dataframe tbody tr th {\n",
       "        vertical-align: top;\n",
       "    }\n",
       "\n",
       "    .dataframe thead th {\n",
       "        text-align: right;\n",
       "    }\n",
       "</style>\n",
       "<table border=\"1\" class=\"dataframe\">\n",
       "  <thead>\n",
       "    <tr style=\"text-align: right;\">\n",
       "      <th></th>\n",
       "      <th>rating</th>\n",
       "      <th>full_review</th>\n",
       "      <th>clean_review</th>\n",
       "      <th>year</th>\n",
       "      <th>day</th>\n",
       "      <th>month</th>\n",
       "      <th>country</th>\n",
       "      <th>anonymity</th>\n",
       "      <th>employee_type</th>\n",
       "    </tr>\n",
       "  </thead>\n",
       "  <tbody>\n",
       "    <tr>\n",
       "      <th>0</th>\n",
       "      <td>5.0</td>\n",
       "      <td>Best Company to work for. People are smart and...</td>\n",
       "      <td>best company to work for people are smart and ...</td>\n",
       "      <td>2018.0</td>\n",
       "      <td>Tuesday</td>\n",
       "      <td>12.0</td>\n",
       "      <td>none</td>\n",
       "      <td>1.0</td>\n",
       "      <td>1</td>\n",
       "    </tr>\n",
       "    <tr>\n",
       "      <th>1</th>\n",
       "      <td>4.0</td>\n",
       "      <td>Moving at the speed of light, burn out is inev...</td>\n",
       "      <td>moving at the speed of light burn out is inevi...</td>\n",
       "      <td>2013.0</td>\n",
       "      <td>Friday</td>\n",
       "      <td>6.0</td>\n",
       "      <td>United States of America</td>\n",
       "      <td>2.0</td>\n",
       "      <td>2</td>\n",
       "    </tr>\n",
       "    <tr>\n",
       "      <th>2</th>\n",
       "      <td>5.0</td>\n",
       "      <td>Great balance between big-company security and...</td>\n",
       "      <td>great balance between bigcompany security and ...</td>\n",
       "      <td>2014.0</td>\n",
       "      <td>Saturday</td>\n",
       "      <td>5.0</td>\n",
       "      <td>United States of America</td>\n",
       "      <td>2.0</td>\n",
       "      <td>1</td>\n",
       "    </tr>\n",
       "    <tr>\n",
       "      <th>3</th>\n",
       "      <td>5.0</td>\n",
       "      <td>The best place I've worked and also the most d...</td>\n",
       "      <td>the best place ive worked and also the most de...</td>\n",
       "      <td>2015.0</td>\n",
       "      <td>Sunday</td>\n",
       "      <td>2.0</td>\n",
       "      <td>United States of America</td>\n",
       "      <td>1.0</td>\n",
       "      <td>1</td>\n",
       "    </tr>\n",
       "    <tr>\n",
       "      <th>4</th>\n",
       "      <td>5.0</td>\n",
       "      <td>Unique, one of a kind dream job. Google is a w...</td>\n",
       "      <td>unique one of a kind dream job google is a wor...</td>\n",
       "      <td>2018.0</td>\n",
       "      <td>Thursday</td>\n",
       "      <td>7.0</td>\n",
       "      <td>United States of America</td>\n",
       "      <td>2.0</td>\n",
       "      <td>2</td>\n",
       "    </tr>\n",
       "  </tbody>\n",
       "</table>\n",
       "</div>"
      ],
      "text/plain": [
       "   rating                                        full_review  \\\n",
       "0     5.0  Best Company to work for. People are smart and...   \n",
       "1     4.0  Moving at the speed of light, burn out is inev...   \n",
       "2     5.0  Great balance between big-company security and...   \n",
       "3     5.0  The best place I've worked and also the most d...   \n",
       "4     5.0  Unique, one of a kind dream job. Google is a w...   \n",
       "\n",
       "                                        clean_review    year       day  month  \\\n",
       "0  best company to work for people are smart and ...  2018.0   Tuesday   12.0   \n",
       "1  moving at the speed of light burn out is inevi...  2013.0    Friday    6.0   \n",
       "2  great balance between bigcompany security and ...  2014.0  Saturday    5.0   \n",
       "3  the best place ive worked and also the most de...  2015.0    Sunday    2.0   \n",
       "4  unique one of a kind dream job google is a wor...  2018.0  Thursday    7.0   \n",
       "\n",
       "                    country  anonymity  employee_type  \n",
       "0                      none        1.0              1  \n",
       "1  United States of America        2.0              2  \n",
       "2  United States of America        2.0              1  \n",
       "3  United States of America        1.0              1  \n",
       "4  United States of America        2.0              2  "
      ]
     },
     "execution_count": 33,
     "metadata": {},
     "output_type": "execute_result"
    }
   ],
   "source": [
    "df.to_csv(\"/Users/madhukumar/Desktop/Portfolio/github/glassdoor-sentiment/data/employee_reviews_clean.csv\")\n",
    "df.head()"
   ]
  }
 ],
 "metadata": {
  "kernelspec": {
   "display_name": "Python 3",
   "language": "python",
   "name": "python3"
  },
  "language_info": {
   "codemirror_mode": {
    "name": "ipython",
    "version": 3
   },
   "file_extension": ".py",
   "mimetype": "text/x-python",
   "name": "python",
   "nbconvert_exporter": "python",
   "pygments_lexer": "ipython3",
   "version": "3.7.3"
  }
 },
 "nbformat": 4,
 "nbformat_minor": 2
}
