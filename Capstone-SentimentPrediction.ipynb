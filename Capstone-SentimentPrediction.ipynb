{
 "cells": [
  {
   "cell_type": "markdown",
   "metadata": {},
   "source": [
    "# Import Dependencies"
   ]
  },
  {
   "cell_type": "code",
   "execution_count": 1,
   "metadata": {},
   "outputs": [
    {
     "data": {
      "text/html": [
       "        <script type=\"text/javascript\">\n",
       "        window.PlotlyConfig = {MathJaxConfig: 'local'};\n",
       "        if (window.MathJax) {MathJax.Hub.Config({SVG: {font: \"STIX-Web\"}});}\n",
       "        if (typeof require !== 'undefined') {\n",
       "        require.undef(\"plotly\");\n",
       "        requirejs.config({\n",
       "            paths: {\n",
       "                'plotly': ['https://cdn.plot.ly/plotly-latest.min']\n",
       "            }\n",
       "        });\n",
       "        require(['plotly'], function(Plotly) {\n",
       "            window._Plotly = Plotly;\n",
       "        });\n",
       "        }\n",
       "        </script>\n",
       "        "
      ]
     },
     "metadata": {},
     "output_type": "display_data"
    }
   ],
   "source": [
    "import os\n",
    "import pandas as pd\n",
    "import numpy as np\n",
    "from pandas import DataFrame\n",
    "from time import time\n",
    "\n",
    "from sklearn.feature_extraction.text import CountVectorizer, TfidfVectorizer\n",
    "from sklearn.feature_extraction.text import HashingVectorizer\n",
    "from sklearn.decomposition import TruncatedSVD, PCA\n",
    "from imblearn.over_sampling import SMOTE\n",
    "from sklearn.utils import resample\n",
    "\n",
    "#models\n",
    "from sklearn.ensemble import RandomForestClassifier\n",
    "from sklearn.linear_model import LogisticRegression\n",
    "from xgboost import XGBClassifier\n",
    "from sklearn.svm import SVC\n",
    "from sklearn.naive_bayes import MultinomialNB\n",
    "\n",
    "#metrics & evaluation\n",
    "from sklearn.model_selection import cross_val_score, train_test_split\n",
    "from sklearn.metrics import classification_report, confusion_matrix, accuracy_score, \\\n",
    "precision_score, recall_score\n",
    "from sklearn import metrics\n",
    "from sklearn.pipeline import make_pipeline\n",
    "from sklearn.pipeline import Pipeline\n",
    "from sklearn.metrics import f1_score\n",
    "\n",
    "#plotting tools\n",
    "import plotly\n",
    "from plotly.offline import download_plotlyjs, init_notebook_mode, plot, iplot\n",
    "import cufflinks as cf\n",
    "cf.go_offline()\n",
    "cf.set_config_file(offline=False, world_readable=True)\n",
    "from matplotlib import pyplot as plt\n",
    "import seaborn as sns\n",
    "\n",
    "#nlp tools\n",
    "from nltk.corpus import stopwords\n",
    "from nltk.tokenize import word_tokenize\n",
    "from textblob import Word\n",
    "from textblob import TextBlob\n",
    "from nltk import pos_tag"
   ]
  },
  {
   "cell_type": "markdown",
   "metadata": {},
   "source": [
    "# Read into Python"
   ]
  },
  {
   "cell_type": "code",
   "execution_count": 2,
   "metadata": {},
   "outputs": [
    {
     "data": {
      "text/html": [
       "<div>\n",
       "<style scoped>\n",
       "    .dataframe tbody tr th:only-of-type {\n",
       "        vertical-align: middle;\n",
       "    }\n",
       "\n",
       "    .dataframe tbody tr th {\n",
       "        vertical-align: top;\n",
       "    }\n",
       "\n",
       "    .dataframe thead th {\n",
       "        text-align: right;\n",
       "    }\n",
       "</style>\n",
       "<table border=\"1\" class=\"dataframe\">\n",
       "  <thead>\n",
       "    <tr style=\"text-align: right;\">\n",
       "      <th></th>\n",
       "      <th>Unnamed: 0</th>\n",
       "      <th>full_review</th>\n",
       "      <th>clean_review</th>\n",
       "      <th>country</th>\n",
       "      <th>word_count</th>\n",
       "      <th>label</th>\n",
       "      <th>class</th>\n",
       "    </tr>\n",
       "  </thead>\n",
       "  <tbody>\n",
       "    <tr>\n",
       "      <th>0</th>\n",
       "      <td>0</td>\n",
       "      <td>Best Company to work for. People are smart and...</td>\n",
       "      <td>best company to work for people are smart and ...</td>\n",
       "      <td>none</td>\n",
       "      <td>16</td>\n",
       "      <td>positive</td>\n",
       "      <td>1</td>\n",
       "    </tr>\n",
       "    <tr>\n",
       "      <th>1</th>\n",
       "      <td>1</td>\n",
       "      <td>Moving at the speed of light, burn out is inev...</td>\n",
       "      <td>moving at the speed of light burn out is inevi...</td>\n",
       "      <td>United States of America</td>\n",
       "      <td>708</td>\n",
       "      <td>positive</td>\n",
       "      <td>1</td>\n",
       "    </tr>\n",
       "    <tr>\n",
       "      <th>2</th>\n",
       "      <td>2</td>\n",
       "      <td>Great balance between big-company security and...</td>\n",
       "      <td>great balance between bigcompany security and ...</td>\n",
       "      <td>United States of America</td>\n",
       "      <td>805</td>\n",
       "      <td>positive</td>\n",
       "      <td>1</td>\n",
       "    </tr>\n",
       "    <tr>\n",
       "      <th>3</th>\n",
       "      <td>3</td>\n",
       "      <td>The best place I've worked and also the most d...</td>\n",
       "      <td>the best place ive worked and also the most de...</td>\n",
       "      <td>United States of America</td>\n",
       "      <td>836</td>\n",
       "      <td>positive</td>\n",
       "      <td>1</td>\n",
       "    </tr>\n",
       "    <tr>\n",
       "      <th>4</th>\n",
       "      <td>4</td>\n",
       "      <td>Unique, one of a kind dream job. Google is a w...</td>\n",
       "      <td>unique one of a kind dream job google is a wor...</td>\n",
       "      <td>United States of America</td>\n",
       "      <td>2281</td>\n",
       "      <td>positive</td>\n",
       "      <td>1</td>\n",
       "    </tr>\n",
       "  </tbody>\n",
       "</table>\n",
       "</div>"
      ],
      "text/plain": [
       "   Unnamed: 0                                        full_review  \\\n",
       "0           0  Best Company to work for. People are smart and...   \n",
       "1           1  Moving at the speed of light, burn out is inev...   \n",
       "2           2  Great balance between big-company security and...   \n",
       "3           3  The best place I've worked and also the most d...   \n",
       "4           4  Unique, one of a kind dream job. Google is a w...   \n",
       "\n",
       "                                        clean_review  \\\n",
       "0  best company to work for people are smart and ...   \n",
       "1  moving at the speed of light burn out is inevi...   \n",
       "2  great balance between bigcompany security and ...   \n",
       "3  the best place ive worked and also the most de...   \n",
       "4  unique one of a kind dream job google is a wor...   \n",
       "\n",
       "                    country  word_count     label  class  \n",
       "0                      none          16  positive      1  \n",
       "1  United States of America         708  positive      1  \n",
       "2  United States of America         805  positive      1  \n",
       "3  United States of America         836  positive      1  \n",
       "4  United States of America        2281  positive      1  "
      ]
     },
     "execution_count": 2,
     "metadata": {},
     "output_type": "execute_result"
    }
   ],
   "source": [
    "#load dataset\n",
    "df = pd.read_csv('/Users/madhukumar/Desktop/Portfolio/github/glassdoor-sentiment/data/employee_reviews_with_features.csv')\n",
    "df.head()"
   ]
  },
  {
   "cell_type": "code",
   "execution_count": 3,
   "metadata": {},
   "outputs": [],
   "source": [
    "df.drop(['Unnamed: 0'], axis=1, inplace=True)"
   ]
  },
  {
   "cell_type": "code",
   "execution_count": 4,
   "metadata": {},
   "outputs": [],
   "source": [
    "df.rename(columns={'clean_review':'text'}, inplace=True)"
   ]
  },
  {
   "cell_type": "code",
   "execution_count": 5,
   "metadata": {},
   "outputs": [
    {
     "data": {
      "text/html": [
       "<div>\n",
       "<style scoped>\n",
       "    .dataframe tbody tr th:only-of-type {\n",
       "        vertical-align: middle;\n",
       "    }\n",
       "\n",
       "    .dataframe tbody tr th {\n",
       "        vertical-align: top;\n",
       "    }\n",
       "\n",
       "    .dataframe thead th {\n",
       "        text-align: right;\n",
       "    }\n",
       "</style>\n",
       "<table border=\"1\" class=\"dataframe\">\n",
       "  <thead>\n",
       "    <tr style=\"text-align: right;\">\n",
       "      <th></th>\n",
       "      <th>full_review</th>\n",
       "      <th>text</th>\n",
       "      <th>country</th>\n",
       "      <th>word_count</th>\n",
       "      <th>label</th>\n",
       "      <th>class</th>\n",
       "    </tr>\n",
       "  </thead>\n",
       "  <tbody>\n",
       "    <tr>\n",
       "      <th>0</th>\n",
       "      <td>Best Company to work for. People are smart and...</td>\n",
       "      <td>best company to work for people are smart and ...</td>\n",
       "      <td>none</td>\n",
       "      <td>16</td>\n",
       "      <td>positive</td>\n",
       "      <td>1</td>\n",
       "    </tr>\n",
       "    <tr>\n",
       "      <th>1</th>\n",
       "      <td>Moving at the speed of light, burn out is inev...</td>\n",
       "      <td>moving at the speed of light burn out is inevi...</td>\n",
       "      <td>United States of America</td>\n",
       "      <td>708</td>\n",
       "      <td>positive</td>\n",
       "      <td>1</td>\n",
       "    </tr>\n",
       "    <tr>\n",
       "      <th>2</th>\n",
       "      <td>Great balance between big-company security and...</td>\n",
       "      <td>great balance between bigcompany security and ...</td>\n",
       "      <td>United States of America</td>\n",
       "      <td>805</td>\n",
       "      <td>positive</td>\n",
       "      <td>1</td>\n",
       "    </tr>\n",
       "    <tr>\n",
       "      <th>3</th>\n",
       "      <td>The best place I've worked and also the most d...</td>\n",
       "      <td>the best place ive worked and also the most de...</td>\n",
       "      <td>United States of America</td>\n",
       "      <td>836</td>\n",
       "      <td>positive</td>\n",
       "      <td>1</td>\n",
       "    </tr>\n",
       "    <tr>\n",
       "      <th>4</th>\n",
       "      <td>Unique, one of a kind dream job. Google is a w...</td>\n",
       "      <td>unique one of a kind dream job google is a wor...</td>\n",
       "      <td>United States of America</td>\n",
       "      <td>2281</td>\n",
       "      <td>positive</td>\n",
       "      <td>1</td>\n",
       "    </tr>\n",
       "  </tbody>\n",
       "</table>\n",
       "</div>"
      ],
      "text/plain": [
       "                                         full_review  \\\n",
       "0  Best Company to work for. People are smart and...   \n",
       "1  Moving at the speed of light, burn out is inev...   \n",
       "2  Great balance between big-company security and...   \n",
       "3  The best place I've worked and also the most d...   \n",
       "4  Unique, one of a kind dream job. Google is a w...   \n",
       "\n",
       "                                                text  \\\n",
       "0  best company to work for people are smart and ...   \n",
       "1  moving at the speed of light burn out is inevi...   \n",
       "2  great balance between bigcompany security and ...   \n",
       "3  the best place ive worked and also the most de...   \n",
       "4  unique one of a kind dream job google is a wor...   \n",
       "\n",
       "                    country  word_count     label  class  \n",
       "0                      none          16  positive      1  \n",
       "1  United States of America         708  positive      1  \n",
       "2  United States of America         805  positive      1  \n",
       "3  United States of America         836  positive      1  \n",
       "4  United States of America        2281  positive      1  "
      ]
     },
     "execution_count": 5,
     "metadata": {},
     "output_type": "execute_result"
    }
   ],
   "source": [
    "df.head()"
   ]
  },
  {
   "cell_type": "code",
   "execution_count": 6,
   "metadata": {},
   "outputs": [
    {
     "data": {
      "text/plain": [
       "(66935, 6)"
      ]
     },
     "execution_count": 6,
     "metadata": {},
     "output_type": "execute_result"
    }
   ],
   "source": [
    "df.shape"
   ]
  },
  {
   "cell_type": "code",
   "execution_count": 7,
   "metadata": {},
   "outputs": [
    {
     "data": {
      "text/plain": [
       "full_review    0\n",
       "text           0\n",
       "country        0\n",
       "word_count     0\n",
       "label          0\n",
       "class          0\n",
       "dtype: int64"
      ]
     },
     "execution_count": 7,
     "metadata": {},
     "output_type": "execute_result"
    }
   ],
   "source": [
    "df.isnull().sum()"
   ]
  },
  {
   "cell_type": "code",
   "execution_count": 8,
   "metadata": {},
   "outputs": [
    {
     "data": {
      "text/plain": [
       "positive    60499\n",
       "negative     5811\n",
       "neutral       625\n",
       "Name: label, dtype: int64"
      ]
     },
     "execution_count": 8,
     "metadata": {},
     "output_type": "execute_result"
    }
   ],
   "source": [
    "df.label.value_counts()"
   ]
  },
  {
   "cell_type": "code",
   "execution_count": 9,
   "metadata": {},
   "outputs": [
    {
     "data": {
      "text/plain": [
       "positive    0.903847\n",
       "negative    0.086816\n",
       "neutral     0.009337\n",
       "Name: label, dtype: float64"
      ]
     },
     "execution_count": 9,
     "metadata": {},
     "output_type": "execute_result"
    }
   ],
   "source": [
    "df['label'].value_counts() / len(df.text)"
   ]
  },
  {
   "cell_type": "markdown",
   "metadata": {},
   "source": [
    "Target class is highly imbalanced"
   ]
  },
  {
   "cell_type": "markdown",
   "metadata": {},
   "source": [
    "# Resampling"
   ]
  },
  {
   "cell_type": "code",
   "execution_count": 10,
   "metadata": {},
   "outputs": [],
   "source": [
    "X = df[['text', 'class']]\n",
    "y = df['class']"
   ]
  },
  {
   "cell_type": "code",
   "execution_count": 11,
   "metadata": {},
   "outputs": [
    {
     "data": {
      "text/plain": [
       "1    60499\n",
       "0     5811\n",
       "2      625\n",
       "Name: class, dtype: int64"
      ]
     },
     "execution_count": 11,
     "metadata": {},
     "output_type": "execute_result"
    }
   ],
   "source": [
    "X['class'].value_counts()"
   ]
  },
  {
   "cell_type": "code",
   "execution_count": 12,
   "metadata": {},
   "outputs": [],
   "source": [
    "X = df[['text', 'class']]\n",
    "y = df['class']\n",
    "\n",
    "X_train, X_test, y_train, y_test = train_test_split(X, y, test_size=.02, random_state= 2000)"
   ]
  },
  {
   "cell_type": "code",
   "execution_count": 13,
   "metadata": {},
   "outputs": [
    {
     "data": {
      "text/plain": [
       "(65596, 2)"
      ]
     },
     "execution_count": 13,
     "metadata": {},
     "output_type": "execute_result"
    }
   ],
   "source": [
    "X_train.shape"
   ]
  },
  {
   "cell_type": "code",
   "execution_count": 14,
   "metadata": {},
   "outputs": [],
   "source": [
    "# separate minority and majority classes\n",
    "negative = X_train[X_train['class'] == 2]\n",
    "positive = X_train[X_train['class'] == 1]\n",
    "neutral = X_train[X_train['class'] == 0]"
   ]
  },
  {
   "cell_type": "code",
   "execution_count": 17,
   "metadata": {},
   "outputs": [
    {
     "data": {
      "text/html": [
       "<div>\n",
       "<style scoped>\n",
       "    .dataframe tbody tr th:only-of-type {\n",
       "        vertical-align: middle;\n",
       "    }\n",
       "\n",
       "    .dataframe tbody tr th {\n",
       "        vertical-align: top;\n",
       "    }\n",
       "\n",
       "    .dataframe thead th {\n",
       "        text-align: right;\n",
       "    }\n",
       "</style>\n",
       "<table border=\"1\" class=\"dataframe\">\n",
       "  <thead>\n",
       "    <tr style=\"text-align: right;\">\n",
       "      <th></th>\n",
       "      <th>text</th>\n",
       "      <th>class</th>\n",
       "    </tr>\n",
       "  </thead>\n",
       "  <tbody>\n",
       "    <tr>\n",
       "      <th>13079</th>\n",
       "      <td>seasonal campus associtate great work environm...</td>\n",
       "      <td>1</td>\n",
       "    </tr>\n",
       "    <tr>\n",
       "      <th>3391</th>\n",
       "      <td>super fun but plenty of ineffeciencies super p...</td>\n",
       "      <td>1</td>\n",
       "    </tr>\n",
       "    <tr>\n",
       "      <th>46974</th>\n",
       "      <td>business specialist professional environment p...</td>\n",
       "      <td>1</td>\n",
       "    </tr>\n",
       "    <tr>\n",
       "      <th>62693</th>\n",
       "      <td>facilities coordinator great place laid out cu...</td>\n",
       "      <td>1</td>\n",
       "    </tr>\n",
       "    <tr>\n",
       "      <th>42170</th>\n",
       "      <td>genius great customer service job stability go...</td>\n",
       "      <td>1</td>\n",
       "    </tr>\n",
       "  </tbody>\n",
       "</table>\n",
       "</div>"
      ],
      "text/plain": [
       "                                                    text  class\n",
       "13079  seasonal campus associtate great work environm...      1\n",
       "3391   super fun but plenty of ineffeciencies super p...      1\n",
       "46974  business specialist professional environment p...      1\n",
       "62693  facilities coordinator great place laid out cu...      1\n",
       "42170  genius great customer service job stability go...      1"
      ]
     },
     "execution_count": 17,
     "metadata": {},
     "output_type": "execute_result"
    }
   ],
   "source": [
    "# upsample minority class\n",
    "negative_upsampled = resample(negative,\n",
    "                          replace=True, # sample with replacement\n",
    "                          n_samples=len(positive), # match number in majority class\n",
    "                          random_state=27) # reproducible results\n",
    "\n",
    "neutral_upsampled = resample(negative,\n",
    "                          replace=True, # sample with replacement\n",
    "                          n_samples=len(positive), # match number in majority class\n",
    "                          random_state=27) # reproducible results\n",
    "\n",
    "# combine majority and upsampled minority\n",
    "df_resampled = pd.concat([positive, neutral, negative_upsampled])\n",
    "\n",
    "# check new class counts\n",
    "df_resampled['class'].value_counts()\n",
    "\n",
    "df_resampled.head()"
   ]
  },
  {
   "cell_type": "code",
   "execution_count": 19,
   "metadata": {},
   "outputs": [
    {
     "data": {
      "text/plain": [
       "(124288, 2)"
      ]
     },
     "execution_count": 19,
     "metadata": {},
     "output_type": "execute_result"
    }
   ],
   "source": [
    "df_resampled.shape"
   ]
  },
  {
   "cell_type": "code",
   "execution_count": 21,
   "metadata": {},
   "outputs": [
    {
     "data": {
      "text/plain": [
       "2    59296\n",
       "1    59296\n",
       "0     5696\n",
       "Name: class, dtype: int64"
      ]
     },
     "execution_count": 21,
     "metadata": {},
     "output_type": "execute_result"
    }
   ],
   "source": [
    "df_resampled['class'].value_counts()"
   ]
  },
  {
   "cell_type": "markdown",
   "metadata": {},
   "source": [
    "# Lemmatization"
   ]
  },
  {
   "cell_type": "code",
   "execution_count": 22,
   "metadata": {},
   "outputs": [],
   "source": [
    "# define a function that accepts text and returns a list of lemmas\n",
    "def split_into_lemmas(text):\n",
    "    text = str(text).lower()\n",
    "    words = TextBlob(str(text)).words\n",
    "    return [word.lemmatize() for word in words]"
   ]
  },
  {
   "cell_type": "markdown",
   "metadata": {},
   "source": [
    "# Bag of Words - Vectorization"
   ]
  },
  {
   "cell_type": "markdown",
   "metadata": {},
   "source": [
    "# (1) CountVectorizer"
   ]
  },
  {
   "cell_type": "code",
   "execution_count": 23,
   "metadata": {},
   "outputs": [],
   "source": [
    "cvec = CountVectorizer()"
   ]
  },
  {
   "cell_type": "code",
   "execution_count": 24,
   "metadata": {},
   "outputs": [],
   "source": [
    "stop = stopwords.words('english') \n",
    "#in case custom stopwords will be requires\n",
    "additional_stopwords = \"\"\" \"\"\"\n",
    "\n",
    "stop += additional_stopwords.split()"
   ]
  },
  {
   "cell_type": "code",
   "execution_count": 25,
   "metadata": {},
   "outputs": [],
   "source": [
    "# use split_into_lemmas as the feature extraction function (WARNING: SLOW!)\n",
    "vect = CountVectorizer(stop_words=stop, analyzer=split_into_lemmas)"
   ]
  },
  {
   "cell_type": "code",
   "execution_count": 26,
   "metadata": {},
   "outputs": [
    {
     "data": {
      "text/plain": [
       "CountVectorizer(analyzer='word', binary=False, decode_error='strict',\n",
       "                dtype=<class 'numpy.int64'>, encoding='utf-8', input='content',\n",
       "                lowercase=True, max_df=1.0, max_features=None, min_df=1,\n",
       "                ngram_range=(1, 1), preprocessor=None, stop_words=None,\n",
       "                strip_accents=None, token_pattern='(?u)\\\\b\\\\w\\\\w+\\\\b',\n",
       "                tokenizer=None, vocabulary=None)"
      ]
     },
     "execution_count": 26,
     "metadata": {},
     "output_type": "execute_result"
    }
   ],
   "source": [
    "# Fitting the vectorizer on our training data\n",
    "cvec.fit(df['text'])"
   ]
  },
  {
   "cell_type": "code",
   "execution_count": 27,
   "metadata": {},
   "outputs": [
    {
     "data": {
      "text/plain": [
       "49402"
      ]
     },
     "execution_count": 27,
     "metadata": {},
     "output_type": "execute_result"
    }
   ],
   "source": [
    "# Lets check the length of our data that is in a vectorized state\n",
    "len(cvec.get_feature_names())"
   ]
  },
  {
   "cell_type": "markdown",
   "metadata": {},
   "source": [
    "# Null Accuracy (Baseline)"
   ]
  },
  {
   "cell_type": "code",
   "execution_count": 28,
   "metadata": {},
   "outputs": [],
   "source": [
    "y = df['class']"
   ]
  },
  {
   "cell_type": "code",
   "execution_count": 29,
   "metadata": {},
   "outputs": [
    {
     "data": {
      "text/plain": [
       "1    60499\n",
       "0     5811\n",
       "2      625\n",
       "Name: class, dtype: int64"
      ]
     },
     "execution_count": 29,
     "metadata": {},
     "output_type": "execute_result"
    }
   ],
   "source": [
    "# examine the class distribution of the testing set (using a Pandas Series method)\n",
    "y.value_counts()"
   ]
  },
  {
   "cell_type": "code",
   "execution_count": 30,
   "metadata": {},
   "outputs": [
    {
     "data": {
      "text/plain": [
       "1    0.903847\n",
       "0    0.086816\n",
       "2    0.009337\n",
       "Name: class, dtype: float64"
      ]
     },
     "execution_count": 30,
     "metadata": {},
     "output_type": "execute_result"
    }
   ],
   "source": [
    "# calculate the percentage\n",
    "y.value_counts()/len(y)"
   ]
  },
  {
   "cell_type": "code",
   "execution_count": 31,
   "metadata": {},
   "outputs": [
    {
     "data": {
      "text/plain": [
       "1    0.903847\n",
       "Name: class, dtype: float64"
      ]
     },
     "execution_count": 31,
     "metadata": {},
     "output_type": "execute_result"
    }
   ],
   "source": [
    "# calculate null accuracy (for multi-class classification problems)\n",
    "y.value_counts().head(1) / len(y)"
   ]
  },
  {
   "cell_type": "markdown",
   "metadata": {},
   "source": [
    "# Classification Models"
   ]
  },
  {
   "cell_type": "code",
   "execution_count": 48,
   "metadata": {},
   "outputs": [
    {
     "name": "stdout",
     "output_type": "stream",
     "text": [
      "0.0\n"
     ]
    },
    {
     "name": "stderr",
     "output_type": "stream",
     "text": [
      "/Users/madhukumar/anaconda3/lib/python3.7/site-packages/sklearn/linear_model/logistic.py:947: ConvergenceWarning:\n",
      "\n",
      "lbfgs failed to converge. Increase the number of iterations.\n",
      "\n"
     ]
    },
    {
     "ename": "ValueError",
     "evalue": "Mix of label input types (string and number)",
     "output_type": "error",
     "traceback": [
      "\u001b[0;31m---------------------------------------------------------------------------\u001b[0m",
      "\u001b[0;31mValueError\u001b[0m                                Traceback (most recent call last)",
      "\u001b[0;32m<ipython-input-48-815e22e91413>\u001b[0m in \u001b[0;36m<module>\u001b[0;34m\u001b[0m\n\u001b[1;32m     23\u001b[0m \u001b[0;31m# Calculate accuracy\u001b[0m\u001b[0;34m\u001b[0m\u001b[0;34m\u001b[0m\u001b[0;34m\u001b[0m\u001b[0m\n\u001b[1;32m     24\u001b[0m \u001b[0mprint\u001b[0m\u001b[0;34m(\u001b[0m\u001b[0;34m(\u001b[0m\u001b[0mmetrics\u001b[0m\u001b[0;34m.\u001b[0m\u001b[0maccuracy_score\u001b[0m\u001b[0;34m(\u001b[0m\u001b[0my_test\u001b[0m\u001b[0;34m,\u001b[0m \u001b[0my_pred_class\u001b[0m\u001b[0;34m)\u001b[0m\u001b[0;34m)\u001b[0m\u001b[0;34m)\u001b[0m\u001b[0;34m\u001b[0m\u001b[0;34m\u001b[0m\u001b[0m\n\u001b[0;32m---> 25\u001b[0;31m \u001b[0mprint\u001b[0m\u001b[0;34m(\u001b[0m\u001b[0mclassification_report\u001b[0m\u001b[0;34m(\u001b[0m\u001b[0my_test\u001b[0m\u001b[0;34m,\u001b[0m \u001b[0mLogReg\u001b[0m\u001b[0;34m.\u001b[0m\u001b[0mpredict\u001b[0m\u001b[0;34m(\u001b[0m\u001b[0mX_test_dtm\u001b[0m\u001b[0;34m)\u001b[0m\u001b[0;34m)\u001b[0m\u001b[0;34m)\u001b[0m\u001b[0;34m\u001b[0m\u001b[0;34m\u001b[0m\u001b[0m\n\u001b[0m",
      "\u001b[0;32m~/anaconda3/lib/python3.7/site-packages/sklearn/metrics/classification.py\u001b[0m in \u001b[0;36mclassification_report\u001b[0;34m(y_true, y_pred, labels, target_names, sample_weight, digits, output_dict)\u001b[0m\n\u001b[1;32m   1854\u001b[0m     \u001b[0mlabels_given\u001b[0m \u001b[0;34m=\u001b[0m \u001b[0;32mTrue\u001b[0m\u001b[0;34m\u001b[0m\u001b[0;34m\u001b[0m\u001b[0m\n\u001b[1;32m   1855\u001b[0m     \u001b[0;32mif\u001b[0m \u001b[0mlabels\u001b[0m \u001b[0;32mis\u001b[0m \u001b[0;32mNone\u001b[0m\u001b[0;34m:\u001b[0m\u001b[0;34m\u001b[0m\u001b[0;34m\u001b[0m\u001b[0m\n\u001b[0;32m-> 1856\u001b[0;31m         \u001b[0mlabels\u001b[0m \u001b[0;34m=\u001b[0m \u001b[0munique_labels\u001b[0m\u001b[0;34m(\u001b[0m\u001b[0my_true\u001b[0m\u001b[0;34m,\u001b[0m \u001b[0my_pred\u001b[0m\u001b[0;34m)\u001b[0m\u001b[0;34m\u001b[0m\u001b[0;34m\u001b[0m\u001b[0m\n\u001b[0m\u001b[1;32m   1857\u001b[0m         \u001b[0mlabels_given\u001b[0m \u001b[0;34m=\u001b[0m \u001b[0;32mFalse\u001b[0m\u001b[0;34m\u001b[0m\u001b[0;34m\u001b[0m\u001b[0m\n\u001b[1;32m   1858\u001b[0m     \u001b[0;32melse\u001b[0m\u001b[0;34m:\u001b[0m\u001b[0;34m\u001b[0m\u001b[0;34m\u001b[0m\u001b[0m\n",
      "\u001b[0;32m~/anaconda3/lib/python3.7/site-packages/sklearn/utils/multiclass.py\u001b[0m in \u001b[0;36munique_labels\u001b[0;34m(*ys)\u001b[0m\n\u001b[1;32m     98\u001b[0m     \u001b[0;31m# Check that we don't mix string type with number type\u001b[0m\u001b[0;34m\u001b[0m\u001b[0;34m\u001b[0m\u001b[0;34m\u001b[0m\u001b[0m\n\u001b[1;32m     99\u001b[0m     \u001b[0;32mif\u001b[0m \u001b[0;34m(\u001b[0m\u001b[0mlen\u001b[0m\u001b[0;34m(\u001b[0m\u001b[0mset\u001b[0m\u001b[0;34m(\u001b[0m\u001b[0misinstance\u001b[0m\u001b[0;34m(\u001b[0m\u001b[0mlabel\u001b[0m\u001b[0;34m,\u001b[0m \u001b[0mstr\u001b[0m\u001b[0;34m)\u001b[0m \u001b[0;32mfor\u001b[0m \u001b[0mlabel\u001b[0m \u001b[0;32min\u001b[0m \u001b[0mys_labels\u001b[0m\u001b[0;34m)\u001b[0m\u001b[0;34m)\u001b[0m \u001b[0;34m>\u001b[0m \u001b[0;36m1\u001b[0m\u001b[0;34m)\u001b[0m\u001b[0;34m:\u001b[0m\u001b[0;34m\u001b[0m\u001b[0;34m\u001b[0m\u001b[0m\n\u001b[0;32m--> 100\u001b[0;31m         \u001b[0;32mraise\u001b[0m \u001b[0mValueError\u001b[0m\u001b[0;34m(\u001b[0m\u001b[0;34m\"Mix of label input types (string and number)\"\u001b[0m\u001b[0;34m)\u001b[0m\u001b[0;34m\u001b[0m\u001b[0;34m\u001b[0m\u001b[0m\n\u001b[0m\u001b[1;32m    101\u001b[0m \u001b[0;34m\u001b[0m\u001b[0m\n\u001b[1;32m    102\u001b[0m     \u001b[0;32mreturn\u001b[0m \u001b[0mnp\u001b[0m\u001b[0;34m.\u001b[0m\u001b[0marray\u001b[0m\u001b[0;34m(\u001b[0m\u001b[0msorted\u001b[0m\u001b[0;34m(\u001b[0m\u001b[0mys_labels\u001b[0m\u001b[0;34m)\u001b[0m\u001b[0;34m)\u001b[0m\u001b[0;34m\u001b[0m\u001b[0;34m\u001b[0m\u001b[0m\n",
      "\u001b[0;31mValueError\u001b[0m: Mix of label input types (string and number)"
     ]
    }
   ],
   "source": [
    "X_train = df_resampled['text']\n",
    "y_train = df_resampled['class']\n",
    "\n",
    "X = df['text']\n",
    "y = df['label']\n",
    "\n",
    "SEED = 2000\n",
    "X_train_null, X_test, y_train_null, y_test = train_test_split(X, y, test_size=.02, random_state=SEED)\n",
    "                                                                                  \n",
    "# Use CountVectorizer\n",
    "vect = CountVectorizer(stop_words=stop, tokenizer = word_tokenize, analyzer=split_into_lemmas, min_df=0.0001,\n",
    "                      max_df = 0.80)\n",
    "\n",
    "# Create document-term matrices\n",
    "X_train_dtm = vect.fit_transform(X_train)\n",
    "X_test_dtm = vect.transform(X_test)\n",
    "\n",
    "# Use LogReg to predict the target class\n",
    "LogReg = LogisticRegression(C=0.2, solver='lbfgs', dual=False, multi_class='multinomial')\n",
    "LogReg.fit(X_train_dtm, y_train)\n",
    "y_pred_class = LogReg.predict(X_test_dtm)\n",
    "\n",
    "# Calculate accuracy\n",
    "print((metrics.accuracy_score(y_test, y_pred_class)))\n",
    "print(classification_report(y_test, LogReg.predict(X_test_dtm)))"
   ]
  },
  {
   "cell_type": "markdown",
   "metadata": {},
   "source": [
    "# Feature Comparison and Selection"
   ]
  },
  {
   "cell_type": "markdown",
   "metadata": {},
   "source": [
    "- To see if we can improve accuracy scores from the above model\n",
    "- Comparing n-grams and vectorization models"
   ]
  },
  {
   "cell_type": "code",
   "execution_count": 44,
   "metadata": {},
   "outputs": [],
   "source": [
    "X = df['text']\n",
    "y = df['label']\n",
    "\n",
    "SEED = 2000\n",
    "X_train, X_validation_and_test, y_train, y_validation_and_test = train_test_split(X, y, test_size=.02, \n",
    "                                                                                  random_state=SEED)\n",
    "\n",
    "X_validation, X_test, y_validation, y_test = train_test_split(X_validation_and_test, \n",
    "                                                              y_validation_and_test, test_size=.5, random_state=SEED)"
   ]
  },
  {
   "cell_type": "code",
   "execution_count": 45,
   "metadata": {},
   "outputs": [],
   "source": [
    "def accuracy_summary(pipeline, X_train, y_train, X_test, y_test):\n",
    "    \n",
    "    null_accuracy = 0.54\n",
    "    \n",
    "    t0 = time()\n",
    "    sentiment_fit = pipeline.fit(X_train, y_train)\n",
    "    y_pred = sentiment_fit.predict(X_test)\n",
    "    \n",
    "    train_test_time = time() - t0\n",
    "    accuracy = accuracy_score(y_test, y_pred)\n",
    "    f1 = f1_score(y_test, y_pred, average='weighted')\n",
    "    \n",
    "    print((\"f1 score: {0:.2f}\").format(f1))\n",
    "    \n",
    "    print (\"null accuracy: {0:.2f}%\".format(null_accuracy*100))\n",
    "    print (\"accuracy score: {0:.2f}%\".format(accuracy*100))\n",
    "    \n",
    "    if accuracy > null_accuracy:\n",
    "        print (\"model is {0:.2f}% more accurate than null accuracy\".format((accuracy-null_accuracy)*100))\n",
    "    elif accuracy == null_accuracy:\n",
    "        print (\"model has the same accuracy with the null accuracy\")\n",
    "    else:\n",
    "        print (\"model is {0:.2f}% less accurate than null accuracy\".format((null_accuracy-accuracy)*100))\n",
    "        \n",
    "    print (\"train and test time: {0:.2f}s\".format(train_test_time))\n",
    "    print (\"-\"*80)\n",
    "    return accuracy, train_test_time"
   ]
  },
  {
   "cell_type": "code",
   "execution_count": 46,
   "metadata": {},
   "outputs": [],
   "source": [
    "cvec = CountVectorizer()\n",
    "tvec= TfidfVectorizer()\n",
    "lr = LogisticRegression()\n",
    "n_features = np.arange(1000,10001,1000)\n",
    "\n",
    "\n",
    "def nfeature_accuracy_checker(vectorizer=cvec, n_features=n_features, stop_words=stop, ngram_range=(1, 1), classifier=lr):\n",
    "    result = []\n",
    "    \n",
    "    print (classifier)\n",
    "    print (\"\\n\")\n",
    "    \n",
    "    for n in n_features:\n",
    "        max_features=n\n",
    "        vectorizer.set_params(stop_words=stop, max_features=n, ngram_range=ngram_range)\n",
    "        \n",
    "        checker_pipeline = Pipeline([\n",
    "            ('vectorizer', vectorizer),\n",
    "            ('classifier', classifier)\n",
    "        ])\n",
    "        print (\"Validation result for {} features\".format(n))\n",
    "        \n",
    "        nfeature_accuracy,tt_time = accuracy_summary(checker_pipeline, X_train, y_train, X_validation, y_validation)\n",
    "        result.append((n,nfeature_accuracy,tt_time))\n",
    "    \n",
    "    return result\n"
   ]
  },
  {
   "cell_type": "code",
   "execution_count": 47,
   "metadata": {},
   "outputs": [],
   "source": [
    "def nfeature_accuracy_checker_forhash(vectorizer=cvec, n_features=n_features, stop_words=stop, ngram_range=(1, 1), classifier=lr):\n",
    "    result = []\n",
    "    \n",
    "    print (classifier)\n",
    "    print (\"\\n\")\n",
    "    \n",
    "    for n in n_features:\n",
    "        max_features=n\n",
    "        vectorizer.set_params(stop_words=stop, n_features=n, ngram_range=ngram_range)\n",
    "        \n",
    "        checker_pipeline = Pipeline([\n",
    "            ('vectorizer', vectorizer),\n",
    "            ('classifier', classifier)\n",
    "        ])\n",
    "        print (\"Validation result for {} features\".format(n))\n",
    "        \n",
    "        nfeature_accuracy,tt_time = accuracy_summary(checker_pipeline, X_train, y_train, X_validation, y_validation)\n",
    "        result.append((n,nfeature_accuracy,tt_time))\n",
    "    \n",
    "    return result"
   ]
  },
  {
   "cell_type": "code",
   "execution_count": 48,
   "metadata": {},
   "outputs": [
    {
     "name": "stdout",
     "output_type": "stream",
     "text": [
      "RESULT FOR UNIGRAM WITH STOP WORDS (Tfidf)\n",
      "\n",
      "LogisticRegression(C=1.0, class_weight=None, dual=False, fit_intercept=True,\n",
      "                   intercept_scaling=1, l1_ratio=None, max_iter=100,\n",
      "                   multi_class='warn', n_jobs=None, penalty='l2',\n",
      "                   random_state=None, solver='warn', tol=0.0001, verbose=0,\n",
      "                   warm_start=False)\n",
      "\n",
      "\n",
      "Validation result for 1000 features\n"
     ]
    },
    {
     "name": "stderr",
     "output_type": "stream",
     "text": [
      "/Users/madhukumar/anaconda3/lib/python3.7/site-packages/sklearn/linear_model/logistic.py:432: FutureWarning:\n",
      "\n",
      "Default solver will be changed to 'lbfgs' in 0.22. Specify a solver to silence this warning.\n",
      "\n",
      "/Users/madhukumar/anaconda3/lib/python3.7/site-packages/sklearn/linear_model/logistic.py:469: FutureWarning:\n",
      "\n",
      "Default multi_class will be changed to 'auto' in 0.22. Specify the multi_class option to silence this warning.\n",
      "\n",
      "/Users/madhukumar/anaconda3/lib/python3.7/site-packages/sklearn/metrics/classification.py:1437: UndefinedMetricWarning:\n",
      "\n",
      "F-score is ill-defined and being set to 0.0 in labels with no predicted samples.\n",
      "\n"
     ]
    },
    {
     "name": "stdout",
     "output_type": "stream",
     "text": [
      "f1 score: 0.89\n",
      "null accuracy: 54.00%\n",
      "accuracy score: 91.18%\n",
      "model is 37.18% more accurate than null accuracy\n",
      "train and test time: 4.34s\n",
      "--------------------------------------------------------------------------------\n",
      "Validation result for 2000 features\n"
     ]
    },
    {
     "name": "stderr",
     "output_type": "stream",
     "text": [
      "/Users/madhukumar/anaconda3/lib/python3.7/site-packages/sklearn/linear_model/logistic.py:432: FutureWarning:\n",
      "\n",
      "Default solver will be changed to 'lbfgs' in 0.22. Specify a solver to silence this warning.\n",
      "\n",
      "/Users/madhukumar/anaconda3/lib/python3.7/site-packages/sklearn/linear_model/logistic.py:469: FutureWarning:\n",
      "\n",
      "Default multi_class will be changed to 'auto' in 0.22. Specify the multi_class option to silence this warning.\n",
      "\n",
      "/Users/madhukumar/anaconda3/lib/python3.7/site-packages/sklearn/metrics/classification.py:1437: UndefinedMetricWarning:\n",
      "\n",
      "F-score is ill-defined and being set to 0.0 in labels with no predicted samples.\n",
      "\n"
     ]
    },
    {
     "name": "stdout",
     "output_type": "stream",
     "text": [
      "f1 score: 0.90\n",
      "null accuracy: 54.00%\n",
      "accuracy score: 92.08%\n",
      "model is 38.08% more accurate than null accuracy\n",
      "train and test time: 4.15s\n",
      "--------------------------------------------------------------------------------\n",
      "Validation result for 3000 features\n"
     ]
    },
    {
     "name": "stderr",
     "output_type": "stream",
     "text": [
      "/Users/madhukumar/anaconda3/lib/python3.7/site-packages/sklearn/linear_model/logistic.py:432: FutureWarning:\n",
      "\n",
      "Default solver will be changed to 'lbfgs' in 0.22. Specify a solver to silence this warning.\n",
      "\n",
      "/Users/madhukumar/anaconda3/lib/python3.7/site-packages/sklearn/linear_model/logistic.py:469: FutureWarning:\n",
      "\n",
      "Default multi_class will be changed to 'auto' in 0.22. Specify the multi_class option to silence this warning.\n",
      "\n",
      "/Users/madhukumar/anaconda3/lib/python3.7/site-packages/sklearn/metrics/classification.py:1437: UndefinedMetricWarning:\n",
      "\n",
      "F-score is ill-defined and being set to 0.0 in labels with no predicted samples.\n",
      "\n"
     ]
    },
    {
     "name": "stdout",
     "output_type": "stream",
     "text": [
      "f1 score: 0.90\n",
      "null accuracy: 54.00%\n",
      "accuracy score: 92.08%\n",
      "model is 38.08% more accurate than null accuracy\n",
      "train and test time: 4.17s\n",
      "--------------------------------------------------------------------------------\n",
      "Validation result for 4000 features\n"
     ]
    },
    {
     "name": "stderr",
     "output_type": "stream",
     "text": [
      "/Users/madhukumar/anaconda3/lib/python3.7/site-packages/sklearn/linear_model/logistic.py:432: FutureWarning:\n",
      "\n",
      "Default solver will be changed to 'lbfgs' in 0.22. Specify a solver to silence this warning.\n",
      "\n",
      "/Users/madhukumar/anaconda3/lib/python3.7/site-packages/sklearn/linear_model/logistic.py:469: FutureWarning:\n",
      "\n",
      "Default multi_class will be changed to 'auto' in 0.22. Specify the multi_class option to silence this warning.\n",
      "\n",
      "/Users/madhukumar/anaconda3/lib/python3.7/site-packages/sklearn/metrics/classification.py:1437: UndefinedMetricWarning:\n",
      "\n",
      "F-score is ill-defined and being set to 0.0 in labels with no predicted samples.\n",
      "\n"
     ]
    },
    {
     "name": "stdout",
     "output_type": "stream",
     "text": [
      "f1 score: 0.90\n",
      "null accuracy: 54.00%\n",
      "accuracy score: 91.93%\n",
      "model is 37.93% more accurate than null accuracy\n",
      "train and test time: 4.57s\n",
      "--------------------------------------------------------------------------------\n",
      "Validation result for 5000 features\n"
     ]
    },
    {
     "name": "stderr",
     "output_type": "stream",
     "text": [
      "/Users/madhukumar/anaconda3/lib/python3.7/site-packages/sklearn/linear_model/logistic.py:432: FutureWarning:\n",
      "\n",
      "Default solver will be changed to 'lbfgs' in 0.22. Specify a solver to silence this warning.\n",
      "\n",
      "/Users/madhukumar/anaconda3/lib/python3.7/site-packages/sklearn/linear_model/logistic.py:469: FutureWarning:\n",
      "\n",
      "Default multi_class will be changed to 'auto' in 0.22. Specify the multi_class option to silence this warning.\n",
      "\n",
      "/Users/madhukumar/anaconda3/lib/python3.7/site-packages/sklearn/metrics/classification.py:1437: UndefinedMetricWarning:\n",
      "\n",
      "F-score is ill-defined and being set to 0.0 in labels with no predicted samples.\n",
      "\n"
     ]
    },
    {
     "name": "stdout",
     "output_type": "stream",
     "text": [
      "f1 score: 0.90\n",
      "null accuracy: 54.00%\n",
      "accuracy score: 92.08%\n",
      "model is 38.08% more accurate than null accuracy\n",
      "train and test time: 4.42s\n",
      "--------------------------------------------------------------------------------\n",
      "Validation result for 6000 features\n"
     ]
    },
    {
     "name": "stderr",
     "output_type": "stream",
     "text": [
      "/Users/madhukumar/anaconda3/lib/python3.7/site-packages/sklearn/linear_model/logistic.py:432: FutureWarning:\n",
      "\n",
      "Default solver will be changed to 'lbfgs' in 0.22. Specify a solver to silence this warning.\n",
      "\n",
      "/Users/madhukumar/anaconda3/lib/python3.7/site-packages/sklearn/linear_model/logistic.py:469: FutureWarning:\n",
      "\n",
      "Default multi_class will be changed to 'auto' in 0.22. Specify the multi_class option to silence this warning.\n",
      "\n",
      "/Users/madhukumar/anaconda3/lib/python3.7/site-packages/sklearn/metrics/classification.py:1437: UndefinedMetricWarning:\n",
      "\n",
      "F-score is ill-defined and being set to 0.0 in labels with no predicted samples.\n",
      "\n"
     ]
    },
    {
     "name": "stdout",
     "output_type": "stream",
     "text": [
      "f1 score: 0.90\n",
      "null accuracy: 54.00%\n",
      "accuracy score: 91.78%\n",
      "model is 37.78% more accurate than null accuracy\n",
      "train and test time: 4.74s\n",
      "--------------------------------------------------------------------------------\n",
      "Validation result for 7000 features\n"
     ]
    },
    {
     "name": "stderr",
     "output_type": "stream",
     "text": [
      "/Users/madhukumar/anaconda3/lib/python3.7/site-packages/sklearn/linear_model/logistic.py:432: FutureWarning:\n",
      "\n",
      "Default solver will be changed to 'lbfgs' in 0.22. Specify a solver to silence this warning.\n",
      "\n",
      "/Users/madhukumar/anaconda3/lib/python3.7/site-packages/sklearn/linear_model/logistic.py:469: FutureWarning:\n",
      "\n",
      "Default multi_class will be changed to 'auto' in 0.22. Specify the multi_class option to silence this warning.\n",
      "\n",
      "/Users/madhukumar/anaconda3/lib/python3.7/site-packages/sklearn/metrics/classification.py:1437: UndefinedMetricWarning:\n",
      "\n",
      "F-score is ill-defined and being set to 0.0 in labels with no predicted samples.\n",
      "\n"
     ]
    },
    {
     "name": "stdout",
     "output_type": "stream",
     "text": [
      "f1 score: 0.90\n",
      "null accuracy: 54.00%\n",
      "accuracy score: 91.93%\n",
      "model is 37.93% more accurate than null accuracy\n",
      "train and test time: 4.40s\n",
      "--------------------------------------------------------------------------------\n",
      "Validation result for 8000 features\n"
     ]
    },
    {
     "name": "stderr",
     "output_type": "stream",
     "text": [
      "/Users/madhukumar/anaconda3/lib/python3.7/site-packages/sklearn/linear_model/logistic.py:432: FutureWarning:\n",
      "\n",
      "Default solver will be changed to 'lbfgs' in 0.22. Specify a solver to silence this warning.\n",
      "\n",
      "/Users/madhukumar/anaconda3/lib/python3.7/site-packages/sklearn/linear_model/logistic.py:469: FutureWarning:\n",
      "\n",
      "Default multi_class will be changed to 'auto' in 0.22. Specify the multi_class option to silence this warning.\n",
      "\n",
      "/Users/madhukumar/anaconda3/lib/python3.7/site-packages/sklearn/metrics/classification.py:1437: UndefinedMetricWarning:\n",
      "\n",
      "F-score is ill-defined and being set to 0.0 in labels with no predicted samples.\n",
      "\n"
     ]
    },
    {
     "name": "stdout",
     "output_type": "stream",
     "text": [
      "f1 score: 0.90\n",
      "null accuracy: 54.00%\n",
      "accuracy score: 91.93%\n",
      "model is 37.93% more accurate than null accuracy\n",
      "train and test time: 4.90s\n",
      "--------------------------------------------------------------------------------\n",
      "Validation result for 9000 features\n"
     ]
    },
    {
     "name": "stderr",
     "output_type": "stream",
     "text": [
      "/Users/madhukumar/anaconda3/lib/python3.7/site-packages/sklearn/linear_model/logistic.py:432: FutureWarning:\n",
      "\n",
      "Default solver will be changed to 'lbfgs' in 0.22. Specify a solver to silence this warning.\n",
      "\n",
      "/Users/madhukumar/anaconda3/lib/python3.7/site-packages/sklearn/linear_model/logistic.py:469: FutureWarning:\n",
      "\n",
      "Default multi_class will be changed to 'auto' in 0.22. Specify the multi_class option to silence this warning.\n",
      "\n",
      "/Users/madhukumar/anaconda3/lib/python3.7/site-packages/sklearn/metrics/classification.py:1437: UndefinedMetricWarning:\n",
      "\n",
      "F-score is ill-defined and being set to 0.0 in labels with no predicted samples.\n",
      "\n"
     ]
    },
    {
     "name": "stdout",
     "output_type": "stream",
     "text": [
      "f1 score: 0.90\n",
      "null accuracy: 54.00%\n",
      "accuracy score: 91.93%\n",
      "model is 37.93% more accurate than null accuracy\n",
      "train and test time: 4.61s\n",
      "--------------------------------------------------------------------------------\n",
      "Validation result for 10000 features\n"
     ]
    },
    {
     "name": "stderr",
     "output_type": "stream",
     "text": [
      "/Users/madhukumar/anaconda3/lib/python3.7/site-packages/sklearn/linear_model/logistic.py:432: FutureWarning:\n",
      "\n",
      "Default solver will be changed to 'lbfgs' in 0.22. Specify a solver to silence this warning.\n",
      "\n",
      "/Users/madhukumar/anaconda3/lib/python3.7/site-packages/sklearn/linear_model/logistic.py:469: FutureWarning:\n",
      "\n",
      "Default multi_class will be changed to 'auto' in 0.22. Specify the multi_class option to silence this warning.\n",
      "\n"
     ]
    },
    {
     "name": "stdout",
     "output_type": "stream",
     "text": [
      "f1 score: 0.90\n",
      "null accuracy: 54.00%\n",
      "accuracy score: 91.78%\n",
      "model is 37.78% more accurate than null accuracy\n",
      "train and test time: 4.73s\n",
      "--------------------------------------------------------------------------------\n",
      "CPU times: user 42.8 s, sys: 1.05 s, total: 43.8 s\n",
      "Wall time: 45.1 s\n"
     ]
    },
    {
     "name": "stderr",
     "output_type": "stream",
     "text": [
      "/Users/madhukumar/anaconda3/lib/python3.7/site-packages/sklearn/metrics/classification.py:1437: UndefinedMetricWarning:\n",
      "\n",
      "F-score is ill-defined and being set to 0.0 in labels with no predicted samples.\n",
      "\n"
     ]
    }
   ],
   "source": [
    "%%time\n",
    "print (\"RESULT FOR UNIGRAM WITH STOP WORDS (Tfidf)\\n\")\n",
    "feature_result_ugt = nfeature_accuracy_checker(vectorizer=tvec)"
   ]
  },
  {
   "cell_type": "code",
   "execution_count": 49,
   "metadata": {},
   "outputs": [
    {
     "name": "stdout",
     "output_type": "stream",
     "text": [
      "RESULT FOR UNIGRAM WITH STOP WORDS (CountVectorizer)\n",
      "\n",
      "LogisticRegression(C=1.0, class_weight=None, dual=False, fit_intercept=True,\n",
      "                   intercept_scaling=1, l1_ratio=None, max_iter=100,\n",
      "                   multi_class='warn', n_jobs=None, penalty='l2',\n",
      "                   random_state=None, solver='warn', tol=0.0001, verbose=0,\n",
      "                   warm_start=False)\n",
      "\n",
      "\n",
      "Validation result for 1000 features\n"
     ]
    },
    {
     "name": "stderr",
     "output_type": "stream",
     "text": [
      "/Users/madhukumar/anaconda3/lib/python3.7/site-packages/sklearn/linear_model/logistic.py:432: FutureWarning:\n",
      "\n",
      "Default solver will be changed to 'lbfgs' in 0.22. Specify a solver to silence this warning.\n",
      "\n",
      "/Users/madhukumar/anaconda3/lib/python3.7/site-packages/sklearn/linear_model/logistic.py:469: FutureWarning:\n",
      "\n",
      "Default multi_class will be changed to 'auto' in 0.22. Specify the multi_class option to silence this warning.\n",
      "\n"
     ]
    },
    {
     "name": "stdout",
     "output_type": "stream",
     "text": [
      "f1 score: 0.89\n",
      "null accuracy: 54.00%\n",
      "accuracy score: 91.03%\n",
      "model is 37.03% more accurate than null accuracy\n",
      "train and test time: 5.54s\n",
      "--------------------------------------------------------------------------------\n",
      "Validation result for 2000 features\n"
     ]
    },
    {
     "name": "stderr",
     "output_type": "stream",
     "text": [
      "/Users/madhukumar/anaconda3/lib/python3.7/site-packages/sklearn/linear_model/logistic.py:432: FutureWarning:\n",
      "\n",
      "Default solver will be changed to 'lbfgs' in 0.22. Specify a solver to silence this warning.\n",
      "\n",
      "/Users/madhukumar/anaconda3/lib/python3.7/site-packages/sklearn/linear_model/logistic.py:469: FutureWarning:\n",
      "\n",
      "Default multi_class will be changed to 'auto' in 0.22. Specify the multi_class option to silence this warning.\n",
      "\n"
     ]
    },
    {
     "name": "stdout",
     "output_type": "stream",
     "text": [
      "f1 score: 0.91\n",
      "null accuracy: 54.00%\n",
      "accuracy score: 92.08%\n",
      "model is 38.08% more accurate than null accuracy\n",
      "train and test time: 7.52s\n",
      "--------------------------------------------------------------------------------\n",
      "Validation result for 3000 features\n"
     ]
    },
    {
     "name": "stderr",
     "output_type": "stream",
     "text": [
      "/Users/madhukumar/anaconda3/lib/python3.7/site-packages/sklearn/linear_model/logistic.py:432: FutureWarning:\n",
      "\n",
      "Default solver will be changed to 'lbfgs' in 0.22. Specify a solver to silence this warning.\n",
      "\n",
      "/Users/madhukumar/anaconda3/lib/python3.7/site-packages/sklearn/linear_model/logistic.py:469: FutureWarning:\n",
      "\n",
      "Default multi_class will be changed to 'auto' in 0.22. Specify the multi_class option to silence this warning.\n",
      "\n"
     ]
    },
    {
     "name": "stdout",
     "output_type": "stream",
     "text": [
      "f1 score: 0.91\n",
      "null accuracy: 54.00%\n",
      "accuracy score: 92.23%\n",
      "model is 38.23% more accurate than null accuracy\n",
      "train and test time: 8.84s\n",
      "--------------------------------------------------------------------------------\n",
      "Validation result for 4000 features\n"
     ]
    },
    {
     "name": "stderr",
     "output_type": "stream",
     "text": [
      "/Users/madhukumar/anaconda3/lib/python3.7/site-packages/sklearn/linear_model/logistic.py:432: FutureWarning:\n",
      "\n",
      "Default solver will be changed to 'lbfgs' in 0.22. Specify a solver to silence this warning.\n",
      "\n",
      "/Users/madhukumar/anaconda3/lib/python3.7/site-packages/sklearn/linear_model/logistic.py:469: FutureWarning:\n",
      "\n",
      "Default multi_class will be changed to 'auto' in 0.22. Specify the multi_class option to silence this warning.\n",
      "\n"
     ]
    },
    {
     "name": "stdout",
     "output_type": "stream",
     "text": [
      "f1 score: 0.91\n",
      "null accuracy: 54.00%\n",
      "accuracy score: 92.23%\n",
      "model is 38.23% more accurate than null accuracy\n",
      "train and test time: 9.80s\n",
      "--------------------------------------------------------------------------------\n",
      "Validation result for 5000 features\n"
     ]
    },
    {
     "name": "stderr",
     "output_type": "stream",
     "text": [
      "/Users/madhukumar/anaconda3/lib/python3.7/site-packages/sklearn/linear_model/logistic.py:432: FutureWarning:\n",
      "\n",
      "Default solver will be changed to 'lbfgs' in 0.22. Specify a solver to silence this warning.\n",
      "\n",
      "/Users/madhukumar/anaconda3/lib/python3.7/site-packages/sklearn/linear_model/logistic.py:469: FutureWarning:\n",
      "\n",
      "Default multi_class will be changed to 'auto' in 0.22. Specify the multi_class option to silence this warning.\n",
      "\n"
     ]
    },
    {
     "name": "stdout",
     "output_type": "stream",
     "text": [
      "f1 score: 0.91\n",
      "null accuracy: 54.00%\n",
      "accuracy score: 92.53%\n",
      "model is 38.53% more accurate than null accuracy\n",
      "train and test time: 10.32s\n",
      "--------------------------------------------------------------------------------\n",
      "Validation result for 6000 features\n"
     ]
    },
    {
     "name": "stderr",
     "output_type": "stream",
     "text": [
      "/Users/madhukumar/anaconda3/lib/python3.7/site-packages/sklearn/linear_model/logistic.py:432: FutureWarning:\n",
      "\n",
      "Default solver will be changed to 'lbfgs' in 0.22. Specify a solver to silence this warning.\n",
      "\n",
      "/Users/madhukumar/anaconda3/lib/python3.7/site-packages/sklearn/linear_model/logistic.py:469: FutureWarning:\n",
      "\n",
      "Default multi_class will be changed to 'auto' in 0.22. Specify the multi_class option to silence this warning.\n",
      "\n"
     ]
    },
    {
     "name": "stdout",
     "output_type": "stream",
     "text": [
      "f1 score: 0.91\n",
      "null accuracy: 54.00%\n",
      "accuracy score: 92.53%\n",
      "model is 38.53% more accurate than null accuracy\n",
      "train and test time: 11.80s\n",
      "--------------------------------------------------------------------------------\n",
      "Validation result for 7000 features\n"
     ]
    },
    {
     "name": "stderr",
     "output_type": "stream",
     "text": [
      "/Users/madhukumar/anaconda3/lib/python3.7/site-packages/sklearn/linear_model/logistic.py:432: FutureWarning:\n",
      "\n",
      "Default solver will be changed to 'lbfgs' in 0.22. Specify a solver to silence this warning.\n",
      "\n",
      "/Users/madhukumar/anaconda3/lib/python3.7/site-packages/sklearn/linear_model/logistic.py:469: FutureWarning:\n",
      "\n",
      "Default multi_class will be changed to 'auto' in 0.22. Specify the multi_class option to silence this warning.\n",
      "\n"
     ]
    },
    {
     "name": "stdout",
     "output_type": "stream",
     "text": [
      "f1 score: 0.92\n",
      "null accuracy: 54.00%\n",
      "accuracy score: 92.97%\n",
      "model is 38.97% more accurate than null accuracy\n",
      "train and test time: 9.82s\n",
      "--------------------------------------------------------------------------------\n",
      "Validation result for 8000 features\n"
     ]
    },
    {
     "name": "stderr",
     "output_type": "stream",
     "text": [
      "/Users/madhukumar/anaconda3/lib/python3.7/site-packages/sklearn/linear_model/logistic.py:432: FutureWarning:\n",
      "\n",
      "Default solver will be changed to 'lbfgs' in 0.22. Specify a solver to silence this warning.\n",
      "\n",
      "/Users/madhukumar/anaconda3/lib/python3.7/site-packages/sklearn/linear_model/logistic.py:469: FutureWarning:\n",
      "\n",
      "Default multi_class will be changed to 'auto' in 0.22. Specify the multi_class option to silence this warning.\n",
      "\n"
     ]
    },
    {
     "name": "stdout",
     "output_type": "stream",
     "text": [
      "f1 score: 0.91\n",
      "null accuracy: 54.00%\n",
      "accuracy score: 92.68%\n",
      "model is 38.68% more accurate than null accuracy\n",
      "train and test time: 9.82s\n",
      "--------------------------------------------------------------------------------\n",
      "Validation result for 9000 features\n"
     ]
    },
    {
     "name": "stderr",
     "output_type": "stream",
     "text": [
      "/Users/madhukumar/anaconda3/lib/python3.7/site-packages/sklearn/linear_model/logistic.py:432: FutureWarning:\n",
      "\n",
      "Default solver will be changed to 'lbfgs' in 0.22. Specify a solver to silence this warning.\n",
      "\n",
      "/Users/madhukumar/anaconda3/lib/python3.7/site-packages/sklearn/linear_model/logistic.py:469: FutureWarning:\n",
      "\n",
      "Default multi_class will be changed to 'auto' in 0.22. Specify the multi_class option to silence this warning.\n",
      "\n"
     ]
    },
    {
     "name": "stdout",
     "output_type": "stream",
     "text": [
      "f1 score: 0.92\n",
      "null accuracy: 54.00%\n",
      "accuracy score: 92.83%\n",
      "model is 38.83% more accurate than null accuracy\n",
      "train and test time: 10.32s\n",
      "--------------------------------------------------------------------------------\n",
      "Validation result for 10000 features\n"
     ]
    },
    {
     "name": "stderr",
     "output_type": "stream",
     "text": [
      "/Users/madhukumar/anaconda3/lib/python3.7/site-packages/sklearn/linear_model/logistic.py:432: FutureWarning:\n",
      "\n",
      "Default solver will be changed to 'lbfgs' in 0.22. Specify a solver to silence this warning.\n",
      "\n",
      "/Users/madhukumar/anaconda3/lib/python3.7/site-packages/sklearn/linear_model/logistic.py:469: FutureWarning:\n",
      "\n",
      "Default multi_class will be changed to 'auto' in 0.22. Specify the multi_class option to silence this warning.\n",
      "\n"
     ]
    },
    {
     "name": "stdout",
     "output_type": "stream",
     "text": [
      "f1 score: 0.92\n",
      "null accuracy: 54.00%\n",
      "accuracy score: 92.68%\n",
      "model is 38.68% more accurate than null accuracy\n",
      "train and test time: 11.34s\n",
      "--------------------------------------------------------------------------------\n",
      "CPU times: user 1min 30s, sys: 1.39 s, total: 1min 31s\n",
      "Wall time: 1min 35s\n"
     ]
    }
   ],
   "source": [
    "%%time\n",
    "print (\"RESULT FOR UNIGRAM WITH STOP WORDS (CountVectorizer)\\n\")\n",
    "feature_result_ugc = nfeature_accuracy_checker(vectorizer=cvec)"
   ]
  },
  {
   "cell_type": "code",
   "execution_count": 122,
   "metadata": {},
   "outputs": [],
   "source": [
    "hvec = HashingVectorizer()"
   ]
  },
  {
   "cell_type": "code",
   "execution_count": 182,
   "metadata": {},
   "outputs": [
    {
     "name": "stdout",
     "output_type": "stream",
     "text": [
      "RESULT FOR UNIGRAM WITH STOP WORDS (Hashing)\n",
      "\n",
      "LogisticRegression(C=1.0, class_weight=None, dual=False, fit_intercept=True,\n",
      "          intercept_scaling=1, max_iter=100, multi_class='warn',\n",
      "          n_jobs=None, penalty='l2', random_state=None, solver='warn',\n",
      "          tol=0.0001, verbose=0, warm_start=False)\n",
      "\n",
      "\n",
      "Validation result for 1000 features\n"
     ]
    },
    {
     "name": "stderr",
     "output_type": "stream",
     "text": [
      "/anaconda3/lib/python3.7/site-packages/sklearn/linear_model/logistic.py:433: FutureWarning:\n",
      "\n",
      "Default solver will be changed to 'lbfgs' in 0.22. Specify a solver to silence this warning.\n",
      "\n",
      "/anaconda3/lib/python3.7/site-packages/sklearn/linear_model/logistic.py:460: FutureWarning:\n",
      "\n",
      "Default multi_class will be changed to 'auto' in 0.22. Specify the multi_class option to silence this warning.\n",
      "\n"
     ]
    },
    {
     "name": "stdout",
     "output_type": "stream",
     "text": [
      "null accuracy: 54.00%\n",
      "accuracy score: 86.03%\n",
      "model is 32.03% more accurate than null accuracy\n",
      "train and test time: 1.02s\n",
      "--------------------------------------------------------------------------------\n",
      "Validation result for 2000 features\n",
      "null accuracy: 54.00%\n",
      "accuracy score: 87.07%\n",
      "model is 33.07% more accurate than null accuracy\n",
      "train and test time: 1.00s\n",
      "--------------------------------------------------------------------------------\n",
      "Validation result for 3000 features\n",
      "null accuracy: 54.00%\n",
      "accuracy score: 91.21%\n",
      "model is 37.21% more accurate than null accuracy\n",
      "train and test time: 0.82s\n",
      "--------------------------------------------------------------------------------\n",
      "Validation result for 4000 features\n",
      "null accuracy: 54.00%\n",
      "accuracy score: 91.03%\n",
      "model is 37.03% more accurate than null accuracy\n",
      "train and test time: 0.65s\n",
      "--------------------------------------------------------------------------------\n",
      "Validation result for 5000 features\n",
      "null accuracy: 54.00%\n",
      "accuracy score: 91.21%\n",
      "model is 37.21% more accurate than null accuracy\n",
      "train and test time: 0.79s\n",
      "--------------------------------------------------------------------------------\n",
      "Validation result for 6000 features\n",
      "null accuracy: 54.00%\n",
      "accuracy score: 91.90%\n",
      "model is 37.90% more accurate than null accuracy\n",
      "train and test time: 1.05s\n",
      "--------------------------------------------------------------------------------\n",
      "Validation result for 7000 features\n",
      "null accuracy: 54.00%\n",
      "accuracy score: 93.10%\n",
      "model is 39.10% more accurate than null accuracy\n",
      "train and test time: 0.75s\n",
      "--------------------------------------------------------------------------------\n",
      "Validation result for 8000 features\n",
      "null accuracy: 54.00%\n",
      "accuracy score: 93.10%\n",
      "model is 39.10% more accurate than null accuracy\n",
      "train and test time: 0.73s\n",
      "--------------------------------------------------------------------------------\n",
      "Validation result for 9000 features\n",
      "null accuracy: 54.00%\n",
      "accuracy score: 92.07%\n",
      "model is 38.07% more accurate than null accuracy\n",
      "train and test time: 0.65s\n",
      "--------------------------------------------------------------------------------\n",
      "Validation result for 10000 features\n",
      "null accuracy: 54.00%\n",
      "accuracy score: 91.21%\n",
      "model is 37.21% more accurate than null accuracy\n",
      "train and test time: 0.68s\n",
      "--------------------------------------------------------------------------------\n",
      "CPU times: user 9.57 s, sys: 132 ms, total: 9.7 s\n",
      "Wall time: 8.15 s\n"
     ]
    }
   ],
   "source": [
    "%%time\n",
    "print (\"RESULT FOR UNIGRAM WITH STOP WORDS (Hashing)\\n\")\n",
    "feature_result_ugh = nfeature_accuracy_checker_forhash(vectorizer=hvec)"
   ]
  },
  {
   "cell_type": "code",
   "execution_count": 183,
   "metadata": {},
   "outputs": [
    {
     "name": "stdout",
     "output_type": "stream",
     "text": [
      "RESULT FOR BIGRAMS WITH STOP WORDS (Tfidf)\n",
      "\n",
      "LogisticRegression(C=1.0, class_weight=None, dual=False, fit_intercept=True,\n",
      "          intercept_scaling=1, max_iter=100, multi_class='warn',\n",
      "          n_jobs=None, penalty='l2', random_state=None, solver='warn',\n",
      "          tol=0.0001, verbose=0, warm_start=False)\n",
      "\n",
      "\n",
      "Validation result for 1000 features\n"
     ]
    },
    {
     "name": "stderr",
     "output_type": "stream",
     "text": [
      "/anaconda3/lib/python3.7/site-packages/sklearn/linear_model/logistic.py:433: FutureWarning:\n",
      "\n",
      "Default solver will be changed to 'lbfgs' in 0.22. Specify a solver to silence this warning.\n",
      "\n",
      "/anaconda3/lib/python3.7/site-packages/sklearn/linear_model/logistic.py:460: FutureWarning:\n",
      "\n",
      "Default multi_class will be changed to 'auto' in 0.22. Specify the multi_class option to silence this warning.\n",
      "\n"
     ]
    },
    {
     "name": "stdout",
     "output_type": "stream",
     "text": [
      "null accuracy: 54.00%\n",
      "accuracy score: 91.38%\n",
      "model is 37.38% more accurate than null accuracy\n",
      "train and test time: 1.24s\n",
      "--------------------------------------------------------------------------------\n",
      "Validation result for 2000 features\n",
      "null accuracy: 54.00%\n",
      "accuracy score: 93.28%\n",
      "model is 39.28% more accurate than null accuracy\n",
      "train and test time: 0.98s\n",
      "--------------------------------------------------------------------------------\n",
      "Validation result for 3000 features\n",
      "null accuracy: 54.00%\n",
      "accuracy score: 93.79%\n",
      "model is 39.79% more accurate than null accuracy\n",
      "train and test time: 1.06s\n",
      "--------------------------------------------------------------------------------\n",
      "Validation result for 4000 features\n",
      "null accuracy: 54.00%\n",
      "accuracy score: 93.79%\n",
      "model is 39.79% more accurate than null accuracy\n",
      "train and test time: 1.09s\n",
      "--------------------------------------------------------------------------------\n",
      "Validation result for 5000 features\n",
      "null accuracy: 54.00%\n",
      "accuracy score: 93.97%\n",
      "model is 39.97% more accurate than null accuracy\n",
      "train and test time: 1.25s\n",
      "--------------------------------------------------------------------------------\n",
      "Validation result for 6000 features\n",
      "null accuracy: 54.00%\n",
      "accuracy score: 93.97%\n",
      "model is 39.97% more accurate than null accuracy\n",
      "train and test time: 1.24s\n",
      "--------------------------------------------------------------------------------\n",
      "Validation result for 7000 features\n",
      "null accuracy: 54.00%\n",
      "accuracy score: 93.97%\n",
      "model is 39.97% more accurate than null accuracy\n",
      "train and test time: 0.96s\n",
      "--------------------------------------------------------------------------------\n",
      "Validation result for 8000 features\n",
      "null accuracy: 54.00%\n",
      "accuracy score: 93.97%\n",
      "model is 39.97% more accurate than null accuracy\n",
      "train and test time: 1.15s\n",
      "--------------------------------------------------------------------------------\n",
      "Validation result for 9000 features\n",
      "null accuracy: 54.00%\n",
      "accuracy score: 93.79%\n",
      "model is 39.79% more accurate than null accuracy\n",
      "train and test time: 1.26s\n",
      "--------------------------------------------------------------------------------\n",
      "Validation result for 10000 features\n",
      "null accuracy: 54.00%\n",
      "accuracy score: 93.97%\n",
      "model is 39.97% more accurate than null accuracy\n",
      "train and test time: 1.03s\n",
      "--------------------------------------------------------------------------------\n",
      "CPU times: user 12.6 s, sys: 282 ms, total: 12.9 s\n",
      "Wall time: 11.3 s\n"
     ]
    }
   ],
   "source": [
    "%%time\n",
    "print (\"RESULT FOR BIGRAMS WITH STOP WORDS (Tfidf)\\n\")\n",
    "feature_result_bgt = nfeature_accuracy_checker(vectorizer=tvec,ngram_range=(1, 2))"
   ]
  },
  {
   "cell_type": "code",
   "execution_count": 184,
   "metadata": {},
   "outputs": [
    {
     "name": "stdout",
     "output_type": "stream",
     "text": [
      "RESULT FOR BIGRAMS WITH STOP WORDS (CountVectorizer)\n",
      "\n",
      "LogisticRegression(C=1.0, class_weight=None, dual=False, fit_intercept=True,\n",
      "          intercept_scaling=1, max_iter=100, multi_class='warn',\n",
      "          n_jobs=None, penalty='l2', random_state=None, solver='warn',\n",
      "          tol=0.0001, verbose=0, warm_start=False)\n",
      "\n",
      "\n",
      "Validation result for 1000 features\n"
     ]
    },
    {
     "name": "stderr",
     "output_type": "stream",
     "text": [
      "/anaconda3/lib/python3.7/site-packages/sklearn/linear_model/logistic.py:433: FutureWarning:\n",
      "\n",
      "Default solver will be changed to 'lbfgs' in 0.22. Specify a solver to silence this warning.\n",
      "\n",
      "/anaconda3/lib/python3.7/site-packages/sklearn/linear_model/logistic.py:460: FutureWarning:\n",
      "\n",
      "Default multi_class will be changed to 'auto' in 0.22. Specify the multi_class option to silence this warning.\n",
      "\n"
     ]
    },
    {
     "name": "stdout",
     "output_type": "stream",
     "text": [
      "null accuracy: 54.00%\n",
      "accuracy score: 92.24%\n",
      "model is 38.24% more accurate than null accuracy\n",
      "train and test time: 1.20s\n",
      "--------------------------------------------------------------------------------\n",
      "Validation result for 2000 features\n",
      "null accuracy: 54.00%\n",
      "accuracy score: 94.14%\n",
      "model is 40.14% more accurate than null accuracy\n",
      "train and test time: 1.05s\n",
      "--------------------------------------------------------------------------------\n",
      "Validation result for 3000 features\n",
      "null accuracy: 54.00%\n",
      "accuracy score: 94.66%\n",
      "model is 40.66% more accurate than null accuracy\n",
      "train and test time: 1.04s\n",
      "--------------------------------------------------------------------------------\n",
      "Validation result for 4000 features\n",
      "null accuracy: 54.00%\n",
      "accuracy score: 95.17%\n",
      "model is 41.17% more accurate than null accuracy\n",
      "train and test time: 1.07s\n",
      "--------------------------------------------------------------------------------\n",
      "Validation result for 5000 features\n",
      "null accuracy: 54.00%\n",
      "accuracy score: 95.17%\n",
      "model is 41.17% more accurate than null accuracy\n",
      "train and test time: 1.42s\n",
      "--------------------------------------------------------------------------------\n",
      "Validation result for 6000 features\n",
      "null accuracy: 54.00%\n",
      "accuracy score: 95.34%\n",
      "model is 41.34% more accurate than null accuracy\n",
      "train and test time: 1.39s\n",
      "--------------------------------------------------------------------------------\n",
      "Validation result for 7000 features\n",
      "null accuracy: 54.00%\n",
      "accuracy score: 96.03%\n",
      "model is 42.03% more accurate than null accuracy\n",
      "train and test time: 1.44s\n",
      "--------------------------------------------------------------------------------\n",
      "Validation result for 8000 features\n",
      "null accuracy: 54.00%\n",
      "accuracy score: 96.03%\n",
      "model is 42.03% more accurate than null accuracy\n",
      "train and test time: 1.45s\n",
      "--------------------------------------------------------------------------------\n",
      "Validation result for 9000 features\n",
      "null accuracy: 54.00%\n",
      "accuracy score: 96.03%\n",
      "model is 42.03% more accurate than null accuracy\n",
      "train and test time: 1.46s\n",
      "--------------------------------------------------------------------------------\n",
      "Validation result for 10000 features\n",
      "null accuracy: 54.00%\n",
      "accuracy score: 96.03%\n",
      "model is 42.03% more accurate than null accuracy\n",
      "train and test time: 1.81s\n",
      "--------------------------------------------------------------------------------\n",
      "CPU times: user 15.7 s, sys: 254 ms, total: 15.9 s\n",
      "Wall time: 13.4 s\n"
     ]
    }
   ],
   "source": [
    "%%time\n",
    "print (\"RESULT FOR BIGRAMS WITH STOP WORDS (CountVectorizer)\\n\")\n",
    "feature_result_bgc = nfeature_accuracy_checker(vectorizer=cvec,ngram_range=(1, 2))"
   ]
  },
  {
   "cell_type": "code",
   "execution_count": 185,
   "metadata": {},
   "outputs": [
    {
     "name": "stdout",
     "output_type": "stream",
     "text": [
      "RESULT FOR BIGRAMS WITH STOP WORDS (Hashing)\n",
      "\n",
      "LogisticRegression(C=1.0, class_weight=None, dual=False, fit_intercept=True,\n",
      "          intercept_scaling=1, max_iter=100, multi_class='warn',\n",
      "          n_jobs=None, penalty='l2', random_state=None, solver='warn',\n",
      "          tol=0.0001, verbose=0, warm_start=False)\n",
      "\n",
      "\n",
      "Validation result for 1000 features\n"
     ]
    },
    {
     "name": "stderr",
     "output_type": "stream",
     "text": [
      "/anaconda3/lib/python3.7/site-packages/sklearn/linear_model/logistic.py:433: FutureWarning:\n",
      "\n",
      "Default solver will be changed to 'lbfgs' in 0.22. Specify a solver to silence this warning.\n",
      "\n",
      "/anaconda3/lib/python3.7/site-packages/sklearn/linear_model/logistic.py:460: FutureWarning:\n",
      "\n",
      "Default multi_class will be changed to 'auto' in 0.22. Specify the multi_class option to silence this warning.\n",
      "\n"
     ]
    },
    {
     "name": "stdout",
     "output_type": "stream",
     "text": [
      "null accuracy: 54.00%\n",
      "accuracy score: 85.34%\n",
      "model is 31.34% more accurate than null accuracy\n",
      "train and test time: 1.00s\n",
      "--------------------------------------------------------------------------------\n",
      "Validation result for 2000 features\n",
      "null accuracy: 54.00%\n",
      "accuracy score: 87.07%\n",
      "model is 33.07% more accurate than null accuracy\n",
      "train and test time: 1.12s\n",
      "--------------------------------------------------------------------------------\n",
      "Validation result for 3000 features\n",
      "null accuracy: 54.00%\n",
      "accuracy score: 89.83%\n",
      "model is 35.83% more accurate than null accuracy\n",
      "train and test time: 0.88s\n",
      "--------------------------------------------------------------------------------\n",
      "Validation result for 4000 features\n",
      "null accuracy: 54.00%\n",
      "accuracy score: 89.66%\n",
      "model is 35.66% more accurate than null accuracy\n",
      "train and test time: 0.94s\n",
      "--------------------------------------------------------------------------------\n",
      "Validation result for 5000 features\n",
      "null accuracy: 54.00%\n",
      "accuracy score: 90.00%\n",
      "model is 36.00% more accurate than null accuracy\n",
      "train and test time: 1.06s\n",
      "--------------------------------------------------------------------------------\n",
      "Validation result for 6000 features\n",
      "null accuracy: 54.00%\n",
      "accuracy score: 91.55%\n",
      "model is 37.55% more accurate than null accuracy\n",
      "train and test time: 0.96s\n",
      "--------------------------------------------------------------------------------\n",
      "Validation result for 7000 features\n",
      "null accuracy: 54.00%\n",
      "accuracy score: 92.41%\n",
      "model is 38.41% more accurate than null accuracy\n",
      "train and test time: 0.97s\n",
      "--------------------------------------------------------------------------------\n",
      "Validation result for 8000 features\n",
      "null accuracy: 54.00%\n",
      "accuracy score: 91.55%\n",
      "model is 37.55% more accurate than null accuracy\n",
      "train and test time: 0.97s\n",
      "--------------------------------------------------------------------------------\n",
      "Validation result for 9000 features\n",
      "null accuracy: 54.00%\n",
      "accuracy score: 91.21%\n",
      "model is 37.21% more accurate than null accuracy\n",
      "train and test time: 0.93s\n",
      "--------------------------------------------------------------------------------\n",
      "Validation result for 10000 features\n",
      "null accuracy: 54.00%\n",
      "accuracy score: 90.69%\n",
      "model is 36.69% more accurate than null accuracy\n",
      "train and test time: 1.04s\n",
      "--------------------------------------------------------------------------------\n",
      "CPU times: user 11.9 s, sys: 148 ms, total: 12 s\n",
      "Wall time: 9.89 s\n"
     ]
    }
   ],
   "source": [
    "%%time\n",
    "print (\"RESULT FOR BIGRAMS WITH STOP WORDS (Hashing)\\n\")\n",
    "feature_result_bgh = nfeature_accuracy_checker_forhash(vectorizer=hvec,ngram_range=(1, 2))"
   ]
  },
  {
   "cell_type": "code",
   "execution_count": 186,
   "metadata": {},
   "outputs": [
    {
     "name": "stdout",
     "output_type": "stream",
     "text": [
      "RESULT FOR TRIGRAM WITH STOP WORDS (Tfidf)\n",
      "\n",
      "LogisticRegression(C=1.0, class_weight=None, dual=False, fit_intercept=True,\n",
      "          intercept_scaling=1, max_iter=100, multi_class='warn',\n",
      "          n_jobs=None, penalty='l2', random_state=None, solver='warn',\n",
      "          tol=0.0001, verbose=0, warm_start=False)\n",
      "\n",
      "\n",
      "Validation result for 1000 features\n"
     ]
    },
    {
     "name": "stderr",
     "output_type": "stream",
     "text": [
      "/anaconda3/lib/python3.7/site-packages/sklearn/linear_model/logistic.py:433: FutureWarning:\n",
      "\n",
      "Default solver will be changed to 'lbfgs' in 0.22. Specify a solver to silence this warning.\n",
      "\n",
      "/anaconda3/lib/python3.7/site-packages/sklearn/linear_model/logistic.py:460: FutureWarning:\n",
      "\n",
      "Default multi_class will be changed to 'auto' in 0.22. Specify the multi_class option to silence this warning.\n",
      "\n"
     ]
    },
    {
     "name": "stdout",
     "output_type": "stream",
     "text": [
      "null accuracy: 54.00%\n",
      "accuracy score: 91.55%\n",
      "model is 37.55% more accurate than null accuracy\n",
      "train and test time: 1.41s\n",
      "--------------------------------------------------------------------------------\n",
      "Validation result for 2000 features\n",
      "null accuracy: 54.00%\n",
      "accuracy score: 93.28%\n",
      "model is 39.28% more accurate than null accuracy\n",
      "train and test time: 1.25s\n",
      "--------------------------------------------------------------------------------\n",
      "Validation result for 3000 features\n",
      "null accuracy: 54.00%\n",
      "accuracy score: 93.62%\n",
      "model is 39.62% more accurate than null accuracy\n",
      "train and test time: 1.89s\n",
      "--------------------------------------------------------------------------------\n",
      "Validation result for 4000 features\n",
      "null accuracy: 54.00%\n",
      "accuracy score: 93.62%\n",
      "model is 39.62% more accurate than null accuracy\n",
      "train and test time: 1.17s\n",
      "--------------------------------------------------------------------------------\n",
      "Validation result for 5000 features\n",
      "null accuracy: 54.00%\n",
      "accuracy score: 93.79%\n",
      "model is 39.79% more accurate than null accuracy\n",
      "train and test time: 1.11s\n",
      "--------------------------------------------------------------------------------\n",
      "Validation result for 6000 features\n",
      "null accuracy: 54.00%\n",
      "accuracy score: 93.97%\n",
      "model is 39.97% more accurate than null accuracy\n",
      "train and test time: 1.11s\n",
      "--------------------------------------------------------------------------------\n",
      "Validation result for 7000 features\n",
      "null accuracy: 54.00%\n",
      "accuracy score: 93.97%\n",
      "model is 39.97% more accurate than null accuracy\n",
      "train and test time: 1.15s\n",
      "--------------------------------------------------------------------------------\n",
      "Validation result for 8000 features\n",
      "null accuracy: 54.00%\n",
      "accuracy score: 93.97%\n",
      "model is 39.97% more accurate than null accuracy\n",
      "train and test time: 1.15s\n",
      "--------------------------------------------------------------------------------\n",
      "Validation result for 9000 features\n",
      "null accuracy: 54.00%\n",
      "accuracy score: 93.97%\n",
      "model is 39.97% more accurate than null accuracy\n",
      "train and test time: 1.17s\n",
      "--------------------------------------------------------------------------------\n",
      "Validation result for 10000 features\n",
      "null accuracy: 54.00%\n",
      "accuracy score: 93.97%\n",
      "model is 39.97% more accurate than null accuracy\n",
      "train and test time: 1.70s\n",
      "--------------------------------------------------------------------------------\n",
      "CPU times: user 14.6 s, sys: 325 ms, total: 14.9 s\n",
      "Wall time: 13.1 s\n"
     ]
    }
   ],
   "source": [
    "%%time\n",
    "print (\"RESULT FOR TRIGRAM WITH STOP WORDS (Tfidf)\\n\")\n",
    "feature_result_tgt = nfeature_accuracy_checker(vectorizer=tvec,ngram_range=(1, 3))"
   ]
  },
  {
   "cell_type": "code",
   "execution_count": 187,
   "metadata": {},
   "outputs": [
    {
     "name": "stdout",
     "output_type": "stream",
     "text": [
      "RESULT FOR TRIGRAM WITH STOP WORDS (CountVectorizer)\n",
      "\n",
      "LogisticRegression(C=1.0, class_weight=None, dual=False, fit_intercept=True,\n",
      "          intercept_scaling=1, max_iter=100, multi_class='warn',\n",
      "          n_jobs=None, penalty='l2', random_state=None, solver='warn',\n",
      "          tol=0.0001, verbose=0, warm_start=False)\n",
      "\n",
      "\n",
      "Validation result for 1000 features\n"
     ]
    },
    {
     "name": "stderr",
     "output_type": "stream",
     "text": [
      "/anaconda3/lib/python3.7/site-packages/sklearn/linear_model/logistic.py:433: FutureWarning:\n",
      "\n",
      "Default solver will be changed to 'lbfgs' in 0.22. Specify a solver to silence this warning.\n",
      "\n",
      "/anaconda3/lib/python3.7/site-packages/sklearn/linear_model/logistic.py:460: FutureWarning:\n",
      "\n",
      "Default multi_class will be changed to 'auto' in 0.22. Specify the multi_class option to silence this warning.\n",
      "\n"
     ]
    },
    {
     "name": "stdout",
     "output_type": "stream",
     "text": [
      "null accuracy: 54.00%\n",
      "accuracy score: 92.07%\n",
      "model is 38.07% more accurate than null accuracy\n",
      "train and test time: 1.54s\n",
      "--------------------------------------------------------------------------------\n",
      "Validation result for 2000 features\n",
      "null accuracy: 54.00%\n",
      "accuracy score: 94.31%\n",
      "model is 40.31% more accurate than null accuracy\n",
      "train and test time: 1.23s\n",
      "--------------------------------------------------------------------------------\n",
      "Validation result for 3000 features\n",
      "null accuracy: 54.00%\n",
      "accuracy score: 94.48%\n",
      "model is 40.48% more accurate than null accuracy\n",
      "train and test time: 1.31s\n",
      "--------------------------------------------------------------------------------\n",
      "Validation result for 4000 features\n",
      "null accuracy: 54.00%\n",
      "accuracy score: 94.83%\n",
      "model is 40.83% more accurate than null accuracy\n",
      "train and test time: 1.27s\n",
      "--------------------------------------------------------------------------------\n",
      "Validation result for 5000 features\n",
      "null accuracy: 54.00%\n",
      "accuracy score: 95.00%\n",
      "model is 41.00% more accurate than null accuracy\n",
      "train and test time: 1.29s\n",
      "--------------------------------------------------------------------------------\n",
      "Validation result for 6000 features\n",
      "null accuracy: 54.00%\n",
      "accuracy score: 95.00%\n",
      "model is 41.00% more accurate than null accuracy\n",
      "train and test time: 1.40s\n",
      "--------------------------------------------------------------------------------\n",
      "Validation result for 7000 features\n",
      "null accuracy: 54.00%\n",
      "accuracy score: 95.34%\n",
      "model is 41.34% more accurate than null accuracy\n",
      "train and test time: 1.38s\n",
      "--------------------------------------------------------------------------------\n",
      "Validation result for 8000 features\n",
      "null accuracy: 54.00%\n",
      "accuracy score: 95.86%\n",
      "model is 41.86% more accurate than null accuracy\n",
      "train and test time: 2.14s\n",
      "--------------------------------------------------------------------------------\n",
      "Validation result for 9000 features\n",
      "null accuracy: 54.00%\n",
      "accuracy score: 96.03%\n",
      "model is 42.03% more accurate than null accuracy\n",
      "train and test time: 1.51s\n",
      "--------------------------------------------------------------------------------\n",
      "Validation result for 10000 features\n",
      "null accuracy: 54.00%\n",
      "accuracy score: 96.03%\n",
      "model is 42.03% more accurate than null accuracy\n",
      "train and test time: 1.77s\n",
      "--------------------------------------------------------------------------------\n",
      "CPU times: user 18 s, sys: 322 ms, total: 18.3 s\n",
      "Wall time: 14.8 s\n"
     ]
    }
   ],
   "source": [
    "%%time\n",
    "print (\"RESULT FOR TRIGRAM WITH STOP WORDS (CountVectorizer)\\n\")\n",
    "feature_result_tgc = nfeature_accuracy_checker(vectorizer=cvec,ngram_range=(1, 3))"
   ]
  },
  {
   "cell_type": "code",
   "execution_count": 188,
   "metadata": {},
   "outputs": [
    {
     "name": "stdout",
     "output_type": "stream",
     "text": [
      "RESULT FOR TRIGRAM WITH STOP WORDS (Hashing)\n",
      "\n",
      "LogisticRegression(C=1.0, class_weight=None, dual=False, fit_intercept=True,\n",
      "          intercept_scaling=1, max_iter=100, multi_class='warn',\n",
      "          n_jobs=None, penalty='l2', random_state=None, solver='warn',\n",
      "          tol=0.0001, verbose=0, warm_start=False)\n",
      "\n",
      "\n",
      "Validation result for 1000 features\n"
     ]
    },
    {
     "name": "stderr",
     "output_type": "stream",
     "text": [
      "/anaconda3/lib/python3.7/site-packages/sklearn/linear_model/logistic.py:433: FutureWarning:\n",
      "\n",
      "Default solver will be changed to 'lbfgs' in 0.22. Specify a solver to silence this warning.\n",
      "\n",
      "/anaconda3/lib/python3.7/site-packages/sklearn/linear_model/logistic.py:460: FutureWarning:\n",
      "\n",
      "Default multi_class will be changed to 'auto' in 0.22. Specify the multi_class option to silence this warning.\n",
      "\n"
     ]
    },
    {
     "name": "stdout",
     "output_type": "stream",
     "text": [
      "null accuracy: 54.00%\n",
      "accuracy score: 84.31%\n",
      "model is 30.31% more accurate than null accuracy\n",
      "train and test time: 1.10s\n",
      "--------------------------------------------------------------------------------\n",
      "Validation result for 2000 features\n",
      "null accuracy: 54.00%\n",
      "accuracy score: 85.00%\n",
      "model is 31.00% more accurate than null accuracy\n",
      "train and test time: 1.26s\n",
      "--------------------------------------------------------------------------------\n",
      "Validation result for 3000 features\n",
      "null accuracy: 54.00%\n",
      "accuracy score: 88.79%\n",
      "model is 34.79% more accurate than null accuracy\n",
      "train and test time: 0.86s\n",
      "--------------------------------------------------------------------------------\n",
      "Validation result for 4000 features\n",
      "null accuracy: 54.00%\n",
      "accuracy score: 87.93%\n",
      "model is 33.93% more accurate than null accuracy\n",
      "train and test time: 0.90s\n",
      "--------------------------------------------------------------------------------\n",
      "Validation result for 5000 features\n",
      "null accuracy: 54.00%\n",
      "accuracy score: 89.83%\n",
      "model is 35.83% more accurate than null accuracy\n",
      "train and test time: 1.11s\n",
      "--------------------------------------------------------------------------------\n",
      "Validation result for 6000 features\n",
      "null accuracy: 54.00%\n",
      "accuracy score: 90.17%\n",
      "model is 36.17% more accurate than null accuracy\n",
      "train and test time: 1.21s\n",
      "--------------------------------------------------------------------------------\n",
      "Validation result for 7000 features\n",
      "null accuracy: 54.00%\n",
      "accuracy score: 90.86%\n",
      "model is 36.86% more accurate than null accuracy\n",
      "train and test time: 1.13s\n",
      "--------------------------------------------------------------------------------\n",
      "Validation result for 8000 features\n",
      "null accuracy: 54.00%\n",
      "accuracy score: 90.69%\n",
      "model is 36.69% more accurate than null accuracy\n",
      "train and test time: 0.98s\n",
      "--------------------------------------------------------------------------------\n",
      "Validation result for 9000 features\n",
      "null accuracy: 54.00%\n",
      "accuracy score: 90.69%\n",
      "model is 36.69% more accurate than null accuracy\n",
      "train and test time: 0.98s\n",
      "--------------------------------------------------------------------------------\n",
      "Validation result for 10000 features\n",
      "null accuracy: 54.00%\n",
      "accuracy score: 90.52%\n",
      "model is 36.52% more accurate than null accuracy\n",
      "train and test time: 0.97s\n",
      "--------------------------------------------------------------------------------\n",
      "CPU times: user 13.1 s, sys: 159 ms, total: 13.2 s\n",
      "Wall time: 10.5 s\n"
     ]
    }
   ],
   "source": [
    "%%time\n",
    "print (\"RESULT FOR TRIGRAM WITH STOP WORDS (Hashing)\\n\")\n",
    "feature_result_tgh = nfeature_accuracy_checker_forhash(vectorizer=hvec,ngram_range=(1, 3))"
   ]
  },
  {
   "cell_type": "code",
   "execution_count": 201,
   "metadata": {},
   "outputs": [
    {
     "data": {
      "text/plain": [
       "<matplotlib.legend.Legend at 0x1c415b4320>"
      ]
     },
     "execution_count": 201,
     "metadata": {},
     "output_type": "execute_result"
    },
    {
     "data": {
      "image/png": "[encoded data removed]",
      "text/plain": [
       "<Figure size 576x432 with 1 Axes>"
      ]
     },
     "metadata": {},
     "output_type": "display_data"
    }
   ],
   "source": [
    "nfeatures_plot_tgt = pd.DataFrame(feature_result_tgt,columns=['nfeatures','validation_accuracy','train_test_time'])\n",
    "nfeatures_plot_bgt = pd.DataFrame(feature_result_bgt,columns=['nfeatures','validation_accuracy','train_test_time'])\n",
    "nfeatures_plot_ugt = pd.DataFrame(feature_result_ugt,columns=['nfeatures','validation_accuracy','train_test_time'])\n",
    "nfeatures_plot_tgc = pd.DataFrame(feature_result_tgc,columns=['nfeatures','validation_accuracy','train_test_time'])\n",
    "nfeatures_plot_bgc = pd.DataFrame(feature_result_bgc,columns=['nfeatures','validation_accuracy','train_test_time'])\n",
    "nfeatures_plot_ugc = pd.DataFrame(feature_result_ugc,columns=['nfeatures','validation_accuracy','train_test_time'])\n",
    "nfeatures_plot_tgh = pd.DataFrame(feature_result_tgh,columns=['nfeatures','validation_accuracy','train_test_time'])\n",
    "nfeatures_plot_bgh = pd.DataFrame(feature_result_bgh,columns=['nfeatures','validation_accuracy','train_test_time'])\n",
    "nfeatures_plot_ugh = pd.DataFrame(feature_result_ugh,columns=['nfeatures','validation_accuracy','train_test_time'])\n",
    "\n",
    "plt.figure(figsize=(8,6))\n",
    "plt.plot(nfeatures_plot_tgt.nfeatures, nfeatures_plot_tgt.validation_accuracy,label='trigram tfidf vectorizer',color='royalblue')\n",
    "plt.plot(nfeatures_plot_tgc.nfeatures, nfeatures_plot_tgc.validation_accuracy,label='trigram count vectorizer',\n",
    "         linestyle=':', color='royalblue')\n",
    "plt.plot(nfeatures_plot_tgh.nfeatures, nfeatures_plot_tgh.validation_accuracy,label='trigram hash vectorizer',\n",
    "         linestyle='--', color='royalblue')\n",
    "plt.plot(nfeatures_plot_bgt.nfeatures, nfeatures_plot_bgt.validation_accuracy,label='bigram tfidf vectorizer',color='magenta')\n",
    "plt.plot(nfeatures_plot_bgc.nfeatures, nfeatures_plot_bgc.validation_accuracy,label='bigram count vectorizer',\n",
    "         linestyle=':', color='magenta')\n",
    "plt.plot(nfeatures_plot_bgh.nfeatures, nfeatures_plot_bgh.validation_accuracy,label='bigram hash vectorizer',\n",
    "         linestyle='--', color='magenta')\n",
    "plt.plot(nfeatures_plot_ugt.nfeatures, nfeatures_plot_ugt.validation_accuracy, label='unigram tfidf vectorizer',color='gold')\n",
    "plt.plot(nfeatures_plot_ugc.nfeatures, nfeatures_plot_ugc.validation_accuracy, label='unigram count vectorizer',\n",
    "         linestyle=':', color='gold')\n",
    "plt.plot(nfeatures_plot_ugh.nfeatures, nfeatures_plot_ugh.validation_accuracy, label='unigram hash vectorizer',\n",
    "         linestyle='--', color='gold')\n",
    "\n",
    "plt.title(\"N-gram(1-3) test result : Accuracy\")\n",
    "plt.xlabel(\"Number of features\")\n",
    "plt.ylabel(\"Validation set accuracy\")\n",
    "plt.legend()"
   ]
  },
  {
   "cell_type": "markdown",
   "metadata": {},
   "source": [
    "# Model Comparison"
   ]
  },
  {
   "cell_type": "code",
   "execution_count": 221,
   "metadata": {},
   "outputs": [],
   "source": [
    "names = [\"Logistic Regression\", \"Random Forest Classifier\",\"Multinomial NB\", \n",
    "         \"Support Vector Machine\", \"XGBoost\"]\n",
    "\n",
    "classifiers = [\n",
    "    LogisticRegression(),\n",
    "    RandomForestClassifier(),\n",
    "    MultinomialNB(),\n",
    "    SVC(kernel='linear'),\n",
    "    XGBClassifier(),\n",
    "    ]\n",
    "\n",
    "zipped_clf = zip(names, classifiers)"
   ]
  },
  {
   "cell_type": "code",
   "execution_count": 222,
   "metadata": {},
   "outputs": [],
   "source": [
    "cvec = CountVectorizer()\n",
    "\n",
    "def classifier_comparator(vectorizer=cvec, n_features=10000, stop_words=stop, ngram_range=(1, 1), \n",
    "                          classifier=zipped_clf):\n",
    "    result = []\n",
    "    \n",
    "    vectorizer.set_params(stop_words=stop_words, max_features=n_features, ngram_range=ngram_range)\n",
    "    for n,c in classifier:\n",
    "        checker_pipeline = Pipeline([\n",
    "            ('vectorizer', vectorizer),\n",
    "            ('classifier', c)\n",
    "        ])\n",
    "        print (\"Validation result for {}\".format(n))\n",
    "        print (c)\n",
    "        clf_accuracy,tt_time = accuracy_summary(checker_pipeline, X_train, y_train, X_validation, y_validation)\n",
    "        result.append((n,clf_accuracy,tt_time))\n",
    "        \n",
    "    return result\n"
   ]
  },
  {
   "cell_type": "code",
   "execution_count": 223,
   "metadata": {},
   "outputs": [
    {
     "name": "stdout",
     "output_type": "stream",
     "text": [
      "Validation result for Logistic Regression\n",
      "LogisticRegression(C=1.0, class_weight=None, dual=False, fit_intercept=True,\n",
      "          intercept_scaling=1, max_iter=100, multi_class='warn',\n",
      "          n_jobs=None, penalty='l2', random_state=None, solver='warn',\n",
      "          tol=0.0001, verbose=0, warm_start=False)\n"
     ]
    },
    {
     "name": "stderr",
     "output_type": "stream",
     "text": [
      "/anaconda3/lib/python3.7/site-packages/sklearn/linear_model/logistic.py:433: FutureWarning:\n",
      "\n",
      "Default solver will be changed to 'lbfgs' in 0.22. Specify a solver to silence this warning.\n",
      "\n",
      "/anaconda3/lib/python3.7/site-packages/sklearn/linear_model/logistic.py:460: FutureWarning:\n",
      "\n",
      "Default multi_class will be changed to 'auto' in 0.22. Specify the multi_class option to silence this warning.\n",
      "\n"
     ]
    },
    {
     "name": "stdout",
     "output_type": "stream",
     "text": [
      "f1 score: 0.97\n",
      "null accuracy: 54.00%\n",
      "accuracy score: 96.90%\n",
      "model is 42.90% more accurate than null accuracy\n",
      "train and test time: 1.47s\n",
      "--------------------------------------------------------------------------------\n",
      "Validation result for Random Forest Classifier\n",
      "RandomForestClassifier(bootstrap=True, class_weight=None, criterion='gini',\n",
      "            max_depth=None, max_features='auto', max_leaf_nodes=None,\n",
      "            min_impurity_decrease=0.0, min_impurity_split=None,\n",
      "            min_samples_leaf=1, min_samples_split=2,\n",
      "            min_weight_fraction_leaf=0.0, n_estimators='warn', n_jobs=None,\n",
      "            oob_score=False, random_state=None, verbose=0,\n",
      "            warm_start=False)\n"
     ]
    },
    {
     "name": "stderr",
     "output_type": "stream",
     "text": [
      "/anaconda3/lib/python3.7/site-packages/sklearn/ensemble/forest.py:246: FutureWarning:\n",
      "\n",
      "The default value of n_estimators will change from 10 in version 0.20 to 100 in 0.22.\n",
      "\n"
     ]
    },
    {
     "name": "stdout",
     "output_type": "stream",
     "text": [
      "f1 score: 0.97\n",
      "null accuracy: 54.00%\n",
      "accuracy score: 96.90%\n",
      "model is 42.90% more accurate than null accuracy\n",
      "train and test time: 7.71s\n",
      "--------------------------------------------------------------------------------\n",
      "Validation result for Multinomial NB\n",
      "MultinomialNB(alpha=1.0, class_prior=None, fit_prior=True)\n",
      "f1 score: 0.88\n",
      "null accuracy: 54.00%\n",
      "accuracy score: 87.24%\n",
      "model is 33.24% more accurate than null accuracy\n",
      "train and test time: 0.61s\n",
      "--------------------------------------------------------------------------------\n",
      "Validation result for Support Vector Machine\n",
      "SVC(C=1.0, cache_size=200, class_weight=None, coef0=0.0,\n",
      "  decision_function_shape='ovr', degree=3, gamma='auto_deprecated',\n",
      "  kernel='linear', max_iter=-1, probability=False, random_state=None,\n",
      "  shrinking=True, tol=0.001, verbose=False)\n",
      "f1 score: 0.97\n",
      "null accuracy: 54.00%\n",
      "accuracy score: 97.24%\n",
      "model is 43.24% more accurate than null accuracy\n",
      "train and test time: 127.17s\n",
      "--------------------------------------------------------------------------------\n",
      "Validation result for XGBoost\n",
      "XGBClassifier(base_score=0.5, booster='gbtree', colsample_bylevel=1,\n",
      "       colsample_bytree=1, gamma=0, learning_rate=0.1, max_delta_step=0,\n",
      "       max_depth=3, min_child_weight=1, missing=None, n_estimators=100,\n",
      "       n_jobs=1, nthread=None, objective='binary:logistic', random_state=0,\n",
      "       reg_alpha=0, reg_lambda=1, scale_pos_weight=1, seed=None,\n",
      "       silent=True, subsample=1)\n",
      "f1 score: 0.80\n",
      "null accuracy: 54.00%\n",
      "accuracy score: 79.14%\n",
      "model is 25.14% more accurate than null accuracy\n",
      "train and test time: 38.18s\n",
      "--------------------------------------------------------------------------------\n",
      "CPU times: user 2min 51s, sys: 2.13 s, total: 2min 53s\n",
      "Wall time: 2min 55s\n"
     ]
    }
   ],
   "source": [
    "%%time\n",
    "bigram_result = classifier_comparator(n_features=100000,ngram_range=(1,2))"
   ]
  },
  {
   "cell_type": "markdown",
   "metadata": {},
   "source": [
    "Random Forest Classifier performs best"
   ]
  },
  {
   "cell_type": "code",
   "execution_count": 406,
   "metadata": {},
   "outputs": [
    {
     "name": "stderr",
     "output_type": "stream",
     "text": [
      "/anaconda3/lib/python3.7/site-packages/sklearn/ensemble/forest.py:246: FutureWarning:\n",
      "\n",
      "The default value of n_estimators will change from 10 in version 0.20 to 100 in 0.22.\n",
      "\n"
     ]
    },
    {
     "name": "stdout",
     "output_type": "stream",
     "text": [
      "0.9425633308251818\n",
      "              precision    recall  f1-score   support\n",
      "\n",
      "    negative       0.95      0.98      0.96      4423\n",
      "     neutral       0.92      0.94      0.93      3100\n",
      "    positive       0.96      0.90      0.93      4438\n",
      "\n",
      "   micro avg       0.94      0.94      0.94     11961\n",
      "   macro avg       0.94      0.94      0.94     11961\n",
      "weighted avg       0.94      0.94      0.94     11961\n",
      "\n"
     ]
    }
   ],
   "source": [
    "\n",
    "X = upsampled['text']\n",
    "y = upsampled['label']\n",
    "\n",
    "\n",
    "X_train, X_test, y_train, y_test = train_test_split(X, y, random_state=10)\n",
    "\n",
    "\n",
    "vect = CountVectorizer(stop_words=stop, tokenizer = word_tokenize, \n",
    "                                              analyzer=split_into_lemmas, max_features=10000, ngram_range=(1,2))\n",
    "\n",
    "\n",
    "X_train_dtm = vect.fit_transform(X_train)\n",
    "X_test_dtm = vect.transform(X_test)\n",
    "\n",
    "\n",
    "rf = RandomForestClassifier()\n",
    "rf.fit(X_train_dtm, y_train)\n",
    "y_pred_class = rf.predict(X_test_dtm)\n",
    "\n",
    "\n",
    "print((metrics.accuracy_score(y_test, y_pred_class)))\n",
    "print(classification_report(y_test, rf.predict(X_test_dtm)))"
   ]
  },
  {
   "cell_type": "code",
   "execution_count": 401,
   "metadata": {},
   "outputs": [
    {
     "data": {
      "image/png": "[encoded data removed]",
      "text/plain": [
       "<Figure size 720x720 with 1 Axes>"
      ]
     },
     "metadata": {},
     "output_type": "display_data"
    }
   ],
   "source": [
    "conmat = np.array(confusion_matrix(y_test, rf.predict(X_test_dtm)))\n",
    "\n",
    "confusion = pd.DataFrame(conmat, index=['neg', 'neu', 'pos'],\\\n",
    "                     columns=['Pred neg', 'Pred neu', 'Pred pos'])\n",
    "\n",
    "plt.figure(figsize = (10,10))\n",
    "heat = sns.heatmap(confusion, annot=True, annot_kws={\"size\": 20}, cmap='Blues',fmt='g', cbar=False)\n",
    "\n",
    "plt.xticks(rotation=0, fontsize=14)\n",
    "plt.yticks(fontsize=14)\n",
    "plt.title(\"Confusion Matrix\", fontsize=20)\n",
    "plt.style.use('dark_background');"
   ]
  }
 ],
 "metadata": {
  "kernelspec": {
   "display_name": "Python 3",
   "language": "python",
   "name": "python3"
  },
  "language_info": {
   "codemirror_mode": {
    "name": "ipython",
    "version": 3
   },
   "file_extension": ".py",
   "mimetype": "text/x-python",
   "name": "python",
   "nbconvert_exporter": "python",
   "pygments_lexer": "ipython3",
   "version": "3.7.3"
  }
 },
 "nbformat": 4,
 "nbformat_minor": 2
}
